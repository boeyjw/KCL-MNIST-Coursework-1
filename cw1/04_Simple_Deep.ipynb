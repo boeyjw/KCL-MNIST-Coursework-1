{
 "cells": [
  {
   "cell_type": "code",
   "execution_count": 1,
   "id": "fa46f7d0-0a07-4115-bd2f-82fe109b7704",
   "metadata": {
    "tags": []
   },
   "outputs": [],
   "source": [
    "%load_ext autoreload\n",
    "%autoreload 2"
   ]
  },
  {
   "cell_type": "code",
   "execution_count": 2,
   "id": "6da1f221-3754-439e-bd19-1f5a90b04db5",
   "metadata": {
    "tags": []
   },
   "outputs": [
    {
     "name": "stderr",
     "output_type": "stream",
     "text": [
      "2023-02-25 00:30:24.624394: I tensorflow/stream_executor/platform/default/dso_loader.cc:49] Successfully opened dynamic library libcudart.so.11.0\n",
      "2023-02-25 00:30:26.788506: I tensorflow/stream_executor/platform/default/dso_loader.cc:49] Successfully opened dynamic library libcuda.so.1\n",
      "2023-02-25 00:30:27.072036: I tensorflow/core/common_runtime/gpu/gpu_device.cc:1720] Found device 0 with properties: \n",
      "pciBusID: 0000:ca:00.0 name: NVIDIA A100-SXM4-40GB computeCapability: 8.0\n",
      "coreClock: 1.41GHz coreCount: 108 deviceMemorySize: 39.41GiB deviceMemoryBandwidth: 1.41TiB/s\n",
      "2023-02-25 00:30:27.072069: I tensorflow/stream_executor/platform/default/dso_loader.cc:49] Successfully opened dynamic library libcudart.so.11.0\n",
      "2023-02-25 00:30:27.075132: I tensorflow/stream_executor/platform/default/dso_loader.cc:49] Successfully opened dynamic library libcublas.so.11\n",
      "2023-02-25 00:30:27.075198: I tensorflow/stream_executor/platform/default/dso_loader.cc:49] Successfully opened dynamic library libcublasLt.so.11\n",
      "2023-02-25 00:30:27.076137: I tensorflow/stream_executor/platform/default/dso_loader.cc:49] Successfully opened dynamic library libcufft.so.10\n",
      "2023-02-25 00:30:27.076368: I tensorflow/stream_executor/platform/default/dso_loader.cc:49] Successfully opened dynamic library libcurand.so.10\n",
      "2023-02-25 00:30:27.079182: I tensorflow/stream_executor/platform/default/dso_loader.cc:49] Successfully opened dynamic library libcusolver.so.11\n",
      "2023-02-25 00:30:27.079821: I tensorflow/stream_executor/platform/default/dso_loader.cc:49] Successfully opened dynamic library libcusparse.so.11\n",
      "2023-02-25 00:30:27.079943: I tensorflow/stream_executor/platform/default/dso_loader.cc:49] Successfully opened dynamic library libcudnn.so.8\n",
      "2023-02-25 00:30:27.083555: I tensorflow/core/common_runtime/gpu/gpu_device.cc:1862] Adding visible gpu devices: 0\n",
      "2023-02-25 00:30:27.086487: I tensorflow/core/common_runtime/gpu/gpu_device.cc:1720] Found device 0 with properties: \n",
      "pciBusID: 0000:ca:00.0 name: NVIDIA A100-SXM4-40GB computeCapability: 8.0\n",
      "coreClock: 1.41GHz coreCount: 108 deviceMemorySize: 39.41GiB deviceMemoryBandwidth: 1.41TiB/s\n",
      "2023-02-25 00:30:27.086507: I tensorflow/stream_executor/platform/default/dso_loader.cc:49] Successfully opened dynamic library libcudart.so.11.0\n",
      "2023-02-25 00:30:27.086524: I tensorflow/stream_executor/platform/default/dso_loader.cc:49] Successfully opened dynamic library libcublas.so.11\n",
      "2023-02-25 00:30:27.086532: I tensorflow/stream_executor/platform/default/dso_loader.cc:49] Successfully opened dynamic library libcublasLt.so.11\n",
      "2023-02-25 00:30:27.086538: I tensorflow/stream_executor/platform/default/dso_loader.cc:49] Successfully opened dynamic library libcufft.so.10\n",
      "2023-02-25 00:30:27.086545: I tensorflow/stream_executor/platform/default/dso_loader.cc:49] Successfully opened dynamic library libcurand.so.10\n",
      "2023-02-25 00:30:27.086552: I tensorflow/stream_executor/platform/default/dso_loader.cc:49] Successfully opened dynamic library libcusolver.so.11\n",
      "2023-02-25 00:30:27.086559: I tensorflow/stream_executor/platform/default/dso_loader.cc:49] Successfully opened dynamic library libcusparse.so.11\n",
      "2023-02-25 00:30:27.086566: I tensorflow/stream_executor/platform/default/dso_loader.cc:49] Successfully opened dynamic library libcudnn.so.8\n",
      "2023-02-25 00:30:27.090039: I tensorflow/core/common_runtime/gpu/gpu_device.cc:1862] Adding visible gpu devices: 0\n",
      "2023-02-25 00:30:27.090061: I tensorflow/stream_executor/platform/default/dso_loader.cc:49] Successfully opened dynamic library libcudart.so.11.0\n",
      "2023-02-25 00:30:27.594270: I tensorflow/core/common_runtime/gpu/gpu_device.cc:1261] Device interconnect StreamExecutor with strength 1 edge matrix:\n",
      "2023-02-25 00:30:27.594294: I tensorflow/core/common_runtime/gpu/gpu_device.cc:1267]      0 \n",
      "2023-02-25 00:30:27.594299: I tensorflow/core/common_runtime/gpu/gpu_device.cc:1280] 0:   N \n",
      "2023-02-25 00:30:27.597820: I tensorflow/core/common_runtime/gpu/gpu_device.cc:1406] Created TensorFlow device (/job:localhost/replica:0/task:0/device:GPU:0 with 37428 MB memory) -> physical GPU (device: 0, name: NVIDIA A100-SXM4-40GB, pci bus id: 0000:ca:00.0, compute capability: 8.0)\n"
     ]
    }
   ],
   "source": [
    "import datetime\n",
    "from pathlib import Path\n",
    "import preproc as pp\n",
    "\n",
    "import numpy as np\n",
    "import tensorflow as tf\n",
    "\n",
    "version = \"v2\"\n",
    "augp = Path(\"../scratch\").joinpath(\"train_augmented_\" + version)\n",
    "modelp = Path(\"../scratch\").joinpath(\"models\")\n",
    "\n",
    "train_ir, test_ir = pp.load_data(val_size=0)\n",
    "train_aug, test_aug = pp.load_aug_data(augp, train_ir.element_spec, test_ind=[5])"
   ]
  },
  {
   "cell_type": "markdown",
   "id": "5fb2eeb6-d894-4d7a-b1e3-ea08a585a714",
   "metadata": {},
   "source": [
    "# Simple"
   ]
  },
  {
   "cell_type": "code",
   "execution_count": 3,
   "id": "35c0618d-144b-4c7a-b4c4-63b3b7c952e1",
   "metadata": {
    "tags": []
   },
   "outputs": [
    {
     "name": "stdout",
     "output_type": "stream",
     "text": [
      "Model: \"model\"\n",
      "_________________________________________________________________\n",
      "Layer (type)                 Output Shape              Param #   \n",
      "=================================================================\n",
      "input_1 (InputLayer)         [(None, 28, 28, 1)]       0         \n",
      "_________________________________________________________________\n",
      "conv2d (Conv2D)              (None, 28, 28, 32)        320       \n",
      "_________________________________________________________________\n",
      "conv2d_1 (Conv2D)            (None, 28, 28, 32)        9248      \n",
      "_________________________________________________________________\n",
      "conv2d_2 (Conv2D)            (None, 14, 14, 32)        4128      \n",
      "_________________________________________________________________\n",
      "conv2d_3 (Conv2D)            (None, 14, 14, 64)        18496     \n",
      "_________________________________________________________________\n",
      "conv2d_4 (Conv2D)            (None, 7, 7, 64)          16448     \n",
      "_________________________________________________________________\n",
      "flatten (Flatten)            (None, 3136)              0         \n",
      "_________________________________________________________________\n",
      "dense (Dense)                (None, 512)               1606144   \n",
      "_________________________________________________________________\n",
      "dropout (Dropout)            (None, 512)               0         \n",
      "_________________________________________________________________\n",
      "dense_1 (Dense)              (None, 256)               131328    \n",
      "_________________________________________________________________\n",
      "dropout_1 (Dropout)          (None, 256)               0         \n",
      "_________________________________________________________________\n",
      "dense_2 (Dense)              (None, 10)                2570      \n",
      "=================================================================\n",
      "Total params: 1,788,682\n",
      "Trainable params: 1,788,682\n",
      "Non-trainable params: 0\n",
      "_________________________________________________________________\n"
     ]
    }
   ],
   "source": [
    "inputs = tf.keras.layers.Input(shape=(28, 28, 1))\n",
    "\n",
    "x = tf.keras.layers.Conv2D(\n",
    "    filters=32\n",
    "    , kernel_size=3\n",
    "    , strides=1\n",
    "    , padding=\"same\"\n",
    "    , activation=\"relu\"\n",
    "    , use_bias=True\n",
    "    , kernel_initializer=\"he_uniform\"\n",
    "    , bias_initializer=\"zeros\"\n",
    ")(inputs)\n",
    "x = tf.keras.layers.Conv2D(\n",
    "    filters=32\n",
    "    , kernel_size=3\n",
    "    , strides=1\n",
    "    , padding=\"same\"\n",
    "    , activation=\"relu\"\n",
    "    , use_bias=True\n",
    "    , kernel_initializer=\"he_uniform\"\n",
    "    , bias_initializer=\"zeros\"\n",
    ")(x)\n",
    "x = tf.keras.layers.Conv2D(\n",
    "    filters=32\n",
    "    , kernel_size=2\n",
    "    , strides=2\n",
    "    , padding=\"valid\"\n",
    "    , activation=\"relu\"\n",
    "    , use_bias=True\n",
    "    , kernel_initializer=\"he_uniform\"\n",
    "    , bias_initializer=\"zeros\"\n",
    ")(x)\n",
    "x = tf.keras.layers.Conv2D(\n",
    "    filters=64\n",
    "    , kernel_size=3\n",
    "    , strides=1\n",
    "    , padding=\"same\"\n",
    "    , activation=\"relu\"\n",
    "    , use_bias=True\n",
    "    , kernel_initializer=\"he_uniform\"\n",
    "    , bias_initializer=\"zeros\"\n",
    ")(x)\n",
    "x = tf.keras.layers.Conv2D(\n",
    "    filters=64\n",
    "    , kernel_size=2\n",
    "    , strides=2\n",
    "    , padding=\"valid\"\n",
    "    , activation=\"relu\"\n",
    "    , use_bias=True\n",
    "    , kernel_initializer=\"he_uniform\"\n",
    "    , bias_initializer=\"zeros\"\n",
    ")(x)\n",
    "x = tf.keras.layers.Flatten()(x)\n",
    "x = tf.keras.layers.Dense(\n",
    "    512\n",
    "    , activation=\"relu\"\n",
    "    , use_bias=True\n",
    "    , kernel_initializer=\"he_uniform\"\n",
    "    , bias_initializer=\"zeros\"\n",
    ")(x)\n",
    "x = tf.keras.layers.Dropout(0.5)(x)\n",
    "x = tf.keras.layers.Dense(\n",
    "    256\n",
    "    , activation=\"relu\"\n",
    "    , use_bias=True\n",
    "    , kernel_initializer=\"he_uniform\"\n",
    "    , bias_initializer=\"zeros\"\n",
    ")(x)\n",
    "x = tf.keras.layers.Dropout(0.3)(x)\n",
    "\n",
    "outputs = tf.keras.layers.Dense(10, activation='softmax')(x)\n",
    "net = tf.keras.Model(inputs=inputs, outputs=outputs)\n",
    "net.summary()"
   ]
  },
  {
   "cell_type": "code",
   "execution_count": 4,
   "id": "c8ccaf61-58f0-45f7-9c1e-1b374d6f831b",
   "metadata": {
    "tags": []
   },
   "outputs": [
    {
     "name": "stderr",
     "output_type": "stream",
     "text": [
      "2023-02-25 00:31:02.628248: I tensorflow/core/profiler/lib/profiler_session.cc:136] Profiler session initializing.\n",
      "2023-02-25 00:31:02.628273: I tensorflow/core/profiler/lib/profiler_session.cc:155] Profiler session started.\n",
      "2023-02-25 00:31:02.628298: I tensorflow/core/profiler/internal/gpu/cupti_tracer.cc:1365] Profiler found 1 GPUs\n",
      "2023-02-25 00:31:02.629622: I tensorflow/stream_executor/platform/default/dso_loader.cc:49] Successfully opened dynamic library libcupti.so.11.1\n",
      "2023-02-25 00:31:02.761651: I tensorflow/core/profiler/lib/profiler_session.cc:172] Profiler session tear down.\n",
      "2023-02-25 00:31:02.761780: I tensorflow/core/profiler/internal/gpu/cupti_tracer.cc:1487] CUPTI activity buffer flushed\n"
     ]
    },
    {
     "name": "stdout",
     "output_type": "stream",
     "text": [
      "Epoch 1/50\n"
     ]
    },
    {
     "name": "stderr",
     "output_type": "stream",
     "text": [
      "2023-02-25 00:31:03.330176: I tensorflow/compiler/mlir/mlir_graph_optimization_pass.cc:116] None of the MLIR optimization passes are enabled (registered 2)\n",
      "2023-02-25 00:31:03.349480: I tensorflow/core/platform/profile_utils/cpu_utils.cc:112] CPU Frequency: 3000000000 Hz\n",
      "2023-02-25 00:31:03.417298: I tensorflow/stream_executor/platform/default/dso_loader.cc:49] Successfully opened dynamic library libcublas.so.11\n",
      "2023-02-25 00:31:04.137441: I tensorflow/stream_executor/platform/default/dso_loader.cc:49] Successfully opened dynamic library libcublasLt.so.11\n",
      "2023-02-25 00:31:09.131234: I tensorflow/stream_executor/platform/default/dso_loader.cc:49] Successfully opened dynamic library libcudnn.so.8\n"
     ]
    },
    {
     "name": "stdout",
     "output_type": "stream",
     "text": [
      "  1/844 [..............................] - ETA: 1:59:25 - loss: 2.4071 - accuracy: 0.0957"
     ]
    },
    {
     "name": "stderr",
     "output_type": "stream",
     "text": [
      "2023-02-25 00:31:11.330373: I tensorflow/stream_executor/cuda/cuda_blas.cc:1838] TensorFloat-32 will be used for the matrix multiplication. This will only be logged once.\n"
     ]
    },
    {
     "name": "stdout",
     "output_type": "stream",
     "text": [
      "  3/844 [..............................] - ETA: 7:41 - loss: 2.3907 - accuracy: 0.1050  "
     ]
    },
    {
     "name": "stderr",
     "output_type": "stream",
     "text": [
      "2023-02-25 00:31:11.537937: I tensorflow/core/profiler/lib/profiler_session.cc:136] Profiler session initializing.\n",
      "2023-02-25 00:31:11.537966: I tensorflow/core/profiler/lib/profiler_session.cc:155] Profiler session started.\n",
      "2023-02-25 00:31:12.357294: I tensorflow/core/profiler/lib/profiler_session.cc:71] Profiler session collecting data.\n",
      "2023-02-25 00:31:12.357795: I tensorflow/core/profiler/internal/gpu/cupti_tracer.cc:1487] CUPTI activity buffer flushed\n",
      "2023-02-25 00:31:12.411895: I tensorflow/core/profiler/internal/gpu/cupti_collector.cc:228]  GpuTracer has collected 195 callback api events and 183 activity events. \n",
      "2023-02-25 00:31:12.422680: I tensorflow/core/profiler/lib/profiler_session.cc:172] Profiler session tear down.\n",
      "2023-02-25 00:31:12.454683: I tensorflow/core/profiler/rpc/client/save_profile.cc:137] Creating directory: simple_logs/train/plugins/profile/2023_02_25_00_31_12\n",
      "2023-02-25 00:31:12.474076: I tensorflow/core/profiler/rpc/client/save_profile.cc:143] Dumped gzipped tool data for trace.json.gz to simple_logs/train/plugins/profile/2023_02_25_00_31_12/erc-hpc-comp036.trace.json.gz\n",
      "2023-02-25 00:31:12.497499: I tensorflow/core/profiler/rpc/client/save_profile.cc:137] Creating directory: simple_logs/train/plugins/profile/2023_02_25_00_31_12\n",
      "2023-02-25 00:31:12.499370: I tensorflow/core/profiler/rpc/client/save_profile.cc:143] Dumped gzipped tool data for memory_profile.json.gz to simple_logs/train/plugins/profile/2023_02_25_00_31_12/erc-hpc-comp036.memory_profile.json.gz\n",
      "2023-02-25 00:31:12.500083: I tensorflow/core/profiler/rpc/client/capture_profile.cc:251] Creating directory: simple_logs/train/plugins/profile/2023_02_25_00_31_12Dumped tool data for xplane.pb to simple_logs/train/plugins/profile/2023_02_25_00_31_12/erc-hpc-comp036.xplane.pb\n",
      "Dumped tool data for overview_page.pb to simple_logs/train/plugins/profile/2023_02_25_00_31_12/erc-hpc-comp036.overview_page.pb\n",
      "Dumped tool data for input_pipeline.pb to simple_logs/train/plugins/profile/2023_02_25_00_31_12/erc-hpc-comp036.input_pipeline.pb\n",
      "Dumped tool data for tensorflow_stats.pb to simple_logs/train/plugins/profile/2023_02_25_00_31_12/erc-hpc-comp036.tensorflow_stats.pb\n",
      "Dumped tool data for kernel_stats.pb to simple_logs/train/plugins/profile/2023_02_25_00_31_12/erc-hpc-comp036.kernel_stats.pb\n",
      "\n"
     ]
    },
    {
     "name": "stdout",
     "output_type": "stream",
     "text": [
      "844/844 [==============================] - 27s 22ms/step - loss: 1.6537 - accuracy: 0.4069 - val_loss: 0.3429 - val_accuracy: 0.9004\n",
      "Epoch 2/50\n",
      "844/844 [==============================] - 23s 21ms/step - loss: 0.4409 - accuracy: 0.8652 - val_loss: 0.1969 - val_accuracy: 0.9403\n",
      "Epoch 3/50\n",
      "844/844 [==============================] - 21s 19ms/step - loss: 0.2917 - accuracy: 0.9110 - val_loss: 0.1562 - val_accuracy: 0.9523\n",
      "Epoch 4/50\n",
      "844/844 [==============================] - 21s 19ms/step - loss: 0.2311 - accuracy: 0.9300 - val_loss: 0.1328 - val_accuracy: 0.9594\n",
      "Epoch 5/50\n",
      "844/844 [==============================] - 21s 18ms/step - loss: 0.1978 - accuracy: 0.9407 - val_loss: 0.1138 - val_accuracy: 0.9654\n",
      "Epoch 6/50\n",
      "844/844 [==============================] - 21s 18ms/step - loss: 0.1743 - accuracy: 0.9475 - val_loss: 0.1090 - val_accuracy: 0.9668\n",
      "Epoch 7/50\n",
      "844/844 [==============================] - 21s 19ms/step - loss: 0.1576 - accuracy: 0.9525 - val_loss: 0.0931 - val_accuracy: 0.9713\n",
      "Epoch 8/50\n",
      "844/844 [==============================] - 21s 19ms/step - loss: 0.1450 - accuracy: 0.9561 - val_loss: 0.0831 - val_accuracy: 0.9749\n",
      "Epoch 9/50\n",
      "844/844 [==============================] - 21s 19ms/step - loss: 0.1325 - accuracy: 0.9600 - val_loss: 0.0759 - val_accuracy: 0.9763\n",
      "Epoch 10/50\n",
      "844/844 [==============================] - 21s 19ms/step - loss: 0.1244 - accuracy: 0.9625 - val_loss: 0.0726 - val_accuracy: 0.9773\n",
      "Epoch 11/50\n",
      "844/844 [==============================] - 21s 19ms/step - loss: 0.1161 - accuracy: 0.9650 - val_loss: 0.0748 - val_accuracy: 0.9771\n",
      "Epoch 12/50\n",
      "844/844 [==============================] - 21s 19ms/step - loss: 0.1125 - accuracy: 0.9661 - val_loss: 0.0659 - val_accuracy: 0.9799\n",
      "Epoch 13/50\n",
      "844/844 [==============================] - 21s 19ms/step - loss: 0.1040 - accuracy: 0.9685 - val_loss: 0.0639 - val_accuracy: 0.9801\n",
      "Epoch 14/50\n",
      "844/844 [==============================] - 20s 19ms/step - loss: 0.0991 - accuracy: 0.9693 - val_loss: 0.0535 - val_accuracy: 0.9832\n",
      "Epoch 15/50\n",
      "844/844 [==============================] - 21s 19ms/step - loss: 0.0944 - accuracy: 0.9708 - val_loss: 0.0558 - val_accuracy: 0.9825\n",
      "Epoch 16/50\n",
      "844/844 [==============================] - 21s 19ms/step - loss: 0.0911 - accuracy: 0.9719 - val_loss: 0.0514 - val_accuracy: 0.9838\n",
      "Epoch 17/50\n",
      "844/844 [==============================] - 21s 19ms/step - loss: 0.0878 - accuracy: 0.9729 - val_loss: 0.0492 - val_accuracy: 0.9843\n",
      "Epoch 18/50\n",
      "844/844 [==============================] - 20s 18ms/step - loss: 0.0827 - accuracy: 0.9744 - val_loss: 0.0466 - val_accuracy: 0.9856\n",
      "Epoch 19/50\n",
      "844/844 [==============================] - 20s 18ms/step - loss: 0.0796 - accuracy: 0.9754 - val_loss: 0.0464 - val_accuracy: 0.9852\n",
      "Epoch 20/50\n",
      "844/844 [==============================] - 20s 19ms/step - loss: 0.0756 - accuracy: 0.9760 - val_loss: 0.0434 - val_accuracy: 0.9865\n",
      "Epoch 21/50\n",
      "844/844 [==============================] - 21s 19ms/step - loss: 0.0731 - accuracy: 0.9774 - val_loss: 0.0405 - val_accuracy: 0.9873\n",
      "Epoch 22/50\n",
      "844/844 [==============================] - 21s 19ms/step - loss: 0.0731 - accuracy: 0.9772 - val_loss: 0.0406 - val_accuracy: 0.9870\n",
      "Epoch 23/50\n",
      "844/844 [==============================] - 21s 18ms/step - loss: 0.0678 - accuracy: 0.9789 - val_loss: 0.0377 - val_accuracy: 0.9881\n",
      "Epoch 24/50\n",
      "844/844 [==============================] - 21s 19ms/step - loss: 0.0665 - accuracy: 0.9793 - val_loss: 0.0360 - val_accuracy: 0.9887\n",
      "Epoch 25/50\n",
      "844/844 [==============================] - 21s 19ms/step - loss: 0.0650 - accuracy: 0.9796 - val_loss: 0.0334 - val_accuracy: 0.9894\n",
      "Epoch 26/50\n",
      "844/844 [==============================] - 21s 19ms/step - loss: 0.0629 - accuracy: 0.9801 - val_loss: 0.0339 - val_accuracy: 0.9895\n",
      "Epoch 27/50\n",
      "844/844 [==============================] - 21s 18ms/step - loss: 0.0620 - accuracy: 0.9805 - val_loss: 0.0339 - val_accuracy: 0.9893\n",
      "Epoch 28/50\n",
      "844/844 [==============================] - 21s 19ms/step - loss: 0.0595 - accuracy: 0.9813 - val_loss: 0.0324 - val_accuracy: 0.9897\n",
      "Epoch 29/50\n",
      "844/844 [==============================] - 21s 19ms/step - loss: 0.0560 - accuracy: 0.9821 - val_loss: 0.0287 - val_accuracy: 0.9906\n",
      "Epoch 30/50\n",
      "844/844 [==============================] - 21s 19ms/step - loss: 0.0553 - accuracy: 0.9823 - val_loss: 0.0297 - val_accuracy: 0.9906\n",
      "Epoch 31/50\n",
      "844/844 [==============================] - 20s 18ms/step - loss: 0.0551 - accuracy: 0.9827 - val_loss: 0.0292 - val_accuracy: 0.9911\n",
      "Epoch 32/50\n",
      "844/844 [==============================] - 20s 18ms/step - loss: 0.0535 - accuracy: 0.9832 - val_loss: 0.0286 - val_accuracy: 0.9908\n",
      "Epoch 33/50\n",
      "844/844 [==============================] - 20s 18ms/step - loss: 0.0464 - accuracy: 0.9851 - val_loss: 0.0223 - val_accuracy: 0.9929\n",
      "Epoch 34/50\n",
      "844/844 [==============================] - 21s 18ms/step - loss: 0.0416 - accuracy: 0.9865 - val_loss: 0.0212 - val_accuracy: 0.9934\n",
      "Epoch 35/50\n",
      "844/844 [==============================] - 20s 18ms/step - loss: 0.0405 - accuracy: 0.9870 - val_loss: 0.0202 - val_accuracy: 0.9936\n",
      "Epoch 36/50\n",
      "844/844 [==============================] - 20s 18ms/step - loss: 0.0403 - accuracy: 0.9871 - val_loss: 0.0208 - val_accuracy: 0.9936\n",
      "Epoch 37/50\n",
      "844/844 [==============================] - 20s 18ms/step - loss: 0.0394 - accuracy: 0.9878 - val_loss: 0.0193 - val_accuracy: 0.9941\n",
      "Epoch 38/50\n",
      "844/844 [==============================] - 20s 18ms/step - loss: 0.0397 - accuracy: 0.9874 - val_loss: 0.0198 - val_accuracy: 0.9939\n",
      "Epoch 39/50\n",
      "844/844 [==============================] - 20s 18ms/step - loss: 0.0385 - accuracy: 0.9877 - val_loss: 0.0188 - val_accuracy: 0.9942\n",
      "Epoch 40/50\n",
      "844/844 [==============================] - 20s 18ms/step - loss: 0.0371 - accuracy: 0.9884 - val_loss: 0.0172 - val_accuracy: 0.9947\n",
      "Epoch 41/50\n",
      "844/844 [==============================] - 20s 18ms/step - loss: 0.0370 - accuracy: 0.9882 - val_loss: 0.0174 - val_accuracy: 0.9946\n",
      "Epoch 42/50\n",
      "844/844 [==============================] - 20s 18ms/step - loss: 0.0370 - accuracy: 0.9880 - val_loss: 0.0174 - val_accuracy: 0.9947\n",
      "Epoch 43/50\n",
      "844/844 [==============================] - 20s 18ms/step - loss: 0.0374 - accuracy: 0.9882 - val_loss: 0.0170 - val_accuracy: 0.9949\n",
      "Epoch 44/50\n",
      "844/844 [==============================] - 20s 18ms/step - loss: 0.0360 - accuracy: 0.9885 - val_loss: 0.0172 - val_accuracy: 0.9946\n",
      "Epoch 45/50\n",
      "844/844 [==============================] - 21s 19ms/step - loss: 0.0352 - accuracy: 0.9887 - val_loss: 0.0169 - val_accuracy: 0.9950\n",
      "Epoch 46/50\n",
      "844/844 [==============================] - 21s 19ms/step - loss: 0.0356 - accuracy: 0.9884 - val_loss: 0.0167 - val_accuracy: 0.9950\n",
      "Epoch 47/50\n",
      "844/844 [==============================] - 21s 19ms/step - loss: 0.0354 - accuracy: 0.9886 - val_loss: 0.0160 - val_accuracy: 0.9952\n",
      "Epoch 48/50\n",
      "844/844 [==============================] - 21s 18ms/step - loss: 0.0348 - accuracy: 0.9888 - val_loss: 0.0158 - val_accuracy: 0.9953\n",
      "Epoch 49/50\n",
      "844/844 [==============================] - 20s 18ms/step - loss: 0.0337 - accuracy: 0.9896 - val_loss: 0.0162 - val_accuracy: 0.9953\n",
      "Epoch 50/50\n",
      "844/844 [==============================] - 20s 18ms/step - loss: 0.0334 - accuracy: 0.9892 - val_loss: 0.0148 - val_accuracy: 0.9956\n"
     ]
    },
    {
     "data": {
      "text/plain": [
       "<matplotlib.legend.Legend at 0x7f05f67f8e80>"
      ]
     },
     "execution_count": 4,
     "metadata": {},
     "output_type": "execute_result"
    },
    {
     "data": {
      "image/png": "[encoded data removed]",
      "text/plain": [
       "<Figure size 640x480 with 1 Axes>"
      ]
     },
     "metadata": {},
     "output_type": "display_data"
    }
   ],
   "source": [
    "train_shape = tf.data.experimental.cardinality(train_aug).numpy()\n",
    "val_size = 0.2\n",
    "\n",
    "splitter = train_aug.shuffle(100000, reshuffle_each_iteration=True)\n",
    "val_ds = splitter.take(train_shape * val_size).batch(512)\n",
    "train_ds = splitter.skip(train_shape * val_size).batch(512)\n",
    "\n",
    "net.compile(\n",
    "    loss='categorical_crossentropy'\n",
    "    , optimizer=tf.keras.optimizers.SGD(nesterov=True, momentum=0.9)\n",
    "    # , optimizer=\"adam\"\n",
    "    , metrics=[\"accuracy\"]\n",
    ")\n",
    "\n",
    "history = net.fit(\n",
    "    train_ds\n",
    "    , validation_data=val_ds\n",
    "    , epochs=50\n",
    "    , callbacks=[\n",
    "        # tf.keras.callbacks.EarlyStopping(min_delta=0.001, patience=5)\n",
    "        tf.keras.callbacks.ReduceLROnPlateau(factor=0.2, patience=3, min_lr=1e-5)\n",
    "        , tf.keras.callbacks.TensorBoard(log_dir=\"simple_logs\", histogram_freq=1, write_graph=True, write_images=True)\n",
    "    ]\n",
    ")\n",
    "\n",
    "import matplotlib.pyplot as plt\n",
    "plt.figure()\n",
    "plt.plot(history.history['loss'], label='training loss')\n",
    "plt.plot(history.history['val_loss'], label='validation loss')\n",
    "plt.xlabel('epochs')\n",
    "plt.ylabel('loss')\n",
    "plt.legend()"
   ]
  },
  {
   "cell_type": "code",
   "execution_count": 7,
   "id": "2e4ee3e3-3df3-4084-add5-9bf5f28bb63a",
   "metadata": {
    "tags": []
   },
   "outputs": [
    {
     "name": "stdout",
     "output_type": "stream",
     "text": [
      "1290/1290 [==============================] - 21s 14ms/step - loss: 0.0436 - accuracy: 0.9869\n"
     ]
    }
   ],
   "source": [
    "augp = Path(\"../scratch\").joinpath(\"train_augmented_v1\")\n",
    "# epochs=1\n",
    "train_aug, _ = pp.load_aug_data(augp.resolve(), train_ir.element_spec, test_ind=[])\n",
    "_ = net.fit(train_ir.concatenate(train_aug).shuffle(100000, reshuffle_each_iteration=True).batch(512), epochs=1)"
   ]
  },
  {
   "cell_type": "code",
   "execution_count": 8,
   "id": "012286bc-ce8a-4f34-99c3-0b8673f048cb",
   "metadata": {
    "tags": []
   },
   "outputs": [
    {
     "name": "stdout",
     "output_type": "stream",
     "text": [
      "118/118 [==============================] - 1s 4ms/step - loss: 0.0233 - accuracy: 0.9926\n",
      "20/20 [==============================] - 0s 4ms/step - loss: 0.0275 - accuracy: 0.9914\n"
     ]
    },
    {
     "data": {
      "text/plain": [
       "([0.023315267637372017, 0.9926333427429199],\n",
       " [0.027467019855976105, 0.9914000034332275])"
      ]
     },
     "execution_count": 8,
     "metadata": {},
     "output_type": "execute_result"
    }
   ],
   "source": [
    "net.evaluate(train_ir.batch(512)), net.evaluate(test_ir.batch(512))"
   ]
  },
  {
   "cell_type": "code",
   "execution_count": 9,
   "id": "18f942d7-b74d-469b-ab28-f39cc2761bb0",
   "metadata": {
    "tags": []
   },
   "outputs": [
    {
     "name": "stdout",
     "output_type": "stream",
     "text": [
      "844/844 [==============================] - 13s 9ms/step - loss: 0.0560 - accuracy: 0.9821\n",
      "211/211 [==============================] - 6s 14ms/step - loss: 0.0670 - accuracy: 0.9788\n",
      "118/118 [==============================] - 2s 12ms/step - loss: 0.0896 - accuracy: 0.9722\n"
     ]
    },
    {
     "data": {
      "text/plain": [
       "([0.05602486431598663, 0.9820671081542969],\n",
       " [0.06695913523435593, 0.978768527507782],\n",
       " [0.08962440490722656, 0.9721666574478149])"
      ]
     },
     "execution_count": 9,
     "metadata": {},
     "output_type": "execute_result"
    }
   ],
   "source": [
    "net.evaluate(train_ds), net.evaluate(val_ds), net.evaluate(test_aug.batch(512))"
   ]
  },
  {
   "cell_type": "code",
   "execution_count": 23,
   "id": "5530118a-a26d-487a-a60e-feeb1f4f8a59",
   "metadata": {
    "tags": []
   },
   "outputs": [],
   "source": [
    "net.save(modelp.joinpath(\"simple.\"+version+\".h5\").resolve().as_posix(), save_format=\"h5\")"
   ]
  },
  {
   "cell_type": "code",
   "execution_count": null,
   "id": "6ee9c553-33be-4087-a0bb-3566267078b8",
   "metadata": {},
   "outputs": [],
   "source": []
  }
 ],
 "metadata": {
  "kernelspec": {
   "display_name": "Python 3 (ipykernel)",
   "language": "python",
   "name": "python3"
  },
  "language_info": {
   "codemirror_mode": {
    "name": "ipython",
    "version": 3
   },
   "file_extension": ".py",
   "mimetype": "text/x-python",
   "name": "python",
   "nbconvert_exporter": "python",
   "pygments_lexer": "ipython3",
   "version": "3.8.12"
  }
 },
 "nbformat": 4,
 "nbformat_minor": 5
}
