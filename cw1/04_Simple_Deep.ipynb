{
 "cells": [
  {
   "cell_type": "code",
   "execution_count": 1,
   "id": "fa46f7d0-0a07-4115-bd2f-82fe109b7704",
   "metadata": {
    "tags": []
   },
   "outputs": [],
   "source": [
    "%load_ext autoreload\n",
    "%autoreload 2"
   ]
  },
  {
   "cell_type": "code",
   "execution_count": 2,
   "id": "6da1f221-3754-439e-bd19-1f5a90b04db5",
   "metadata": {
    "tags": []
   },
   "outputs": [
    {
     "name": "stderr",
     "output_type": "stream",
     "text": [
      "2023-02-28 20:56:07.006518: I tensorflow/stream_executor/platform/default/dso_loader.cc:49] Successfully opened dynamic library libcudart.so.11.0\n",
      "2023-02-28 20:56:33.377056: I tensorflow/stream_executor/platform/default/dso_loader.cc:49] Successfully opened dynamic library libcuda.so.1\n",
      "2023-02-28 20:56:33.725096: I tensorflow/core/common_runtime/gpu/gpu_device.cc:1720] Found device 0 with properties: \n",
      "pciBusID: 0000:31:00.0 name: NVIDIA A100-SXM4-40GB computeCapability: 8.0\n",
      "coreClock: 1.41GHz coreCount: 108 deviceMemorySize: 39.41GiB deviceMemoryBandwidth: 1.41TiB/s\n",
      "2023-02-28 20:56:33.725125: I tensorflow/stream_executor/platform/default/dso_loader.cc:49] Successfully opened dynamic library libcudart.so.11.0\n",
      "2023-02-28 20:56:33.829710: I tensorflow/stream_executor/platform/default/dso_loader.cc:49] Successfully opened dynamic library libcublas.so.11\n",
      "2023-02-28 20:56:33.829786: I tensorflow/stream_executor/platform/default/dso_loader.cc:49] Successfully opened dynamic library libcublasLt.so.11\n",
      "2023-02-28 20:56:33.870578: I tensorflow/stream_executor/platform/default/dso_loader.cc:49] Successfully opened dynamic library libcufft.so.10\n",
      "2023-02-28 20:56:33.948147: I tensorflow/stream_executor/platform/default/dso_loader.cc:49] Successfully opened dynamic library libcurand.so.10\n",
      "2023-02-28 20:56:34.052637: I tensorflow/stream_executor/platform/default/dso_loader.cc:49] Successfully opened dynamic library libcusolver.so.11\n",
      "2023-02-28 20:56:34.092377: I tensorflow/stream_executor/platform/default/dso_loader.cc:49] Successfully opened dynamic library libcusparse.so.11\n",
      "2023-02-28 20:56:34.095527: I tensorflow/stream_executor/platform/default/dso_loader.cc:49] Successfully opened dynamic library libcudnn.so.8\n",
      "2023-02-28 20:56:34.098665: I tensorflow/core/common_runtime/gpu/gpu_device.cc:1862] Adding visible gpu devices: 0\n",
      "2023-02-28 20:56:34.101347: I tensorflow/core/common_runtime/gpu/gpu_device.cc:1720] Found device 0 with properties: \n",
      "pciBusID: 0000:31:00.0 name: NVIDIA A100-SXM4-40GB computeCapability: 8.0\n",
      "coreClock: 1.41GHz coreCount: 108 deviceMemorySize: 39.41GiB deviceMemoryBandwidth: 1.41TiB/s\n",
      "2023-02-28 20:56:34.101366: I tensorflow/stream_executor/platform/default/dso_loader.cc:49] Successfully opened dynamic library libcudart.so.11.0\n",
      "2023-02-28 20:56:34.101383: I tensorflow/stream_executor/platform/default/dso_loader.cc:49] Successfully opened dynamic library libcublas.so.11\n",
      "2023-02-28 20:56:34.101391: I tensorflow/stream_executor/platform/default/dso_loader.cc:49] Successfully opened dynamic library libcublasLt.so.11\n",
      "2023-02-28 20:56:34.101397: I tensorflow/stream_executor/platform/default/dso_loader.cc:49] Successfully opened dynamic library libcufft.so.10\n",
      "2023-02-28 20:56:34.101404: I tensorflow/stream_executor/platform/default/dso_loader.cc:49] Successfully opened dynamic library libcurand.so.10\n",
      "2023-02-28 20:56:34.101411: I tensorflow/stream_executor/platform/default/dso_loader.cc:49] Successfully opened dynamic library libcusolver.so.11\n",
      "2023-02-28 20:56:34.101417: I tensorflow/stream_executor/platform/default/dso_loader.cc:49] Successfully opened dynamic library libcusparse.so.11\n",
      "2023-02-28 20:56:34.101424: I tensorflow/stream_executor/platform/default/dso_loader.cc:49] Successfully opened dynamic library libcudnn.so.8\n",
      "2023-02-28 20:56:34.104371: I tensorflow/core/common_runtime/gpu/gpu_device.cc:1862] Adding visible gpu devices: 0\n",
      "2023-02-28 20:56:34.104393: I tensorflow/stream_executor/platform/default/dso_loader.cc:49] Successfully opened dynamic library libcudart.so.11.0\n",
      "2023-02-28 20:56:34.767166: I tensorflow/core/common_runtime/gpu/gpu_device.cc:1261] Device interconnect StreamExecutor with strength 1 edge matrix:\n",
      "2023-02-28 20:56:34.767196: I tensorflow/core/common_runtime/gpu/gpu_device.cc:1267]      0 \n",
      "2023-02-28 20:56:34.767200: I tensorflow/core/common_runtime/gpu/gpu_device.cc:1280] 0:   N \n",
      "2023-02-28 20:56:34.770746: I tensorflow/core/common_runtime/gpu/gpu_device.cc:1406] Created TensorFlow device (/job:localhost/replica:0/task:0/device:GPU:0 with 37428 MB memory) -> physical GPU (device: 0, name: NVIDIA A100-SXM4-40GB, pci bus id: 0000:31:00.0, compute capability: 8.0)\n"
     ]
    }
   ],
   "source": [
    "import datetime\n",
    "from pathlib import Path\n",
    "import preproc as pp\n",
    "\n",
    "import numpy as np\n",
    "import tensorflow as tf\n",
    "\n",
    "version = \"v2\"\n",
    "augp = Path(\"../scratch\").joinpath(\"train_augmented_\" + version)\n",
    "modelp = Path(\"../scratch\").joinpath(\"models\")\n",
    "\n",
    "train_ir, test_ir = pp.load_data(val_size=0)\n",
    "train_aug, test_aug = pp.load_aug_data(augp, train_ir.element_spec, test_ind=[3])"
   ]
  },
  {
   "cell_type": "markdown",
   "id": "5fb2eeb6-d894-4d7a-b1e3-ea08a585a714",
   "metadata": {},
   "source": [
    "# 4. Simple"
   ]
  },
  {
   "cell_type": "code",
   "execution_count": 3,
   "id": "35c0618d-144b-4c7a-b4c4-63b3b7c952e1",
   "metadata": {
    "tags": []
   },
   "outputs": [
    {
     "name": "stdout",
     "output_type": "stream",
     "text": [
      "Model: \"model\"\n",
      "_________________________________________________________________\n",
      "Layer (type)                 Output Shape              Param #   \n",
      "=================================================================\n",
      "input_1 (InputLayer)         [(None, 28, 28, 1)]       0         \n",
      "_________________________________________________________________\n",
      "conv2d (Conv2D)              (None, 28, 28, 64)        640       \n",
      "_________________________________________________________________\n",
      "conv2d_1 (Conv2D)            (None, 28, 28, 64)        36928     \n",
      "_________________________________________________________________\n",
      "conv2d_2 (Conv2D)            (None, 14, 14, 64)        16448     \n",
      "_________________________________________________________________\n",
      "batch_normalization (BatchNo (None, 14, 14, 64)        192       \n",
      "_________________________________________________________________\n",
      "conv2d_3 (Conv2D)            (None, 14, 14, 128)       73856     \n",
      "_________________________________________________________________\n",
      "conv2d_4 (Conv2D)            (None, 7, 7, 128)         65664     \n",
      "_________________________________________________________________\n",
      "batch_normalization_1 (Batch (None, 7, 7, 128)         384       \n",
      "_________________________________________________________________\n",
      "flatten (Flatten)            (None, 6272)              0         \n",
      "_________________________________________________________________\n",
      "dense (Dense)                (None, 1048)              6574104   \n",
      "_________________________________________________________________\n",
      "batch_normalization_2 (Batch (None, 1048)              3144      \n",
      "_________________________________________________________________\n",
      "dropout (Dropout)            (None, 1048)              0         \n",
      "_________________________________________________________________\n",
      "dense_1 (Dense)              (None, 1048)              1099352   \n",
      "_________________________________________________________________\n",
      "batch_normalization_3 (Batch (None, 1048)              3144      \n",
      "_________________________________________________________________\n",
      "dropout_1 (Dropout)          (None, 1048)              0         \n",
      "_________________________________________________________________\n",
      "dense_2 (Dense)              (None, 10)                10490     \n",
      "=================================================================\n",
      "Total params: 7,884,346\n",
      "Trainable params: 7,879,770\n",
      "Non-trainable params: 4,576\n",
      "_________________________________________________________________\n"
     ]
    }
   ],
   "source": [
    "inputs = tf.keras.layers.Input(shape=(28, 28, 1))\n",
    "\n",
    "x = tf.keras.layers.Conv2D(\n",
    "    filters=64\n",
    "    , kernel_size=3\n",
    "    , strides=1\n",
    "    , padding=\"same\"\n",
    "    , activation=\"relu\"\n",
    "    , use_bias=True\n",
    "    , kernel_initializer=\"he_uniform\"\n",
    "    , bias_initializer=\"zeros\"\n",
    ")(inputs)\n",
    "x = tf.keras.layers.Conv2D(\n",
    "    filters=64\n",
    "    , kernel_size=3\n",
    "    , strides=1\n",
    "    , padding=\"same\"\n",
    "    , activation=\"relu\"\n",
    "    , use_bias=True\n",
    "    , kernel_initializer=\"he_uniform\"\n",
    "    , bias_initializer=\"zeros\"\n",
    ")(x)\n",
    "x = tf.keras.layers.Conv2D(\n",
    "    filters=64\n",
    "    , kernel_size=2\n",
    "    , strides=2\n",
    "    , padding=\"valid\"\n",
    "    , activation=\"relu\"\n",
    "    , use_bias=True\n",
    "    , kernel_initializer=\"he_uniform\"\n",
    "    , bias_initializer=\"zeros\"\n",
    ")(x)\n",
    "x = tf.keras.layers.BatchNormalization(scale=False)(x)\n",
    "x = tf.keras.layers.Conv2D(\n",
    "    filters=128\n",
    "    , kernel_size=3\n",
    "    , strides=1\n",
    "    , padding=\"same\"\n",
    "    , activation=\"relu\"\n",
    "    , use_bias=True\n",
    "    , kernel_initializer=\"he_uniform\"\n",
    "    , bias_initializer=\"zeros\"\n",
    ")(x)\n",
    "x = tf.keras.layers.Conv2D(\n",
    "    filters=128\n",
    "    , kernel_size=2\n",
    "    , strides=2\n",
    "    , padding=\"valid\"\n",
    "    , activation=\"relu\"\n",
    "    , use_bias=True\n",
    "    , kernel_initializer=\"he_uniform\"\n",
    "    , bias_initializer=\"zeros\"\n",
    ")(x)\n",
    "x = tf.keras.layers.BatchNormalization(scale=False)(x)\n",
    "x = tf.keras.layers.Flatten()(x)\n",
    "x = tf.keras.layers.Dense(\n",
    "    1048\n",
    "    , activation=\"relu\"\n",
    "    , use_bias=True\n",
    "    , kernel_initializer=\"he_uniform\"\n",
    "    , bias_initializer=\"zeros\"\n",
    ")(x)\n",
    "x = tf.keras.layers.BatchNormalization(scale=False)(x)\n",
    "x = tf.keras.layers.Dropout(0.5)(x)\n",
    "x = tf.keras.layers.Dense(\n",
    "    1048\n",
    "    , activation=\"relu\"\n",
    "    , use_bias=True\n",
    "    , kernel_initializer=\"he_uniform\"\n",
    "    , bias_initializer=\"zeros\"\n",
    ")(x)\n",
    "x = tf.keras.layers.BatchNormalization(scale=False)(x)\n",
    "x = tf.keras.layers.Dropout(0.5)(x)\n",
    "\n",
    "outputs = tf.keras.layers.Dense(10, activation='softmax')(x)\n",
    "net = tf.keras.Model(inputs=inputs, outputs=outputs)\n",
    "net.summary()"
   ]
  },
  {
   "cell_type": "code",
   "execution_count": 4,
   "id": "c8ccaf61-58f0-45f7-9c1e-1b374d6f831b",
   "metadata": {
    "tags": []
   },
   "outputs": [
    {
     "name": "stderr",
     "output_type": "stream",
     "text": [
      "2023-02-26 19:40:32.302280: I tensorflow/core/profiler/lib/profiler_session.cc:136] Profiler session initializing.\n",
      "2023-02-26 19:40:32.302305: I tensorflow/core/profiler/lib/profiler_session.cc:155] Profiler session started.\n",
      "2023-02-26 19:40:32.302329: I tensorflow/core/profiler/internal/gpu/cupti_tracer.cc:1365] Profiler found 1 GPUs\n",
      "2023-02-26 19:40:32.308123: I tensorflow/stream_executor/platform/default/dso_loader.cc:49] Successfully opened dynamic library libcupti.so.11.1\n",
      "2023-02-26 19:40:32.438354: I tensorflow/core/profiler/lib/profiler_session.cc:172] Profiler session tear down.\n",
      "2023-02-26 19:40:32.438469: I tensorflow/core/profiler/internal/gpu/cupti_tracer.cc:1487] CUPTI activity buffer flushed\n"
     ]
    },
    {
     "name": "stdout",
     "output_type": "stream",
     "text": [
      "Epoch 1/50\n"
     ]
    },
    {
     "name": "stderr",
     "output_type": "stream",
     "text": [
      "2023-02-26 19:40:33.096117: I tensorflow/compiler/mlir/mlir_graph_optimization_pass.cc:116] None of the MLIR optimization passes are enabled (registered 2)\n",
      "2023-02-26 19:40:33.117627: I tensorflow/core/platform/profile_utils/cpu_utils.cc:112] CPU Frequency: 3000000000 Hz\n",
      "2023-02-26 19:40:33.218097: I tensorflow/stream_executor/platform/default/dso_loader.cc:49] Successfully opened dynamic library libcublas.so.11\n",
      "2023-02-26 19:40:33.892950: I tensorflow/stream_executor/platform/default/dso_loader.cc:49] Successfully opened dynamic library libcublasLt.so.11\n",
      "2023-02-26 19:40:38.561938: I tensorflow/stream_executor/platform/default/dso_loader.cc:49] Successfully opened dynamic library libcudnn.so.8\n"
     ]
    },
    {
     "name": "stdout",
     "output_type": "stream",
     "text": [
      "  1/844 [..............................] - ETA: 1:57:51 - loss: 3.6982 - accuracy: 0.1055"
     ]
    },
    {
     "name": "stderr",
     "output_type": "stream",
     "text": [
      "2023-02-26 19:40:40.734180: I tensorflow/stream_executor/cuda/cuda_blas.cc:1838] TensorFloat-32 will be used for the matrix multiplication. This will only be logged once.\n"
     ]
    },
    {
     "name": "stdout",
     "output_type": "stream",
     "text": [
      "  3/844 [..............................] - ETA: 7:57 - loss: 3.6671 - accuracy: 0.1035  "
     ]
    },
    {
     "name": "stderr",
     "output_type": "stream",
     "text": [
      "2023-02-26 19:40:41.048583: I tensorflow/core/profiler/lib/profiler_session.cc:136] Profiler session initializing.\n",
      "2023-02-26 19:40:41.048615: I tensorflow/core/profiler/lib/profiler_session.cc:155] Profiler session started.\n",
      "2023-02-26 19:40:41.847120: I tensorflow/core/profiler/lib/profiler_session.cc:71] Profiler session collecting data.\n",
      "2023-02-26 19:40:41.847614: I tensorflow/core/profiler/internal/gpu/cupti_tracer.cc:1487] CUPTI activity buffer flushed\n",
      "2023-02-26 19:40:41.904080: I tensorflow/core/profiler/internal/gpu/cupti_collector.cc:228]  GpuTracer has collected 286 callback api events and 274 activity events. \n",
      "2023-02-26 19:40:41.914871: I tensorflow/core/profiler/lib/profiler_session.cc:172] Profiler session tear down.\n",
      "2023-02-26 19:40:41.944246: I tensorflow/core/profiler/rpc/client/save_profile.cc:137] Creating directory: simple_logs/train/plugins/profile/2023_02_26_19_40_41\n",
      "2023-02-26 19:40:41.965089: I tensorflow/core/profiler/rpc/client/save_profile.cc:143] Dumped gzipped tool data for trace.json.gz to simple_logs/train/plugins/profile/2023_02_26_19_40_41/erc-hpc-comp034.trace.json.gz\n",
      "2023-02-26 19:40:41.981688: I tensorflow/core/profiler/rpc/client/save_profile.cc:137] Creating directory: simple_logs/train/plugins/profile/2023_02_26_19_40_41\n",
      "2023-02-26 19:40:41.984183: I tensorflow/core/profiler/rpc/client/save_profile.cc:143] Dumped gzipped tool data for memory_profile.json.gz to simple_logs/train/plugins/profile/2023_02_26_19_40_41/erc-hpc-comp034.memory_profile.json.gz\n",
      "2023-02-26 19:40:41.984903: I tensorflow/core/profiler/rpc/client/capture_profile.cc:251] Creating directory: simple_logs/train/plugins/profile/2023_02_26_19_40_41Dumped tool data for xplane.pb to simple_logs/train/plugins/profile/2023_02_26_19_40_41/erc-hpc-comp034.xplane.pb\n",
      "Dumped tool data for overview_page.pb to simple_logs/train/plugins/profile/2023_02_26_19_40_41/erc-hpc-comp034.overview_page.pb\n",
      "Dumped tool data for input_pipeline.pb to simple_logs/train/plugins/profile/2023_02_26_19_40_41/erc-hpc-comp034.input_pipeline.pb\n",
      "Dumped tool data for tensorflow_stats.pb to simple_logs/train/plugins/profile/2023_02_26_19_40_41/erc-hpc-comp034.tensorflow_stats.pb\n",
      "Dumped tool data for kernel_stats.pb to simple_logs/train/plugins/profile/2023_02_26_19_40_41/erc-hpc-comp034.kernel_stats.pb\n",
      "\n"
     ]
    },
    {
     "name": "stdout",
     "output_type": "stream",
     "text": [
      "844/844 [==============================] - 30s 25ms/step - loss: 1.1608 - accuracy: 0.6492 - val_loss: 0.2557 - val_accuracy: 0.9233\n",
      "Epoch 2/50\n",
      "844/844 [==============================] - 25s 23ms/step - loss: 0.2488 - accuracy: 0.9234 - val_loss: 0.2057 - val_accuracy: 0.9349\n",
      "Epoch 3/50\n",
      "844/844 [==============================] - 24s 23ms/step - loss: 0.1778 - accuracy: 0.9454 - val_loss: 0.1131 - val_accuracy: 0.9639\n",
      "Epoch 4/50\n",
      "844/844 [==============================] - 24s 23ms/step - loss: 0.1419 - accuracy: 0.9560 - val_loss: 0.2500 - val_accuracy: 0.9237\n",
      "Epoch 5/50\n",
      "844/844 [==============================] - 24s 23ms/step - loss: 0.1211 - accuracy: 0.9626 - val_loss: 0.2573 - val_accuracy: 0.9219\n",
      "Epoch 6/50\n",
      "844/844 [==============================] - 24s 23ms/step - loss: 0.1094 - accuracy: 0.9658 - val_loss: 0.0870 - val_accuracy: 0.9724\n",
      "Epoch 7/50\n",
      "844/844 [==============================] - 24s 23ms/step - loss: 0.0966 - accuracy: 0.9701 - val_loss: 0.0803 - val_accuracy: 0.9743\n",
      "Epoch 8/50\n",
      "844/844 [==============================] - 24s 23ms/step - loss: 0.0882 - accuracy: 0.9724 - val_loss: 0.0723 - val_accuracy: 0.9773\n",
      "Epoch 9/50\n",
      "844/844 [==============================] - 24s 23ms/step - loss: 0.0799 - accuracy: 0.9752 - val_loss: 0.0673 - val_accuracy: 0.9785\n",
      "Epoch 10/50\n",
      "844/844 [==============================] - 24s 23ms/step - loss: 0.0745 - accuracy: 0.9764 - val_loss: 0.0671 - val_accuracy: 0.9796\n",
      "Epoch 11/50\n",
      "844/844 [==============================] - 24s 23ms/step - loss: 0.0708 - accuracy: 0.9776 - val_loss: 0.0504 - val_accuracy: 0.9839\n",
      "Epoch 12/50\n",
      "844/844 [==============================] - 24s 23ms/step - loss: 0.0630 - accuracy: 0.9799 - val_loss: 0.0637 - val_accuracy: 0.9801\n",
      "Epoch 13/50\n",
      "844/844 [==============================] - 24s 23ms/step - loss: 0.0603 - accuracy: 0.9807 - val_loss: 0.0574 - val_accuracy: 0.9821\n",
      "Epoch 14/50\n",
      "844/844 [==============================] - 24s 23ms/step - loss: 0.0566 - accuracy: 0.9817 - val_loss: 0.0430 - val_accuracy: 0.9859\n",
      "Epoch 15/50\n",
      "844/844 [==============================] - 24s 23ms/step - loss: 0.0529 - accuracy: 0.9829 - val_loss: 0.0455 - val_accuracy: 0.9851\n",
      "Epoch 16/50\n",
      "844/844 [==============================] - 24s 23ms/step - loss: 0.0498 - accuracy: 0.9840 - val_loss: 0.0418 - val_accuracy: 0.9864\n",
      "Epoch 17/50\n",
      "844/844 [==============================] - 24s 23ms/step - loss: 0.0471 - accuracy: 0.9848 - val_loss: 0.0349 - val_accuracy: 0.9888\n",
      "Epoch 18/50\n",
      "844/844 [==============================] - 24s 23ms/step - loss: 0.0441 - accuracy: 0.9852 - val_loss: 0.0426 - val_accuracy: 0.9861\n",
      "Epoch 19/50\n",
      "844/844 [==============================] - 24s 23ms/step - loss: 0.0418 - accuracy: 0.9865 - val_loss: 0.0417 - val_accuracy: 0.9861\n",
      "Epoch 20/50\n",
      "844/844 [==============================] - 24s 23ms/step - loss: 0.0387 - accuracy: 0.9872 - val_loss: 0.0646 - val_accuracy: 0.9793\n",
      "Epoch 21/50\n",
      "844/844 [==============================] - 24s 23ms/step - loss: 0.0329 - accuracy: 0.9892 - val_loss: 0.0164 - val_accuracy: 0.9952\n",
      "Epoch 22/50\n",
      "844/844 [==============================] - 24s 23ms/step - loss: 0.0289 - accuracy: 0.9905 - val_loss: 0.0156 - val_accuracy: 0.9952\n",
      "Epoch 23/50\n",
      "844/844 [==============================] - 24s 23ms/step - loss: 0.0273 - accuracy: 0.9909 - val_loss: 0.0143 - val_accuracy: 0.9957\n",
      "Epoch 24/50\n",
      "844/844 [==============================] - 24s 23ms/step - loss: 0.0257 - accuracy: 0.9916 - val_loss: 0.0137 - val_accuracy: 0.9958\n",
      "Epoch 25/50\n",
      "844/844 [==============================] - 24s 23ms/step - loss: 0.0251 - accuracy: 0.9916 - val_loss: 0.0145 - val_accuracy: 0.9955\n",
      "Epoch 26/50\n",
      "844/844 [==============================] - 24s 23ms/step - loss: 0.0248 - accuracy: 0.9917 - val_loss: 0.0125 - val_accuracy: 0.9962\n",
      "Epoch 27/50\n",
      "844/844 [==============================] - 24s 23ms/step - loss: 0.0238 - accuracy: 0.9922 - val_loss: 0.0130 - val_accuracy: 0.9960\n",
      "Epoch 28/50\n",
      "844/844 [==============================] - 24s 23ms/step - loss: 0.0229 - accuracy: 0.9923 - val_loss: 0.0113 - val_accuracy: 0.9966\n",
      "Epoch 29/50\n",
      "844/844 [==============================] - 24s 23ms/step - loss: 0.0224 - accuracy: 0.9927 - val_loss: 0.0119 - val_accuracy: 0.9965\n",
      "Epoch 30/50\n",
      "844/844 [==============================] - 24s 23ms/step - loss: 0.0219 - accuracy: 0.9925 - val_loss: 0.0111 - val_accuracy: 0.9966\n",
      "Epoch 31/50\n",
      "844/844 [==============================] - 23s 22ms/step - loss: 0.0220 - accuracy: 0.9926 - val_loss: 0.0108 - val_accuracy: 0.9965\n",
      "Epoch 32/50\n",
      "844/844 [==============================] - 24s 23ms/step - loss: 0.0212 - accuracy: 0.9930 - val_loss: 0.0106 - val_accuracy: 0.9967\n",
      "Epoch 33/50\n",
      "844/844 [==============================] - 24s 23ms/step - loss: 0.0206 - accuracy: 0.9932 - val_loss: 0.0103 - val_accuracy: 0.9970\n"
     ]
    },
    {
     "data": {
      "text/plain": [
       "<matplotlib.legend.Legend at 0x7f942aa2cf10>"
      ]
     },
     "execution_count": 4,
     "metadata": {},
     "output_type": "execute_result"
    },
    {
     "data": {
      "image/png": "[encoded data removed]",
      "text/plain": [
       "<Figure size 640x480 with 1 Axes>"
      ]
     },
     "metadata": {},
     "output_type": "display_data"
    }
   ],
   "source": [
    "train_shape = tf.data.experimental.cardinality(train_aug).numpy()\n",
    "val_size = 0.2\n",
    "\n",
    "splitter = train_aug.shuffle(100000, reshuffle_each_iteration=True)\n",
    "val_ds = splitter.take(train_shape * val_size).batch(512)\n",
    "train_ds = splitter.skip(train_shape * val_size).batch(512)\n",
    "\n",
    "net.compile(\n",
    "    loss='categorical_crossentropy'\n",
    "    , optimizer=tf.keras.optimizers.SGD(nesterov=True, momentum=0.9)\n",
    "    # , optimizer=\"adam\"\n",
    "    , metrics=[\"accuracy\"]\n",
    ")\n",
    "\n",
    "history = net.fit(\n",
    "    train_ds\n",
    "    , validation_data=val_ds\n",
    "    , epochs=50\n",
    "    , callbacks=[\n",
    "        tf.keras.callbacks.EarlyStopping(min_delta=0.001, patience=5, restore_best_weights=True, monitor=\"val_loss\")\n",
    "        , tf.keras.callbacks.ReduceLROnPlateau(factor=0.2, patience=3, min_lr=1e-5)\n",
    "        , tf.keras.callbacks.TensorBoard(log_dir=\"simple_logs\", histogram_freq=1, write_graph=True, write_images=True)\n",
    "    ]\n",
    ")\n",
    "\n",
    "import matplotlib.pyplot as plt\n",
    "plt.figure()\n",
    "plt.plot(history.history['loss'], label='training loss')\n",
    "plt.plot(history.history['val_loss'], label='validation loss')\n",
    "plt.xlabel('epochs')\n",
    "plt.ylabel('loss')\n",
    "plt.legend()"
   ]
  },
  {
   "cell_type": "code",
   "execution_count": 7,
   "id": "2e4ee3e3-3df3-4084-add5-9bf5f28bb63a",
   "metadata": {
    "tags": []
   },
   "outputs": [
    {
     "name": "stdout",
     "output_type": "stream",
     "text": [
      "352/352 [==============================] - 18s 45ms/step - loss: 0.0585 - accuracy: 0.9840 - val_loss: 0.0280 - val_accuracy: 0.9920\n"
     ]
    }
   ],
   "source": [
    "augpv1 = Path(\"../scratch\").joinpath(\"train_augmented_v1\")\n",
    "# epochs=1\n",
    "train_augv1, test_augv1 = pp.load_aug_data(augpv1.resolve(), train_ir.element_spec, test_ind=[1,2,3,4,6,7,8,9])\n",
    "_ = net.fit(\n",
    "    train_ir.concatenate(train_augv1).shuffle(100000, reshuffle_each_iteration=True).batch(512)\n",
    "    , validation_data=test_augv1.batch(512)\n",
    "    , epochs=1\n",
    ")"
   ]
  },
  {
   "cell_type": "code",
   "execution_count": 8,
   "id": "012286bc-ce8a-4f34-99c3-0b8673f048cb",
   "metadata": {
    "tags": []
   },
   "outputs": [
    {
     "name": "stdout",
     "output_type": "stream",
     "text": [
      "118/118 [==============================] - 1s 5ms/step - loss: 0.0243 - accuracy: 0.9926\n",
      "20/20 [==============================] - 0s 5ms/step - loss: 0.0348 - accuracy: 0.9895\n"
     ]
    },
    {
     "data": {
      "text/plain": [
       "([0.02425846830010414, 0.9926499724388123],\n",
       " [0.034818291664123535, 0.9894999861717224])"
      ]
     },
     "execution_count": 8,
     "metadata": {},
     "output_type": "execute_result"
    }
   ],
   "source": [
    "net.evaluate(train_ir.batch(512)), net.evaluate(test_ir.batch(512))"
   ]
  },
  {
   "cell_type": "code",
   "execution_count": null,
   "id": "18f942d7-b74d-469b-ab28-f39cc2761bb0",
   "metadata": {
    "tags": []
   },
   "outputs": [
    {
     "name": "stdout",
     "output_type": "stream",
     "text": [
      " 33/844 [>.............................] - ETA: 11s - loss: 0.0244 - accuracy: 0.9917"
     ]
    }
   ],
   "source": [
    "net.evaluate(train_ds), net.evaluate(val_ds), net.evaluate(test_aug.batch(512))"
   ]
  },
  {
   "cell_type": "code",
   "execution_count": 10,
   "id": "5530118a-a26d-487a-a60e-feeb1f4f8a59",
   "metadata": {
    "tags": []
   },
   "outputs": [],
   "source": [
    "net.save(modelp.joinpath(\"simple.tmp.\"+version+\".h5\").resolve().as_posix(), save_format=\"h5\")"
   ]
  },
  {
   "cell_type": "markdown",
   "id": "5bb1b2a8-a8b7-4a17-9b0e-d0777ea81521",
   "metadata": {},
   "source": [
    "# 5. Simple v2"
   ]
  },
  {
   "cell_type": "code",
   "execution_count": 14,
   "id": "dcb34ec4-86e1-4bf1-826f-de86c7686c81",
   "metadata": {
    "tags": []
   },
   "outputs": [
    {
     "name": "stdout",
     "output_type": "stream",
     "text": [
      "Model: \"model_4\"\n",
      "_________________________________________________________________\n",
      "Layer (type)                 Output Shape              Param #   \n",
      "=================================================================\n",
      "input_5 (InputLayer)         [(None, 28, 28, 1)]       0         \n",
      "_________________________________________________________________\n",
      "conv2d_24 (Conv2D)           (None, 28, 28, 64)        640       \n",
      "_________________________________________________________________\n",
      "conv2d_25 (Conv2D)           (None, 28, 28, 64)        36928     \n",
      "_________________________________________________________________\n",
      "conv2d_26 (Conv2D)           (None, 12, 12, 64)        102464    \n",
      "_________________________________________________________________\n",
      "batch_normalization_12 (Batc (None, 12, 12, 64)        192       \n",
      "_________________________________________________________________\n",
      "conv2d_27 (Conv2D)           (None, 12, 12, 128)       73856     \n",
      "_________________________________________________________________\n",
      "conv2d_28 (Conv2D)           (None, 12, 12, 128)       147584    \n",
      "_________________________________________________________________\n",
      "conv2d_29 (Conv2D)           (None, 4, 4, 128)         409728    \n",
      "_________________________________________________________________\n",
      "batch_normalization_13 (Batc (None, 4, 4, 128)         384       \n",
      "_________________________________________________________________\n",
      "flatten_4 (Flatten)          (None, 2048)              0         \n",
      "_________________________________________________________________\n",
      "dense_8 (Dense)              (None, 256)               524544    \n",
      "_________________________________________________________________\n",
      "batch_normalization_14 (Batc (None, 256)               768       \n",
      "_________________________________________________________________\n",
      "dropout_4 (Dropout)          (None, 256)               0         \n",
      "_________________________________________________________________\n",
      "dense_9 (Dense)              (None, 256)               65792     \n",
      "_________________________________________________________________\n",
      "batch_normalization_15 (Batc (None, 256)               768       \n",
      "_________________________________________________________________\n",
      "dropout_5 (Dropout)          (None, 256)               0         \n",
      "_________________________________________________________________\n",
      "dense_10 (Dense)             (None, 10)                2570      \n",
      "=================================================================\n",
      "Total params: 1,366,218\n",
      "Trainable params: 1,364,810\n",
      "Non-trainable params: 1,408\n",
      "_________________________________________________________________\n"
     ]
    }
   ],
   "source": [
    "inputs = tf.keras.layers.Input(shape=(28, 28, 1))\n",
    "\n",
    "x = tf.keras.layers.Conv2D(\n",
    "    filters=64\n",
    "    , kernel_size=3\n",
    "    , strides=1\n",
    "    , padding=\"same\"\n",
    "    , activation=\"relu\"\n",
    "    , use_bias=True\n",
    "    , kernel_initializer=\"he_uniform\"\n",
    "    , bias_initializer=\"zeros\"\n",
    ")(inputs)\n",
    "x = tf.keras.layers.Conv2D(\n",
    "    filters=64\n",
    "    , kernel_size=3\n",
    "    , strides=1\n",
    "    , padding=\"same\"\n",
    "    , activation=\"relu\"\n",
    "    , use_bias=True\n",
    "    , kernel_initializer=\"he_uniform\"\n",
    "    , bias_initializer=\"zeros\"\n",
    ")(x)\n",
    "x = tf.keras.layers.Conv2D(\n",
    "    filters=64\n",
    "    , kernel_size=5\n",
    "    , strides=2\n",
    "    , padding=\"valid\"\n",
    "    , activation=\"relu\"\n",
    "    , use_bias=True\n",
    "    , kernel_initializer=\"he_uniform\"\n",
    "    , bias_initializer=\"zeros\"\n",
    ")(x)\n",
    "x = tf.keras.layers.BatchNormalization(scale=False)(x)\n",
    "x = tf.keras.layers.Conv2D(\n",
    "    filters=128\n",
    "    , kernel_size=3\n",
    "    , strides=1\n",
    "    , padding=\"same\"\n",
    "    , activation=\"relu\"\n",
    "    , use_bias=True\n",
    "    , kernel_initializer=\"he_uniform\"\n",
    "    , bias_initializer=\"zeros\"\n",
    ")(x)\n",
    "x = tf.keras.layers.Conv2D(\n",
    "    filters=128\n",
    "    , kernel_size=3\n",
    "    , strides=1\n",
    "    , padding=\"same\"\n",
    "    , activation=\"relu\"\n",
    "    , use_bias=True\n",
    "    , kernel_initializer=\"he_uniform\"\n",
    "    , bias_initializer=\"zeros\"\n",
    ")(x)\n",
    "x = tf.keras.layers.Conv2D(\n",
    "    filters=128\n",
    "    , kernel_size=5\n",
    "    , strides=2\n",
    "    , padding=\"valid\"\n",
    "    , activation=\"relu\"\n",
    "    , use_bias=True\n",
    "    , kernel_initializer=\"he_uniform\"\n",
    "    , bias_initializer=\"zeros\"\n",
    ")(x)\n",
    "x = tf.keras.layers.BatchNormalization(scale=False)(x)\n",
    "x = tf.keras.layers.Flatten()(x)\n",
    "x = tf.keras.layers.Dense(\n",
    "    256\n",
    "    , activation=\"relu\"\n",
    "    , use_bias=True\n",
    "    , kernel_initializer=\"he_uniform\"\n",
    "    , bias_initializer=\"zeros\"\n",
    ")(x)\n",
    "x = tf.keras.layers.BatchNormalization(scale=False)(x)\n",
    "x = tf.keras.layers.Dropout(0.5)(x)\n",
    "x = tf.keras.layers.Dense(\n",
    "    256\n",
    "    , activation=\"relu\"\n",
    "    , use_bias=True\n",
    "    , kernel_initializer=\"he_uniform\"\n",
    "    , bias_initializer=\"zeros\"\n",
    ")(x)\n",
    "x = tf.keras.layers.BatchNormalization(scale=False)(x)\n",
    "x = tf.keras.layers.Dropout(0.5)(x)\n",
    "\n",
    "outputs = tf.keras.layers.Dense(10, activation='softmax')(x)\n",
    "net = tf.keras.Model(inputs=inputs, outputs=outputs)\n",
    "net.summary()"
   ]
  },
  {
   "cell_type": "code",
   "execution_count": 15,
   "id": "ff2d06d0-e09a-48cb-9ee0-05678d4ed69b",
   "metadata": {
    "tags": []
   },
   "outputs": [
    {
     "name": "stderr",
     "output_type": "stream",
     "text": [
      "2023-02-28 21:31:27.406544: I tensorflow/core/profiler/lib/profiler_session.cc:136] Profiler session initializing.\n",
      "2023-02-28 21:31:27.406569: I tensorflow/core/profiler/lib/profiler_session.cc:155] Profiler session started.\n",
      "2023-02-28 21:31:28.063933: I tensorflow/core/profiler/lib/profiler_session.cc:172] Profiler session tear down.\n",
      "2023-02-28 21:31:28.064028: I tensorflow/core/profiler/internal/gpu/cupti_tracer.cc:1487] CUPTI activity buffer flushed\n"
     ]
    },
    {
     "name": "stdout",
     "output_type": "stream",
     "text": [
      "Epoch 1/50\n",
      "  2/844 [..............................] - ETA: 6:10 - loss: 3.6794 - accuracy: 0.0977   "
     ]
    },
    {
     "name": "stderr",
     "output_type": "stream",
     "text": [
      "2023-02-28 21:31:34.396628: I tensorflow/core/profiler/lib/profiler_session.cc:136] Profiler session initializing.\n",
      "2023-02-28 21:31:34.396656: I tensorflow/core/profiler/lib/profiler_session.cc:155] Profiler session started.\n"
     ]
    },
    {
     "name": "stdout",
     "output_type": "stream",
     "text": [
      "  9/844 [..............................] - ETA: 2:53 - loss: 3.4965 - accuracy: 0.1241"
     ]
    },
    {
     "name": "stderr",
     "output_type": "stream",
     "text": [
      "2023-02-28 21:31:35.562674: I tensorflow/core/profiler/lib/profiler_session.cc:71] Profiler session collecting data.\n",
      "2023-02-28 21:31:35.563021: I tensorflow/core/profiler/internal/gpu/cupti_tracer.cc:1487] CUPTI activity buffer flushed\n",
      "2023-02-28 21:31:35.628516: I tensorflow/core/profiler/internal/gpu/cupti_collector.cc:228]  GpuTracer has collected 310 callback api events and 298 activity events. \n",
      "2023-02-28 21:31:35.641233: I tensorflow/core/profiler/lib/profiler_session.cc:172] Profiler session tear down.\n",
      "2023-02-28 21:31:35.672996: I tensorflow/core/profiler/rpc/client/save_profile.cc:137] Creating directory: simplev2_logs/train/plugins/profile/2023_02_28_21_31_35\n",
      "2023-02-28 21:31:35.692531: I tensorflow/core/profiler/rpc/client/save_profile.cc:143] Dumped gzipped tool data for trace.json.gz to simplev2_logs/train/plugins/profile/2023_02_28_21_31_35/erc-hpc-comp034.trace.json.gz\n",
      "2023-02-28 21:31:35.714644: I tensorflow/core/profiler/rpc/client/save_profile.cc:137] Creating directory: simplev2_logs/train/plugins/profile/2023_02_28_21_31_35\n",
      "2023-02-28 21:31:35.717839: I tensorflow/core/profiler/rpc/client/save_profile.cc:143] Dumped gzipped tool data for memory_profile.json.gz to simplev2_logs/train/plugins/profile/2023_02_28_21_31_35/erc-hpc-comp034.memory_profile.json.gz\n",
      "2023-02-28 21:31:35.718717: I tensorflow/core/profiler/rpc/client/capture_profile.cc:251] Creating directory: simplev2_logs/train/plugins/profile/2023_02_28_21_31_35Dumped tool data for xplane.pb to simplev2_logs/train/plugins/profile/2023_02_28_21_31_35/erc-hpc-comp034.xplane.pb\n",
      "Dumped tool data for overview_page.pb to simplev2_logs/train/plugins/profile/2023_02_28_21_31_35/erc-hpc-comp034.overview_page.pb\n",
      "Dumped tool data for input_pipeline.pb to simplev2_logs/train/plugins/profile/2023_02_28_21_31_35/erc-hpc-comp034.input_pipeline.pb\n",
      "Dumped tool data for tensorflow_stats.pb to simplev2_logs/train/plugins/profile/2023_02_28_21_31_35/erc-hpc-comp034.tensorflow_stats.pb\n",
      "Dumped tool data for kernel_stats.pb to simplev2_logs/train/plugins/profile/2023_02_28_21_31_35/erc-hpc-comp034.kernel_stats.pb\n",
      "\n"
     ]
    },
    {
     "name": "stdout",
     "output_type": "stream",
     "text": [
      "844/844 [==============================] - 29s 28ms/step - loss: 1.0865 - accuracy: 0.6707 - val_loss: 0.1950 - val_accuracy: 0.9404\n",
      "Epoch 2/50\n",
      "844/844 [==============================] - 27s 26ms/step - loss: 0.1267 - accuracy: 0.9631 - val_loss: 0.1042 - val_accuracy: 0.9692\n",
      "Epoch 3/50\n",
      "844/844 [==============================] - 27s 26ms/step - loss: 0.0855 - accuracy: 0.9756 - val_loss: 0.0717 - val_accuracy: 0.9785\n",
      "Epoch 4/50\n",
      "844/844 [==============================] - 26s 25ms/step - loss: 0.0673 - accuracy: 0.9805 - val_loss: 0.0624 - val_accuracy: 0.9810\n",
      "Epoch 5/50\n",
      "844/844 [==============================] - 26s 25ms/step - loss: 0.0560 - accuracy: 0.9837 - val_loss: 0.0523 - val_accuracy: 0.9847\n",
      "Epoch 6/50\n",
      "844/844 [==============================] - 26s 25ms/step - loss: 0.0492 - accuracy: 0.9856 - val_loss: 0.0545 - val_accuracy: 0.9832\n",
      "Epoch 7/50\n",
      "844/844 [==============================] - 26s 25ms/step - loss: 0.0421 - accuracy: 0.9877 - val_loss: 0.0424 - val_accuracy: 0.9871\n",
      "Epoch 8/50\n",
      "844/844 [==============================] - 26s 25ms/step - loss: 0.0384 - accuracy: 0.9887 - val_loss: 0.0347 - val_accuracy: 0.9894\n",
      "Epoch 9/50\n",
      "844/844 [==============================] - 26s 25ms/step - loss: 0.0322 - accuracy: 0.9905 - val_loss: 0.0311 - val_accuracy: 0.9908\n",
      "Epoch 10/50\n",
      "844/844 [==============================] - 26s 25ms/step - loss: 0.0293 - accuracy: 0.9912 - val_loss: 0.0353 - val_accuracy: 0.9892\n",
      "Epoch 11/50\n",
      "844/844 [==============================] - 26s 26ms/step - loss: 0.0268 - accuracy: 0.9920 - val_loss: 0.0301 - val_accuracy: 0.9907\n",
      "Epoch 12/50\n",
      "844/844 [==============================] - 26s 25ms/step - loss: 0.0237 - accuracy: 0.9928 - val_loss: 0.0253 - val_accuracy: 0.9921\n",
      "Epoch 13/50\n",
      "844/844 [==============================] - 26s 25ms/step - loss: 0.0219 - accuracy: 0.9931 - val_loss: 0.0253 - val_accuracy: 0.9923\n",
      "Epoch 14/50\n",
      "844/844 [==============================] - 26s 25ms/step - loss: 0.0196 - accuracy: 0.9942 - val_loss: 0.0197 - val_accuracy: 0.9941\n",
      "Epoch 15/50\n",
      "844/844 [==============================] - 26s 25ms/step - loss: 0.0181 - accuracy: 0.9944 - val_loss: 0.0182 - val_accuracy: 0.9946\n",
      "Epoch 16/50\n",
      "844/844 [==============================] - 26s 25ms/step - loss: 0.0174 - accuracy: 0.9946 - val_loss: 0.0156 - val_accuracy: 0.9951\n",
      "Epoch 17/50\n",
      "844/844 [==============================] - 26s 26ms/step - loss: 0.0148 - accuracy: 0.9954 - val_loss: 0.0144 - val_accuracy: 0.9953\n",
      "Epoch 18/50\n",
      "844/844 [==============================] - 26s 25ms/step - loss: 0.0137 - accuracy: 0.9957 - val_loss: 0.0122 - val_accuracy: 0.9963\n",
      "Epoch 19/50\n",
      "844/844 [==============================] - 26s 25ms/step - loss: 0.0125 - accuracy: 0.9962 - val_loss: 0.0168 - val_accuracy: 0.9948\n",
      "Epoch 20/50\n",
      "844/844 [==============================] - 26s 25ms/step - loss: 0.0122 - accuracy: 0.9961 - val_loss: 0.0146 - val_accuracy: 0.9955\n",
      "Epoch 21/50\n",
      "844/844 [==============================] - 26s 25ms/step - loss: 0.0105 - accuracy: 0.9967 - val_loss: 0.0111 - val_accuracy: 0.9962\n",
      "Epoch 22/50\n",
      "844/844 [==============================] - 26s 25ms/step - loss: 0.0112 - accuracy: 0.9966 - val_loss: 0.0129 - val_accuracy: 0.9962\n",
      "Epoch 23/50\n",
      "844/844 [==============================] - 26s 25ms/step - loss: 0.0106 - accuracy: 0.9967 - val_loss: 0.0091 - val_accuracy: 0.9971\n",
      "Epoch 24/50\n",
      "844/844 [==============================] - 26s 25ms/step - loss: 0.0092 - accuracy: 0.9971 - val_loss: 0.0097 - val_accuracy: 0.9971\n",
      "Epoch 25/50\n",
      "844/844 [==============================] - 26s 25ms/step - loss: 0.0089 - accuracy: 0.9973 - val_loss: 0.0093 - val_accuracy: 0.9971\n",
      "Epoch 26/50\n",
      "844/844 [==============================] - 26s 25ms/step - loss: 0.0090 - accuracy: 0.9971 - val_loss: 0.0083 - val_accuracy: 0.9972\n",
      "Epoch 27/50\n",
      "844/844 [==============================] - 26s 25ms/step - loss: 0.0078 - accuracy: 0.9974 - val_loss: 0.0104 - val_accuracy: 0.9968\n",
      "Epoch 28/50\n",
      "844/844 [==============================] - 26s 25ms/step - loss: 0.0081 - accuracy: 0.9974 - val_loss: 0.0066 - val_accuracy: 0.9980\n",
      "Epoch 29/50\n",
      "844/844 [==============================] - 26s 26ms/step - loss: 0.0073 - accuracy: 0.9976 - val_loss: 0.0071 - val_accuracy: 0.9980\n",
      "Epoch 30/50\n",
      "844/844 [==============================] - 26s 26ms/step - loss: 0.0074 - accuracy: 0.9978 - val_loss: 0.0065 - val_accuracy: 0.9981\n",
      "Epoch 31/50\n",
      "844/844 [==============================] - 26s 25ms/step - loss: 0.0063 - accuracy: 0.9979 - val_loss: 0.0070 - val_accuracy: 0.9978\n",
      "Epoch 32/50\n",
      "844/844 [==============================] - 26s 25ms/step - loss: 0.0068 - accuracy: 0.9978 - val_loss: 0.0077 - val_accuracy: 0.9976\n",
      "Epoch 33/50\n",
      "844/844 [==============================] - 26s 25ms/step - loss: 0.0064 - accuracy: 0.9979 - val_loss: 0.0050 - val_accuracy: 0.9984\n",
      "Epoch 34/50\n",
      "844/844 [==============================] - 26s 25ms/step - loss: 0.0061 - accuracy: 0.9980 - val_loss: 0.0051 - val_accuracy: 0.9983\n",
      "Epoch 35/50\n",
      "844/844 [==============================] - 26s 25ms/step - loss: 0.0067 - accuracy: 0.9980 - val_loss: 0.0057 - val_accuracy: 0.9983\n",
      "Epoch 36/50\n",
      "844/844 [==============================] - 26s 25ms/step - loss: 0.0054 - accuracy: 0.9983 - val_loss: 0.0063 - val_accuracy: 0.9980\n",
      "Epoch 37/50\n",
      "844/844 [==============================] - 26s 25ms/step - loss: 0.0052 - accuracy: 0.9983 - val_loss: 0.0046 - val_accuracy: 0.9985\n",
      "Epoch 38/50\n",
      "844/844 [==============================] - 26s 25ms/step - loss: 0.0050 - accuracy: 0.9984 - val_loss: 0.0045 - val_accuracy: 0.9986\n"
     ]
    },
    {
     "data": {
      "text/plain": [
       "<matplotlib.legend.Legend at 0x7fee94c897f0>"
      ]
     },
     "execution_count": 15,
     "metadata": {},
     "output_type": "execute_result"
    },
    {
     "data": {
      "image/png": "[encoded data removed]",
      "text/plain": [
       "<Figure size 640x480 with 1 Axes>"
      ]
     },
     "metadata": {},
     "output_type": "display_data"
    }
   ],
   "source": [
    "train_shape = tf.data.experimental.cardinality(train_aug).numpy()\n",
    "val_size = 0.2\n",
    "\n",
    "splitter = train_aug.shuffle(100000, reshuffle_each_iteration=True)\n",
    "val_ds = splitter.take(train_shape * val_size).batch(512)\n",
    "train_ds = splitter.skip(train_shape * val_size).batch(512)\n",
    "\n",
    "net.compile(\n",
    "    loss='categorical_crossentropy'\n",
    "    # , optimizer=tf.keras.optimizers.SGD(nesterov=True, momentum=0.9)\n",
    "    , optimizer=\"adam\"\n",
    "    , metrics=[\"accuracy\"]\n",
    ")\n",
    "\n",
    "history = net.fit(\n",
    "    train_ds\n",
    "    , validation_data=val_ds\n",
    "    , epochs=50\n",
    "    , callbacks=[\n",
    "        tf.keras.callbacks.EarlyStopping(min_delta=0.001, patience=5, restore_best_weights=True, monitor=\"val_loss\")\n",
    "        # , tf.keras.callbacks.ReduceLROnPlateau(factor=0.2, patience=3, min_lr=1e-5)\n",
    "        , tf.keras.callbacks.TensorBoard(log_dir=\"simplev2_logs\", histogram_freq=1, write_graph=True, write_images=True)\n",
    "    ]\n",
    ")\n",
    "\n",
    "import matplotlib.pyplot as plt\n",
    "plt.figure()\n",
    "plt.plot(history.history['loss'], label='training loss')\n",
    "plt.plot(history.history['val_loss'], label='validation loss')\n",
    "plt.xlabel('epochs')\n",
    "plt.ylabel('loss')\n",
    "plt.legend()"
   ]
  },
  {
   "cell_type": "code",
   "execution_count": 18,
   "id": "8ef2c94b-53c1-49c9-bb6b-50c621214d62",
   "metadata": {
    "tags": []
   },
   "outputs": [
    {
     "name": "stdout",
     "output_type": "stream",
     "text": [
      "352/352 [==============================] - 22s 57ms/step - loss: 0.0212 - accuracy: 0.9946 - val_loss: 0.0124 - val_accuracy: 0.9962\n"
     ]
    }
   ],
   "source": [
    "augpv1 = Path(\"../scratch\").joinpath(\"train_augmented_v1\")\n",
    "# epochs=1\n",
    "train_augv1, test_augv1 = pp.load_aug_data(augpv1.resolve(), train_ir.element_spec, test_ind=[1,2,3,4,6,7,8,9])\n",
    "_ = net.fit(\n",
    "    train_ir.concatenate(train_augv1).shuffle(100000, reshuffle_each_iteration=True).batch(512)\n",
    "    , validation_data=test_augv1.batch(512)\n",
    "    , epochs=1\n",
    ")"
   ]
  },
  {
   "cell_type": "code",
   "execution_count": 19,
   "id": "4d193dcd-3be1-4056-9b74-f4badbe3ef70",
   "metadata": {
    "tags": []
   },
   "outputs": [
    {
     "name": "stdout",
     "output_type": "stream",
     "text": [
      "118/118 [==============================] - 1s 6ms/step - loss: 0.0050 - accuracy: 0.9986\n",
      "20/20 [==============================] - 0s 6ms/step - loss: 0.0165 - accuracy: 0.9947\n"
     ]
    },
    {
     "data": {
      "text/plain": [
       "([0.004972307942807674, 0.9985833168029785],\n",
       " [0.016536638140678406, 0.994700014591217])"
      ]
     },
     "execution_count": 19,
     "metadata": {},
     "output_type": "execute_result"
    }
   ],
   "source": [
    "net.evaluate(train_ir.batch(512)), net.evaluate(test_ir.batch(512))"
   ]
  },
  {
   "cell_type": "code",
   "execution_count": 20,
   "id": "b76f6301-fbd6-4b01-b8f3-c2d52e822d40",
   "metadata": {
    "tags": []
   },
   "outputs": [
    {
     "name": "stdout",
     "output_type": "stream",
     "text": [
      "844/844 [==============================] - 15s 11ms/step - loss: 0.0256 - accuracy: 0.9917\n",
      "211/211 [==============================] - 6s 16ms/step - loss: 0.0292 - accuracy: 0.9906\n",
      "118/118 [==============================] - 2s 16ms/step - loss: 0.0573 - accuracy: 0.9838\n"
     ]
    },
    {
     "data": {
      "text/plain": [
       "([0.025584379211068153, 0.9916828870773315],\n",
       " [0.029219167307019234, 0.9905555844306946],\n",
       " [0.05733729526400566, 0.9838333129882812])"
      ]
     },
     "execution_count": 20,
     "metadata": {},
     "output_type": "execute_result"
    }
   ],
   "source": [
    "net.evaluate(train_ds), net.evaluate(val_ds), net.evaluate(test_aug.batch(512))"
   ]
  },
  {
   "cell_type": "code",
   "execution_count": 21,
   "id": "83bf419c-24fc-4a26-9fe8-eae9382ed0b8",
   "metadata": {
    "tags": []
   },
   "outputs": [],
   "source": [
    "net.save(modelp.joinpath(\"simple.v2.\"+version+\".h5\").resolve().as_posix(), save_format=\"h5\")"
   ]
  },
  {
   "cell_type": "code",
   "execution_count": null,
   "id": "a2e0566b-3a97-4130-b17c-1176c225bdbd",
   "metadata": {},
   "outputs": [],
   "source": []
  }
 ],
 "metadata": {
  "kernelspec": {
   "display_name": "Python 3 (ipykernel)",
   "language": "python",
   "name": "python3"
  },
  "language_info": {
   "codemirror_mode": {
    "name": "ipython",
    "version": 3
   },
   "file_extension": ".py",
   "mimetype": "text/x-python",
   "name": "python",
   "nbconvert_exporter": "python",
   "pygments_lexer": "ipython3",
   "version": "3.8.12"
  }
 },
 "nbformat": 4,
 "nbformat_minor": 5
}
