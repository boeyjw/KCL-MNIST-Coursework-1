{
 "cells": [
  {
   "cell_type": "code",
   "execution_count": 1,
   "id": "fa46f7d0-0a07-4115-bd2f-82fe109b7704",
   "metadata": {
    "tags": []
   },
   "outputs": [],
   "source": [
    "%load_ext autoreload\n",
    "%autoreload 2"
   ]
  },
  {
   "cell_type": "code",
   "execution_count": 2,
   "id": "6da1f221-3754-439e-bd19-1f5a90b04db5",
   "metadata": {
    "tags": []
   },
   "outputs": [
    {
     "name": "stderr",
     "output_type": "stream",
     "text": [
      "2023-02-25 14:27:28.955802: I tensorflow/stream_executor/platform/default/dso_loader.cc:49] Successfully opened dynamic library libcudart.so.11.0\n",
      "2023-02-25 14:27:52.060987: I tensorflow/stream_executor/platform/default/dso_loader.cc:49] Successfully opened dynamic library libcuda.so.1\n",
      "2023-02-25 14:27:52.234822: I tensorflow/core/common_runtime/gpu/gpu_device.cc:1720] Found device 0 with properties: \n",
      "pciBusID: 0000:ca:00.0 name: NVIDIA A100-SXM4-40GB computeCapability: 8.0\n",
      "coreClock: 1.41GHz coreCount: 108 deviceMemorySize: 39.41GiB deviceMemoryBandwidth: 1.41TiB/s\n",
      "2023-02-25 14:27:52.234848: I tensorflow/stream_executor/platform/default/dso_loader.cc:49] Successfully opened dynamic library libcudart.so.11.0\n",
      "2023-02-25 14:27:52.241304: I tensorflow/stream_executor/platform/default/dso_loader.cc:49] Successfully opened dynamic library libcublas.so.11\n",
      "2023-02-25 14:27:52.241359: I tensorflow/stream_executor/platform/default/dso_loader.cc:49] Successfully opened dynamic library libcublasLt.so.11\n",
      "2023-02-25 14:27:52.242841: I tensorflow/stream_executor/platform/default/dso_loader.cc:49] Successfully opened dynamic library libcufft.so.10\n",
      "2023-02-25 14:27:52.243543: I tensorflow/stream_executor/platform/default/dso_loader.cc:49] Successfully opened dynamic library libcurand.so.10\n",
      "2023-02-25 14:27:52.246692: I tensorflow/stream_executor/platform/default/dso_loader.cc:49] Successfully opened dynamic library libcusolver.so.11\n",
      "2023-02-25 14:27:52.247790: I tensorflow/stream_executor/platform/default/dso_loader.cc:49] Successfully opened dynamic library libcusparse.so.11\n",
      "2023-02-25 14:27:52.248391: I tensorflow/stream_executor/platform/default/dso_loader.cc:49] Successfully opened dynamic library libcudnn.so.8\n",
      "2023-02-25 14:27:52.251928: I tensorflow/core/common_runtime/gpu/gpu_device.cc:1862] Adding visible gpu devices: 0\n",
      "2023-02-25 14:27:52.254888: I tensorflow/core/common_runtime/gpu/gpu_device.cc:1720] Found device 0 with properties: \n",
      "pciBusID: 0000:ca:00.0 name: NVIDIA A100-SXM4-40GB computeCapability: 8.0\n",
      "coreClock: 1.41GHz coreCount: 108 deviceMemorySize: 39.41GiB deviceMemoryBandwidth: 1.41TiB/s\n",
      "2023-02-25 14:27:52.254907: I tensorflow/stream_executor/platform/default/dso_loader.cc:49] Successfully opened dynamic library libcudart.so.11.0\n",
      "2023-02-25 14:27:52.254923: I tensorflow/stream_executor/platform/default/dso_loader.cc:49] Successfully opened dynamic library libcublas.so.11\n",
      "2023-02-25 14:27:52.254930: I tensorflow/stream_executor/platform/default/dso_loader.cc:49] Successfully opened dynamic library libcublasLt.so.11\n",
      "2023-02-25 14:27:52.254937: I tensorflow/stream_executor/platform/default/dso_loader.cc:49] Successfully opened dynamic library libcufft.so.10\n",
      "2023-02-25 14:27:52.254943: I tensorflow/stream_executor/platform/default/dso_loader.cc:49] Successfully opened dynamic library libcurand.so.10\n",
      "2023-02-25 14:27:52.254950: I tensorflow/stream_executor/platform/default/dso_loader.cc:49] Successfully opened dynamic library libcusolver.so.11\n",
      "2023-02-25 14:27:52.254956: I tensorflow/stream_executor/platform/default/dso_loader.cc:49] Successfully opened dynamic library libcusparse.so.11\n",
      "2023-02-25 14:27:52.254963: I tensorflow/stream_executor/platform/default/dso_loader.cc:49] Successfully opened dynamic library libcudnn.so.8\n",
      "2023-02-25 14:27:52.258424: I tensorflow/core/common_runtime/gpu/gpu_device.cc:1862] Adding visible gpu devices: 0\n",
      "2023-02-25 14:27:52.258446: I tensorflow/stream_executor/platform/default/dso_loader.cc:49] Successfully opened dynamic library libcudart.so.11.0\n",
      "2023-02-25 14:27:52.732118: I tensorflow/core/common_runtime/gpu/gpu_device.cc:1261] Device interconnect StreamExecutor with strength 1 edge matrix:\n",
      "2023-02-25 14:27:52.732145: I tensorflow/core/common_runtime/gpu/gpu_device.cc:1267]      0 \n",
      "2023-02-25 14:27:52.732149: I tensorflow/core/common_runtime/gpu/gpu_device.cc:1280] 0:   N \n",
      "2023-02-25 14:27:52.735678: I tensorflow/core/common_runtime/gpu/gpu_device.cc:1406] Created TensorFlow device (/job:localhost/replica:0/task:0/device:GPU:0 with 37428 MB memory) -> physical GPU (device: 0, name: NVIDIA A100-SXM4-40GB, pci bus id: 0000:ca:00.0, compute capability: 8.0)\n"
     ]
    }
   ],
   "source": [
    "import datetime\n",
    "from pathlib import Path\n",
    "import preproc as pp\n",
    "\n",
    "import numpy as np\n",
    "import tensorflow as tf\n",
    "\n",
    "version = \"v2\"\n",
    "augp = Path(\"../scratch\").joinpath(\"train_augmented_\" + version)\n",
    "modelp = Path(\"../scratch\").joinpath(\"models\")\n",
    "\n",
    "train_ir, test_ir = pp.load_data(val_size=0)\n",
    "train_aug, test_aug = pp.load_aug_data(augp, train_ir.element_spec, test_ind=[3])"
   ]
  },
  {
   "cell_type": "markdown",
   "id": "5fb2eeb6-d894-4d7a-b1e3-ea08a585a714",
   "metadata": {},
   "source": [
    "# Simple"
   ]
  },
  {
   "cell_type": "code",
   "execution_count": 3,
   "id": "35c0618d-144b-4c7a-b4c4-63b3b7c952e1",
   "metadata": {
    "tags": []
   },
   "outputs": [
    {
     "name": "stdout",
     "output_type": "stream",
     "text": [
      "Model: \"model\"\n",
      "_________________________________________________________________\n",
      "Layer (type)                 Output Shape              Param #   \n",
      "=================================================================\n",
      "input_1 (InputLayer)         [(None, 28, 28, 1)]       0         \n",
      "_________________________________________________________________\n",
      "conv2d (Conv2D)              (None, 28, 28, 64)        640       \n",
      "_________________________________________________________________\n",
      "conv2d_1 (Conv2D)            (None, 28, 28, 64)        36928     \n",
      "_________________________________________________________________\n",
      "conv2d_2 (Conv2D)            (None, 14, 14, 64)        16448     \n",
      "_________________________________________________________________\n",
      "batch_normalization (BatchNo (None, 14, 14, 64)        256       \n",
      "_________________________________________________________________\n",
      "conv2d_3 (Conv2D)            (None, 14, 14, 128)       73856     \n",
      "_________________________________________________________________\n",
      "conv2d_4 (Conv2D)            (None, 7, 7, 128)         65664     \n",
      "_________________________________________________________________\n",
      "batch_normalization_1 (Batch (None, 7, 7, 128)         512       \n",
      "_________________________________________________________________\n",
      "flatten (Flatten)            (None, 6272)              0         \n",
      "_________________________________________________________________\n",
      "dense (Dense)                (None, 1048)              6574104   \n",
      "_________________________________________________________________\n",
      "dropout (Dropout)            (None, 1048)              0         \n",
      "_________________________________________________________________\n",
      "batch_normalization_2 (Batch (None, 1048)              4192      \n",
      "_________________________________________________________________\n",
      "dense_1 (Dense)              (None, 1048)              1099352   \n",
      "_________________________________________________________________\n",
      "dropout_1 (Dropout)          (None, 1048)              0         \n",
      "_________________________________________________________________\n",
      "batch_normalization_3 (Batch (None, 1048)              4192      \n",
      "_________________________________________________________________\n",
      "dense_2 (Dense)              (None, 10)                10490     \n",
      "=================================================================\n",
      "Total params: 7,886,634\n",
      "Trainable params: 7,882,058\n",
      "Non-trainable params: 4,576\n",
      "_________________________________________________________________\n"
     ]
    }
   ],
   "source": [
    "inputs = tf.keras.layers.Input(shape=(28, 28, 1))\n",
    "\n",
    "x = tf.keras.layers.Conv2D(\n",
    "    filters=64\n",
    "    , kernel_size=3\n",
    "    , strides=1\n",
    "    , padding=\"same\"\n",
    "    , activation=\"relu\"\n",
    "    , use_bias=True\n",
    "    , kernel_initializer=\"he_uniform\"\n",
    "    , bias_initializer=\"zeros\"\n",
    ")(inputs)\n",
    "x = tf.keras.layers.Conv2D(\n",
    "    filters=64\n",
    "    , kernel_size=3\n",
    "    , strides=1\n",
    "    , padding=\"same\"\n",
    "    , activation=\"relu\"\n",
    "    , use_bias=True\n",
    "    , kernel_initializer=\"he_uniform\"\n",
    "    , bias_initializer=\"zeros\"\n",
    ")(x)\n",
    "x = tf.keras.layers.Conv2D(\n",
    "    filters=64\n",
    "    , kernel_size=2\n",
    "    , strides=2\n",
    "    , padding=\"valid\"\n",
    "    , activation=\"relu\"\n",
    "    , use_bias=True\n",
    "    , kernel_initializer=\"he_uniform\"\n",
    "    , bias_initializer=\"zeros\"\n",
    ")(x)\n",
    "x = tf.keras.layers.BatchNormalization()(x)\n",
    "x = tf.keras.layers.Conv2D(\n",
    "    filters=128\n",
    "    , kernel_size=3\n",
    "    , strides=1\n",
    "    , padding=\"same\"\n",
    "    , activation=\"relu\"\n",
    "    , use_bias=True\n",
    "    , kernel_initializer=\"he_uniform\"\n",
    "    , bias_initializer=\"zeros\"\n",
    ")(x)\n",
    "x = tf.keras.layers.Conv2D(\n",
    "    filters=128\n",
    "    , kernel_size=2\n",
    "    , strides=2\n",
    "    , padding=\"valid\"\n",
    "    , activation=\"relu\"\n",
    "    , use_bias=True\n",
    "    , kernel_initializer=\"he_uniform\"\n",
    "    , bias_initializer=\"zeros\"\n",
    ")(x)\n",
    "x = tf.keras.layers.BatchNormalization()(x)\n",
    "x = tf.keras.layers.Flatten()(x)\n",
    "x = tf.keras.layers.Dense(\n",
    "    1048\n",
    "    , activation=\"relu\"\n",
    "    , use_bias=True\n",
    "    , kernel_initializer=\"he_uniform\"\n",
    "    , bias_initializer=\"zeros\"\n",
    ")(x)\n",
    "x = tf.keras.layers.Dropout(0.5)(x)\n",
    "x = tf.keras.layers.BatchNormalization()(x)\n",
    "x = tf.keras.layers.Dense(\n",
    "    1048\n",
    "    , activation=\"relu\"\n",
    "    , use_bias=True\n",
    "    , kernel_initializer=\"he_uniform\"\n",
    "    , bias_initializer=\"zeros\"\n",
    ")(x)\n",
    "x = tf.keras.layers.Dropout(0.5)(x)\n",
    "x = tf.keras.layers.BatchNormalization()(x)\n",
    "\n",
    "outputs = tf.keras.layers.Dense(10, activation='softmax')(x)\n",
    "net = tf.keras.Model(inputs=inputs, outputs=outputs)\n",
    "net.summary()"
   ]
  },
  {
   "cell_type": "code",
   "execution_count": 4,
   "id": "c8ccaf61-58f0-45f7-9c1e-1b374d6f831b",
   "metadata": {
    "tags": []
   },
   "outputs": [
    {
     "name": "stderr",
     "output_type": "stream",
     "text": [
      "2023-02-25 14:29:58.559619: I tensorflow/core/profiler/lib/profiler_session.cc:136] Profiler session initializing.\n",
      "2023-02-25 14:29:58.559641: I tensorflow/core/profiler/lib/profiler_session.cc:155] Profiler session started.\n",
      "2023-02-25 14:29:58.559665: I tensorflow/core/profiler/internal/gpu/cupti_tracer.cc:1365] Profiler found 1 GPUs\n",
      "2023-02-25 14:29:58.566466: I tensorflow/stream_executor/platform/default/dso_loader.cc:49] Successfully opened dynamic library libcupti.so.11.1\n",
      "2023-02-25 14:29:58.692482: I tensorflow/core/profiler/lib/profiler_session.cc:172] Profiler session tear down.\n",
      "2023-02-25 14:29:58.692591: I tensorflow/core/profiler/internal/gpu/cupti_tracer.cc:1487] CUPTI activity buffer flushed\n"
     ]
    },
    {
     "name": "stdout",
     "output_type": "stream",
     "text": [
      "Epoch 1/50\n"
     ]
    },
    {
     "name": "stderr",
     "output_type": "stream",
     "text": [
      "2023-02-25 14:29:59.420247: I tensorflow/compiler/mlir/mlir_graph_optimization_pass.cc:116] None of the MLIR optimization passes are enabled (registered 2)\n",
      "2023-02-25 14:29:59.423835: I tensorflow/core/platform/profile_utils/cpu_utils.cc:112] CPU Frequency: 3000000000 Hz\n",
      "2023-02-25 14:29:59.536931: I tensorflow/stream_executor/platform/default/dso_loader.cc:49] Successfully opened dynamic library libcublas.so.11\n",
      "2023-02-25 14:30:00.318106: I tensorflow/stream_executor/platform/default/dso_loader.cc:49] Successfully opened dynamic library libcublasLt.so.11\n",
      "2023-02-25 14:30:04.575770: I tensorflow/stream_executor/platform/default/dso_loader.cc:49] Successfully opened dynamic library libcudnn.so.8\n"
     ]
    },
    {
     "name": "stdout",
     "output_type": "stream",
     "text": [
      "  1/844 [..............................] - ETA: 1:55:24 - loss: 3.0187 - accuracy: 0.1055"
     ]
    },
    {
     "name": "stderr",
     "output_type": "stream",
     "text": [
      "2023-02-25 14:30:06.819337: I tensorflow/stream_executor/cuda/cuda_blas.cc:1838] TensorFloat-32 will be used for the matrix multiplication. This will only be logged once.\n"
     ]
    },
    {
     "name": "stdout",
     "output_type": "stream",
     "text": [
      "  2/844 [..............................] - ETA: 14:15 - loss: 2.9864 - accuracy: 0.1147  "
     ]
    },
    {
     "name": "stderr",
     "output_type": "stream",
     "text": [
      "2023-02-25 14:30:07.172827: I tensorflow/core/profiler/lib/profiler_session.cc:136] Profiler session initializing.\n",
      "2023-02-25 14:30:07.172846: I tensorflow/core/profiler/lib/profiler_session.cc:155] Profiler session started.\n",
      "2023-02-25 14:30:07.972626: I tensorflow/core/profiler/lib/profiler_session.cc:71] Profiler session collecting data.\n",
      "2023-02-25 14:30:07.973062: I tensorflow/core/profiler/internal/gpu/cupti_tracer.cc:1487] CUPTI activity buffer flushed\n",
      "2023-02-25 14:30:08.023831: I tensorflow/core/profiler/internal/gpu/cupti_collector.cc:228]  GpuTracer has collected 280 callback api events and 268 activity events. \n",
      "2023-02-25 14:30:08.033700: I tensorflow/core/profiler/lib/profiler_session.cc:172] Profiler session tear down.\n",
      "2023-02-25 14:30:08.064033: I tensorflow/core/profiler/rpc/client/save_profile.cc:137] Creating directory: simple_logs/train/plugins/profile/2023_02_25_14_30_08\n",
      "2023-02-25 14:30:08.083933: I tensorflow/core/profiler/rpc/client/save_profile.cc:143] Dumped gzipped tool data for trace.json.gz to simple_logs/train/plugins/profile/2023_02_25_14_30_08/erc-hpc-comp036.trace.json.gz\n",
      "2023-02-25 14:30:08.099898: I tensorflow/core/profiler/rpc/client/save_profile.cc:137] Creating directory: simple_logs/train/plugins/profile/2023_02_25_14_30_08\n",
      "2023-02-25 14:30:08.102321: I tensorflow/core/profiler/rpc/client/save_profile.cc:143] Dumped gzipped tool data for memory_profile.json.gz to simple_logs/train/plugins/profile/2023_02_25_14_30_08/erc-hpc-comp036.memory_profile.json.gz\n",
      "2023-02-25 14:30:08.102956: I tensorflow/core/profiler/rpc/client/capture_profile.cc:251] Creating directory: simple_logs/train/plugins/profile/2023_02_25_14_30_08Dumped tool data for xplane.pb to simple_logs/train/plugins/profile/2023_02_25_14_30_08/erc-hpc-comp036.xplane.pb\n",
      "Dumped tool data for overview_page.pb to simple_logs/train/plugins/profile/2023_02_25_14_30_08/erc-hpc-comp036.overview_page.pb\n",
      "Dumped tool data for input_pipeline.pb to simple_logs/train/plugins/profile/2023_02_25_14_30_08/erc-hpc-comp036.input_pipeline.pb\n",
      "Dumped tool data for tensorflow_stats.pb to simple_logs/train/plugins/profile/2023_02_25_14_30_08/erc-hpc-comp036.tensorflow_stats.pb\n",
      "Dumped tool data for kernel_stats.pb to simple_logs/train/plugins/profile/2023_02_25_14_30_08/erc-hpc-comp036.kernel_stats.pb\n",
      "\n"
     ]
    },
    {
     "name": "stdout",
     "output_type": "stream",
     "text": [
      "844/844 [==============================] - 30s 26ms/step - loss: 0.7712 - accuracy: 0.7572 - val_loss: 0.2672 - val_accuracy: 0.9250\n",
      "Epoch 2/50\n",
      "844/844 [==============================] - 25s 24ms/step - loss: 0.1367 - accuracy: 0.9582 - val_loss: 0.1060 - val_accuracy: 0.9672\n",
      "Epoch 3/50\n",
      "844/844 [==============================] - 25s 24ms/step - loss: 0.0958 - accuracy: 0.9706 - val_loss: 0.0798 - val_accuracy: 0.9748\n",
      "Epoch 4/50\n",
      "844/844 [==============================] - 24s 23ms/step - loss: 0.0764 - accuracy: 0.9764 - val_loss: 0.0549 - val_accuracy: 0.9824\n",
      "Epoch 5/50\n",
      "844/844 [==============================] - 24s 23ms/step - loss: 0.0630 - accuracy: 0.9802 - val_loss: 0.0568 - val_accuracy: 0.9821\n",
      "Epoch 6/50\n",
      "844/844 [==============================] - 24s 23ms/step - loss: 0.0553 - accuracy: 0.9826 - val_loss: 0.0390 - val_accuracy: 0.9876\n",
      "Epoch 7/50\n",
      "844/844 [==============================] - 24s 23ms/step - loss: 0.0483 - accuracy: 0.9843 - val_loss: 0.0590 - val_accuracy: 0.9816\n",
      "Epoch 8/50\n",
      "844/844 [==============================] - 24s 23ms/step - loss: 0.0433 - accuracy: 0.9861 - val_loss: 0.0355 - val_accuracy: 0.9887\n",
      "Epoch 9/50\n",
      "844/844 [==============================] - 24s 23ms/step - loss: 0.0387 - accuracy: 0.9875 - val_loss: 0.0362 - val_accuracy: 0.9884\n",
      "Epoch 10/50\n",
      "844/844 [==============================] - 24s 23ms/step - loss: 0.0345 - accuracy: 0.9892 - val_loss: 0.0310 - val_accuracy: 0.9898\n",
      "Epoch 11/50\n",
      "844/844 [==============================] - 24s 23ms/step - loss: 0.0312 - accuracy: 0.9901 - val_loss: 0.0203 - val_accuracy: 0.9935\n",
      "Epoch 12/50\n",
      "844/844 [==============================] - 24s 23ms/step - loss: 0.0285 - accuracy: 0.9907 - val_loss: 0.0185 - val_accuracy: 0.9941\n",
      "Epoch 13/50\n",
      "844/844 [==============================] - 24s 23ms/step - loss: 0.0269 - accuracy: 0.9912 - val_loss: 0.0198 - val_accuracy: 0.9934\n",
      "Epoch 14/50\n",
      "844/844 [==============================] - 24s 23ms/step - loss: 0.0237 - accuracy: 0.9921 - val_loss: 0.0177 - val_accuracy: 0.9943\n",
      "Epoch 15/50\n",
      "844/844 [==============================] - 24s 22ms/step - loss: 0.0220 - accuracy: 0.9930 - val_loss: 0.0116 - val_accuracy: 0.9962\n",
      "Epoch 16/50\n",
      "844/844 [==============================] - 24s 23ms/step - loss: 0.0212 - accuracy: 0.9930 - val_loss: 0.0126 - val_accuracy: 0.9960\n",
      "Epoch 17/50\n",
      "844/844 [==============================] - 24s 23ms/step - loss: 0.0200 - accuracy: 0.9935 - val_loss: 0.0119 - val_accuracy: 0.9963\n",
      "Epoch 18/50\n",
      "844/844 [==============================] - 24s 23ms/step - loss: 0.0178 - accuracy: 0.9941 - val_loss: 0.0110 - val_accuracy: 0.9964\n",
      "Epoch 19/50\n",
      "844/844 [==============================] - 24s 23ms/step - loss: 0.0180 - accuracy: 0.9942 - val_loss: 0.0089 - val_accuracy: 0.9972\n",
      "Epoch 20/50\n",
      "844/844 [==============================] - 24s 23ms/step - loss: 0.0159 - accuracy: 0.9947 - val_loss: 0.0144 - val_accuracy: 0.9954\n",
      "Epoch 21/50\n",
      "844/844 [==============================] - 24s 23ms/step - loss: 0.0161 - accuracy: 0.9946 - val_loss: 0.0084 - val_accuracy: 0.9971\n",
      "Epoch 22/50\n",
      "844/844 [==============================] - 24s 23ms/step - loss: 0.0138 - accuracy: 0.9954 - val_loss: 0.0085 - val_accuracy: 0.9973\n",
      "Epoch 23/50\n",
      "844/844 [==============================] - 24s 23ms/step - loss: 0.0135 - accuracy: 0.9955 - val_loss: 0.0070 - val_accuracy: 0.9978\n",
      "Epoch 24/50\n",
      "844/844 [==============================] - 24s 23ms/step - loss: 0.0128 - accuracy: 0.9958 - val_loss: 0.0069 - val_accuracy: 0.9977\n",
      "Epoch 25/50\n",
      "844/844 [==============================] - 24s 23ms/step - loss: 0.0129 - accuracy: 0.9958 - val_loss: 0.0063 - val_accuracy: 0.9979\n",
      "Epoch 26/50\n",
      "844/844 [==============================] - 24s 23ms/step - loss: 0.0120 - accuracy: 0.9961 - val_loss: 0.0137 - val_accuracy: 0.9955\n",
      "Epoch 27/50\n",
      "844/844 [==============================] - 25s 24ms/step - loss: 0.0113 - accuracy: 0.9963 - val_loss: 0.0073 - val_accuracy: 0.9975\n",
      "Epoch 28/50\n",
      "844/844 [==============================] - 24s 23ms/step - loss: 0.0112 - accuracy: 0.9963 - val_loss: 0.0052 - val_accuracy: 0.9981\n",
      "Epoch 29/50\n",
      "844/844 [==============================] - 24s 23ms/step - loss: 0.0109 - accuracy: 0.9964 - val_loss: 0.0057 - val_accuracy: 0.9980\n",
      "Epoch 30/50\n",
      "844/844 [==============================] - 24s 23ms/step - loss: 0.0106 - accuracy: 0.9965 - val_loss: 0.0075 - val_accuracy: 0.9974\n",
      "Epoch 31/50\n",
      "844/844 [==============================] - 24s 23ms/step - loss: 0.0100 - accuracy: 0.9967 - val_loss: 0.0051 - val_accuracy: 0.9983\n",
      "Epoch 32/50\n",
      "844/844 [==============================] - 24s 22ms/step - loss: 0.0100 - accuracy: 0.9968 - val_loss: 0.0031 - val_accuracy: 0.9990\n",
      "Epoch 33/50\n",
      "844/844 [==============================] - 24s 23ms/step - loss: 0.0095 - accuracy: 0.9969 - val_loss: 0.0047 - val_accuracy: 0.9985\n",
      "Epoch 34/50\n",
      "844/844 [==============================] - 24s 23ms/step - loss: 0.0088 - accuracy: 0.9970 - val_loss: 0.0047 - val_accuracy: 0.9983\n",
      "Epoch 35/50\n",
      "844/844 [==============================] - 24s 23ms/step - loss: 0.0098 - accuracy: 0.9970 - val_loss: 0.0028 - val_accuracy: 0.9991\n",
      "Epoch 36/50\n",
      "844/844 [==============================] - 24s 23ms/step - loss: 0.0082 - accuracy: 0.9973 - val_loss: 0.0040 - val_accuracy: 0.9986\n",
      "Epoch 37/50\n",
      "844/844 [==============================] - 24s 23ms/step - loss: 0.0078 - accuracy: 0.9973 - val_loss: 0.0029 - val_accuracy: 0.9991\n"
     ]
    },
    {
     "data": {
      "text/plain": [
       "<matplotlib.legend.Legend at 0x7efda1983430>"
      ]
     },
     "execution_count": 4,
     "metadata": {},
     "output_type": "execute_result"
    },
    {
     "data": {
      "image/png": "[encoded data removed]",
      "text/plain": [
       "<Figure size 640x480 with 1 Axes>"
      ]
     },
     "metadata": {},
     "output_type": "display_data"
    }
   ],
   "source": [
    "train_shape = tf.data.experimental.cardinality(train_aug).numpy()\n",
    "val_size = 0.2\n",
    "\n",
    "splitter = train_aug.shuffle(100000, reshuffle_each_iteration=True)\n",
    "val_ds = splitter.take(train_shape * val_size).batch(512)\n",
    "train_ds = splitter.skip(train_shape * val_size).batch(512)\n",
    "\n",
    "net.compile(\n",
    "    loss='categorical_crossentropy'\n",
    "    # , optimizer=tf.keras.optimizers.SGD(nesterov=True, momentum=0.9)\n",
    "    , optimizer=\"adam\"\n",
    "    , metrics=[\"accuracy\"]\n",
    ")\n",
    "\n",
    "history = net.fit(\n",
    "    train_ds\n",
    "    , validation_data=val_ds\n",
    "    , epochs=50\n",
    "    , callbacks=[\n",
    "        tf.keras.callbacks.EarlyStopping(min_delta=0.001, patience=5)\n",
    "        # , tf.keras.callbacks.ReduceLROnPlateau(factor=0.2, patience=3, min_lr=1e-5)\n",
    "        , tf.keras.callbacks.TensorBoard(log_dir=\"simple_logs\", histogram_freq=1, write_graph=True, write_images=True)\n",
    "    ]\n",
    ")\n",
    "\n",
    "import matplotlib.pyplot as plt\n",
    "plt.figure()\n",
    "plt.plot(history.history['loss'], label='training loss')\n",
    "plt.plot(history.history['val_loss'], label='validation loss')\n",
    "plt.xlabel('epochs')\n",
    "plt.ylabel('loss')\n",
    "plt.legend()"
   ]
  },
  {
   "cell_type": "code",
   "execution_count": 7,
   "id": "2e4ee3e3-3df3-4084-add5-9bf5f28bb63a",
   "metadata": {
    "tags": []
   },
   "outputs": [
    {
     "name": "stdout",
     "output_type": "stream",
     "text": [
      "352/352 [==============================] - 20s 50ms/step - loss: 0.0375 - accuracy: 0.9905 - val_loss: 0.0185 - val_accuracy: 0.9945\n"
     ]
    }
   ],
   "source": [
    "augp = Path(\"../scratch\").joinpath(\"train_augmented_v1\")\n",
    "# epochs=1\n",
    "train_aug, test_aug = pp.load_aug_data(augp.resolve(), train_ir.element_spec, test_ind=[1,2,3,4,6,7,8,9])\n",
    "_ = net.fit(\n",
    "    train_ir.concatenate(train_aug).shuffle(100000, reshuffle_each_iteration=True).batch(512)\n",
    "    , validation_data=test_aug.batch(512)\n",
    "    , epochs=1\n",
    ")"
   ]
  },
  {
   "cell_type": "code",
   "execution_count": 8,
   "id": "012286bc-ce8a-4f34-99c3-0b8673f048cb",
   "metadata": {
    "tags": []
   },
   "outputs": [
    {
     "name": "stdout",
     "output_type": "stream",
     "text": [
      "118/118 [==============================] - 1s 5ms/step - loss: 0.0067 - accuracy: 0.9980\n",
      "20/20 [==============================] - 0s 5ms/step - loss: 0.0170 - accuracy: 0.9949\n"
     ]
    },
    {
     "data": {
      "text/plain": [
       "([0.006715245079249144, 0.9980499744415283],\n",
       " [0.016973167657852173, 0.9948999881744385])"
      ]
     },
     "execution_count": 8,
     "metadata": {},
     "output_type": "execute_result"
    }
   ],
   "source": [
    "net.evaluate(train_ir.batch(512)), net.evaluate(test_ir.batch(512))"
   ]
  },
  {
   "cell_type": "code",
   "execution_count": 9,
   "id": "18f942d7-b74d-469b-ab28-f39cc2761bb0",
   "metadata": {
    "tags": []
   },
   "outputs": [
    {
     "name": "stdout",
     "output_type": "stream",
     "text": [
      "844/844 [==============================] - 13s 10ms/step - loss: 0.0205 - accuracy: 0.9935\n",
      "211/211 [==============================] - 6s 14ms/step - loss: 0.0256 - accuracy: 0.9915\n",
      "938/938 [==============================] - 12s 13ms/step - loss: 0.0185 - accuracy: 0.9945\n"
     ]
    },
    {
     "data": {
      "text/plain": [
       "([0.020504184067249298, 0.9934606552124023],\n",
       " [0.025585129857063293, 0.991527795791626],\n",
       " [0.018462104722857475, 0.9945312738418579])"
      ]
     },
     "execution_count": 9,
     "metadata": {},
     "output_type": "execute_result"
    }
   ],
   "source": [
    "net.evaluate(train_ds), net.evaluate(val_ds), net.evaluate(test_aug.batch(512))"
   ]
  },
  {
   "cell_type": "code",
   "execution_count": 10,
   "id": "5530118a-a26d-487a-a60e-feeb1f4f8a59",
   "metadata": {
    "tags": []
   },
   "outputs": [],
   "source": [
    "net.save(modelp.joinpath(\"simple.\"+version+\".h5\").resolve().as_posix(), save_format=\"h5\")"
   ]
  },
  {
   "cell_type": "code",
   "execution_count": null,
   "id": "6ee9c553-33be-4087-a0bb-3566267078b8",
   "metadata": {},
   "outputs": [],
   "source": []
  }
 ],
 "metadata": {
  "kernelspec": {
   "display_name": "Python 3 (ipykernel)",
   "language": "python",
   "name": "python3"
  },
  "language_info": {
   "codemirror_mode": {
    "name": "ipython",
    "version": 3
   },
   "file_extension": ".py",
   "mimetype": "text/x-python",
   "name": "python",
   "nbconvert_exporter": "python",
   "pygments_lexer": "ipython3",
   "version": "3.8.12"
  }
 },
 "nbformat": 4,
 "nbformat_minor": 5
}
