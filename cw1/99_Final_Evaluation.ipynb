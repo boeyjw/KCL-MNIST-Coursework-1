{
 "cells": [
  {
   "cell_type": "code",
   "execution_count": 1,
   "id": "3b4b5100-f194-4224-baa7-8e4d31dc24a3",
   "metadata": {
    "tags": []
   },
   "outputs": [],
   "source": [
    "%load_ext autoreload\n",
    "%autoreload 2"
   ]
  },
  {
   "cell_type": "code",
   "execution_count": 2,
   "id": "b97e25c9-5672-4e64-baca-e23a4b7b13d0",
   "metadata": {
    "tags": []
   },
   "outputs": [
    {
     "name": "stderr",
     "output_type": "stream",
     "text": [
      "2023-02-22 21:08:26.667521: I tensorflow/stream_executor/platform/default/dso_loader.cc:49] Successfully opened dynamic library libcudart.so.11.0\n"
     ]
    }
   ],
   "source": [
    "from pathlib import Path\n",
    "from pprint import pprint\n",
    "from tensorflow.keras.models import load_model\n",
    "import preproc as pp"
   ]
  },
  {
   "cell_type": "code",
   "execution_count": 3,
   "id": "cf274a26-918a-4a0e-b2fa-787b4830bda2",
   "metadata": {
    "tags": []
   },
   "outputs": [
    {
     "name": "stderr",
     "output_type": "stream",
     "text": [
      "2023-02-22 21:08:28.723974: I tensorflow/stream_executor/platform/default/dso_loader.cc:49] Successfully opened dynamic library libcuda.so.1\n",
      "2023-02-22 21:08:29.060908: I tensorflow/core/common_runtime/gpu/gpu_device.cc:1720] Found device 0 with properties: \n",
      "pciBusID: 0000:b1:00.0 name: NVIDIA A100-SXM4-40GB computeCapability: 8.0\n",
      "coreClock: 1.41GHz coreCount: 108 deviceMemorySize: 39.41GiB deviceMemoryBandwidth: 1.41TiB/s\n",
      "2023-02-22 21:08:29.060935: I tensorflow/stream_executor/platform/default/dso_loader.cc:49] Successfully opened dynamic library libcudart.so.11.0\n",
      "2023-02-22 21:08:29.063875: I tensorflow/stream_executor/platform/default/dso_loader.cc:49] Successfully opened dynamic library libcublas.so.11\n",
      "2023-02-22 21:08:29.063942: I tensorflow/stream_executor/platform/default/dso_loader.cc:49] Successfully opened dynamic library libcublasLt.so.11\n",
      "2023-02-22 21:08:29.064902: I tensorflow/stream_executor/platform/default/dso_loader.cc:49] Successfully opened dynamic library libcufft.so.10\n",
      "2023-02-22 21:08:29.065140: I tensorflow/stream_executor/platform/default/dso_loader.cc:49] Successfully opened dynamic library libcurand.so.10\n",
      "2023-02-22 21:08:29.067849: I tensorflow/stream_executor/platform/default/dso_loader.cc:49] Successfully opened dynamic library libcusolver.so.11\n",
      "2023-02-22 21:08:29.068500: I tensorflow/stream_executor/platform/default/dso_loader.cc:49] Successfully opened dynamic library libcusparse.so.11\n",
      "2023-02-22 21:08:29.068632: I tensorflow/stream_executor/platform/default/dso_loader.cc:49] Successfully opened dynamic library libcudnn.so.8\n",
      "2023-02-22 21:08:29.071516: I tensorflow/core/common_runtime/gpu/gpu_device.cc:1862] Adding visible gpu devices: 0\n",
      "2023-02-22 21:08:29.073984: I tensorflow/core/common_runtime/gpu/gpu_device.cc:1720] Found device 0 with properties: \n",
      "pciBusID: 0000:b1:00.0 name: NVIDIA A100-SXM4-40GB computeCapability: 8.0\n",
      "coreClock: 1.41GHz coreCount: 108 deviceMemorySize: 39.41GiB deviceMemoryBandwidth: 1.41TiB/s\n",
      "2023-02-22 21:08:29.074003: I tensorflow/stream_executor/platform/default/dso_loader.cc:49] Successfully opened dynamic library libcudart.so.11.0\n",
      "2023-02-22 21:08:29.074019: I tensorflow/stream_executor/platform/default/dso_loader.cc:49] Successfully opened dynamic library libcublas.so.11\n",
      "2023-02-22 21:08:29.074025: I tensorflow/stream_executor/platform/default/dso_loader.cc:49] Successfully opened dynamic library libcublasLt.so.11\n",
      "2023-02-22 21:08:29.074032: I tensorflow/stream_executor/platform/default/dso_loader.cc:49] Successfully opened dynamic library libcufft.so.10\n",
      "2023-02-22 21:08:29.074039: I tensorflow/stream_executor/platform/default/dso_loader.cc:49] Successfully opened dynamic library libcurand.so.10\n",
      "2023-02-22 21:08:29.074046: I tensorflow/stream_executor/platform/default/dso_loader.cc:49] Successfully opened dynamic library libcusolver.so.11\n",
      "2023-02-22 21:08:29.074053: I tensorflow/stream_executor/platform/default/dso_loader.cc:49] Successfully opened dynamic library libcusparse.so.11\n",
      "2023-02-22 21:08:29.074060: I tensorflow/stream_executor/platform/default/dso_loader.cc:49] Successfully opened dynamic library libcudnn.so.8\n",
      "2023-02-22 21:08:29.076857: I tensorflow/core/common_runtime/gpu/gpu_device.cc:1862] Adding visible gpu devices: 0\n",
      "2023-02-22 21:08:29.076875: I tensorflow/stream_executor/platform/default/dso_loader.cc:49] Successfully opened dynamic library libcudart.so.11.0\n",
      "2023-02-22 21:08:29.580063: I tensorflow/core/common_runtime/gpu/gpu_device.cc:1261] Device interconnect StreamExecutor with strength 1 edge matrix:\n",
      "2023-02-22 21:08:29.580092: I tensorflow/core/common_runtime/gpu/gpu_device.cc:1267]      0 \n",
      "2023-02-22 21:08:29.580096: I tensorflow/core/common_runtime/gpu/gpu_device.cc:1280] 0:   N \n",
      "2023-02-22 21:08:29.583567: I tensorflow/core/common_runtime/gpu/gpu_device.cc:1406] Created TensorFlow device (/job:localhost/replica:0/task:0/device:GPU:0 with 37428 MB memory) -> physical GPU (device: 0, name: NVIDIA A100-SXM4-40GB, pci bus id: 0000:b1:00.0, compute capability: 8.0)\n"
     ]
    }
   ],
   "source": [
    "_, test_ir = pp.load_data(val_size=0)"
   ]
  },
  {
   "cell_type": "markdown",
   "id": "5929349f-7d43-4534-951b-b5972536d97b",
   "metadata": {},
   "source": [
    "# VGG 3.1 Mod2"
   ]
  },
  {
   "cell_type": "code",
   "execution_count": 6,
   "id": "5efa6188-7f59-45bd-a2eb-1a99f9ed54f2",
   "metadata": {},
   "outputs": [
    {
     "name": "stdout",
     "output_type": "stream",
     "text": [
      "118/118 [==============================] - 1s 9ms/step - loss: 0.1939 - accuracy: 0.9574\n",
      "118/118 [==============================] - 1s 10ms/step - loss: 0.3505 - accuracy: 0.9301\n",
      "118/118 [==============================] - 1s 10ms/step - loss: 0.0191 - accuracy: 0.9942\n",
      "118/118 [==============================] - 1s 10ms/step - loss: 0.0193 - accuracy: 0.9940\n",
      "118/118 [==============================] - 1s 10ms/step - loss: 0.0195 - accuracy: 0.9940\n",
      "{'ds_height': {'accuracy': 0.9940166473388672, 'loss': 0.01927758753299713},\n",
      " 'ds_rot': {'accuracy': 0.9301166534423828, 'loss': 0.3504859507083893},\n",
      " 'ds_translation': {'accuracy': 0.9574166536331177,\n",
      "                    'loss': 0.19387714564800262},\n",
      " 'ds_width': {'accuracy': 0.9940166473388672, 'loss': 0.01945754885673523},\n",
      " 'ds_zoom': {'accuracy': 0.9942166805267334, 'loss': 0.01908554509282112}}\n"
     ]
    }
   ],
   "source": [
    "net = load_model(\"/users/k21190024/study/KCL_7CCSMPNN/scratch/models/vgg_3.1mod2.v1.h5\")\n",
    "pprint(pp.test_on_augs(net, test_ir.element_spec, \"v1\"))"
   ]
  },
  {
   "cell_type": "code",
   "execution_count": 7,
   "id": "e55ce32b-f11b-4851-9594-0f96a75fe925",
   "metadata": {},
   "outputs": [
    {
     "name": "stdout",
     "output_type": "stream",
     "text": [
      "118/118 [==============================] - 1s 10ms/step - loss: 2.2656 - accuracy: 0.7306\n",
      "118/118 [==============================] - 1s 10ms/step - loss: 1.9171 - accuracy: 0.7560\n",
      "118/118 [==============================] - 1s 10ms/step - loss: 0.0332 - accuracy: 0.9902\n",
      "118/118 [==============================] - 1s 10ms/step - loss: 0.0187 - accuracy: 0.9945\n",
      "118/118 [==============================] - 1s 10ms/step - loss: 0.0201 - accuracy: 0.9941\n",
      "{'ds_height': {'accuracy': 0.9944833517074585, 'loss': 0.018682947382330894},\n",
      " 'ds_rot': {'accuracy': 0.7560333609580994, 'loss': 1.9170992374420166},\n",
      " 'ds_translation': {'accuracy': 0.7305833101272583, 'loss': 2.2655768394470215},\n",
      " 'ds_width': {'accuracy': 0.9940500259399414, 'loss': 0.02005706913769245},\n",
      " 'ds_zoom': {'accuracy': 0.9901999831199646, 'loss': 0.03324657678604126}}\n"
     ]
    }
   ],
   "source": [
    "net = load_model(\"/users/k21190024/study/KCL_7CCSMPNN/scratch/models/vgg_3.1mod2.v1.h5\")\n",
    "pprint(pp.test_on_augs(net, test_ir.element_spec, \"v2\"))"
   ]
  },
  {
   "cell_type": "code",
   "execution_count": 4,
   "id": "5206c370-cc63-4245-8012-f131d886fd9d",
   "metadata": {},
   "outputs": [
    {
     "name": "stderr",
     "output_type": "stream",
     "text": [
      "2023-02-22 21:08:30.285721: I tensorflow/compiler/mlir/mlir_graph_optimization_pass.cc:116] None of the MLIR optimization passes are enabled (registered 2)\n",
      "2023-02-22 21:08:30.286108: I tensorflow/core/platform/profile_utils/cpu_utils.cc:112] CPU Frequency: 3000000000 Hz\n",
      "2023-02-22 21:08:30.536279: I tensorflow/stream_executor/platform/default/dso_loader.cc:49] Successfully opened dynamic library libcublas.so.11\n",
      "2023-02-22 21:08:31.143937: I tensorflow/stream_executor/platform/default/dso_loader.cc:49] Successfully opened dynamic library libcublasLt.so.11\n",
      "2023-02-22 21:08:31.146077: I tensorflow/stream_executor/platform/default/dso_loader.cc:49] Successfully opened dynamic library libcudnn.so.8\n"
     ]
    },
    {
     "name": "stdout",
     "output_type": "stream",
     "text": [
      " 16/118 [===>..........................] - ETA: 1s - loss: 0.1918 - accuracy: 0.9640"
     ]
    },
    {
     "name": "stderr",
     "output_type": "stream",
     "text": [
      "2023-02-22 21:08:33.149619: I tensorflow/stream_executor/cuda/cuda_blas.cc:1838] TensorFloat-32 will be used for the matrix multiplication. This will only be logged once.\n"
     ]
    },
    {
     "name": "stdout",
     "output_type": "stream",
     "text": [
      "118/118 [==============================] - 4s 10ms/step - loss: 0.1831 - accuracy: 0.9668\n",
      "118/118 [==============================] - 1s 10ms/step - loss: 0.4334 - accuracy: 0.9346\n",
      "118/118 [==============================] - 1s 10ms/step - loss: 0.0138 - accuracy: 0.9960\n",
      "118/118 [==============================] - 1s 10ms/step - loss: 0.0127 - accuracy: 0.9965\n",
      "118/118 [==============================] - 2s 13ms/step - loss: 0.0131 - accuracy: 0.9962\n",
      "{'ds_height': {'accuracy': 0.9964666962623596, 'loss': 0.01270932424813509},\n",
      " 'ds_rot': {'accuracy': 0.9346166849136353, 'loss': 0.4333634376525879},\n",
      " 'ds_translation': {'accuracy': 0.9667666554450989,\n",
      "                    'loss': 0.18312542140483856},\n",
      " 'ds_width': {'accuracy': 0.996150016784668, 'loss': 0.013079392723739147},\n",
      " 'ds_zoom': {'accuracy': 0.9960333108901978, 'loss': 0.01380324549973011}}\n"
     ]
    }
   ],
   "source": [
    "net = load_model(\"/users/k21190024/study/KCL_7CCSMPNN/scratch/models/vgg_3.1mod2.v2.h5\")\n",
    "pprint(pp.test_on_augs(net, test_ir.element_spec, \"v1\"))"
   ]
  },
  {
   "cell_type": "code",
   "execution_count": 5,
   "id": "1c73c5ec-e41c-4fb7-93dd-8c8aa1767b50",
   "metadata": {},
   "outputs": [
    {
     "name": "stdout",
     "output_type": "stream",
     "text": [
      "118/118 [==============================] - 1s 10ms/step - loss: 2.7936 - accuracy: 0.7443\n",
      "118/118 [==============================] - 1s 12ms/step - loss: 2.4972 - accuracy: 0.7567\n",
      "118/118 [==============================] - 1s 10ms/step - loss: 0.0308 - accuracy: 0.9922\n",
      "118/118 [==============================] - 1s 9ms/step - loss: 0.0135 - accuracy: 0.9962\n",
      "118/118 [==============================] - 1s 9ms/step - loss: 0.0136 - accuracy: 0.9961\n",
      "{'ds_height': {'accuracy': 0.9961666464805603, 'loss': 0.013495967723429203},\n",
      " 'ds_rot': {'accuracy': 0.756683349609375, 'loss': 2.497157573699951},\n",
      " 'ds_translation': {'accuracy': 0.7442833185195923, 'loss': 2.793612003326416},\n",
      " 'ds_width': {'accuracy': 0.9961166381835938, 'loss': 0.013570388779044151},\n",
      " 'ds_zoom': {'accuracy': 0.9922000169754028, 'loss': 0.030781710520386696}}\n"
     ]
    }
   ],
   "source": [
    "net = load_model(\"/users/k21190024/study/KCL_7CCSMPNN/scratch/models/vgg_3.1mod2.v2.h5\")\n",
    "pprint(pp.test_on_augs(net, test_ir.element_spec, \"v2\"))"
   ]
  },
  {
   "cell_type": "code",
   "execution_count": null,
   "id": "13efa4ec-9da7-4589-aef3-30ee4b2da5da",
   "metadata": {},
   "outputs": [],
   "source": []
  }
 ],
 "metadata": {
  "kernelspec": {
   "display_name": "Python 3 (ipykernel)",
   "language": "python",
   "name": "python3"
  },
  "language_info": {
   "codemirror_mode": {
    "name": "ipython",
    "version": 3
   },
   "file_extension": ".py",
   "mimetype": "text/x-python",
   "name": "python",
   "nbconvert_exporter": "python",
   "pygments_lexer": "ipython3",
   "version": "3.8.12"
  }
 },
 "nbformat": 4,
 "nbformat_minor": 5
}
