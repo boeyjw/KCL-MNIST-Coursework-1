{
 "cells": [
  {
   "cell_type": "code",
   "execution_count": 1,
   "id": "3b4b5100-f194-4224-baa7-8e4d31dc24a3",
   "metadata": {
    "tags": []
   },
   "outputs": [],
   "source": [
    "%load_ext autoreload\n",
    "%autoreload 2"
   ]
  },
  {
   "cell_type": "code",
   "execution_count": 2,
   "id": "b97e25c9-5672-4e64-baca-e23a4b7b13d0",
   "metadata": {
    "tags": []
   },
   "outputs": [
    {
     "name": "stderr",
     "output_type": "stream",
     "text": [
      "2023-03-01 09:25:16.298687: I tensorflow/stream_executor/platform/default/dso_loader.cc:49] Successfully opened dynamic library libcudart.so.11.0\n"
     ]
    }
   ],
   "source": [
    "import csv\n",
    "from pathlib import Path\n",
    "from pprint import pprint\n",
    "from tensorflow.keras.models import load_model\n",
    "import preproc as pp"
   ]
  },
  {
   "cell_type": "code",
   "execution_count": 3,
   "id": "cf274a26-918a-4a0e-b2fa-787b4830bda2",
   "metadata": {
    "tags": []
   },
   "outputs": [
    {
     "name": "stderr",
     "output_type": "stream",
     "text": [
      "2023-03-01 09:25:18.576181: I tensorflow/stream_executor/platform/default/dso_loader.cc:49] Successfully opened dynamic library libcuda.so.1\n",
      "2023-03-01 09:25:18.895676: I tensorflow/core/common_runtime/gpu/gpu_device.cc:1720] Found device 0 with properties: \n",
      "pciBusID: 0000:31:00.0 name: NVIDIA A100-SXM4-40GB computeCapability: 8.0\n",
      "coreClock: 1.41GHz coreCount: 108 deviceMemorySize: 39.41GiB deviceMemoryBandwidth: 1.41TiB/s\n",
      "2023-03-01 09:25:18.895701: I tensorflow/stream_executor/platform/default/dso_loader.cc:49] Successfully opened dynamic library libcudart.so.11.0\n",
      "2023-03-01 09:25:18.898487: I tensorflow/stream_executor/platform/default/dso_loader.cc:49] Successfully opened dynamic library libcublas.so.11\n",
      "2023-03-01 09:25:18.898544: I tensorflow/stream_executor/platform/default/dso_loader.cc:49] Successfully opened dynamic library libcublasLt.so.11\n",
      "2023-03-01 09:25:18.899448: I tensorflow/stream_executor/platform/default/dso_loader.cc:49] Successfully opened dynamic library libcufft.so.10\n",
      "2023-03-01 09:25:18.899668: I tensorflow/stream_executor/platform/default/dso_loader.cc:49] Successfully opened dynamic library libcurand.so.10\n",
      "2023-03-01 09:25:18.902141: I tensorflow/stream_executor/platform/default/dso_loader.cc:49] Successfully opened dynamic library libcusolver.so.11\n",
      "2023-03-01 09:25:18.902742: I tensorflow/stream_executor/platform/default/dso_loader.cc:49] Successfully opened dynamic library libcusparse.so.11\n",
      "2023-03-01 09:25:18.902854: I tensorflow/stream_executor/platform/default/dso_loader.cc:49] Successfully opened dynamic library libcudnn.so.8\n",
      "2023-03-01 09:25:18.906303: I tensorflow/core/common_runtime/gpu/gpu_device.cc:1862] Adding visible gpu devices: 0\n",
      "2023-03-01 09:25:18.909059: I tensorflow/core/common_runtime/gpu/gpu_device.cc:1720] Found device 0 with properties: \n",
      "pciBusID: 0000:31:00.0 name: NVIDIA A100-SXM4-40GB computeCapability: 8.0\n",
      "coreClock: 1.41GHz coreCount: 108 deviceMemorySize: 39.41GiB deviceMemoryBandwidth: 1.41TiB/s\n",
      "2023-03-01 09:25:18.909075: I tensorflow/stream_executor/platform/default/dso_loader.cc:49] Successfully opened dynamic library libcudart.so.11.0\n",
      "2023-03-01 09:25:18.909090: I tensorflow/stream_executor/platform/default/dso_loader.cc:49] Successfully opened dynamic library libcublas.so.11\n",
      "2023-03-01 09:25:18.909097: I tensorflow/stream_executor/platform/default/dso_loader.cc:49] Successfully opened dynamic library libcublasLt.so.11\n",
      "2023-03-01 09:25:18.909104: I tensorflow/stream_executor/platform/default/dso_loader.cc:49] Successfully opened dynamic library libcufft.so.10\n",
      "2023-03-01 09:25:18.909110: I tensorflow/stream_executor/platform/default/dso_loader.cc:49] Successfully opened dynamic library libcurand.so.10\n",
      "2023-03-01 09:25:18.909117: I tensorflow/stream_executor/platform/default/dso_loader.cc:49] Successfully opened dynamic library libcusolver.so.11\n",
      "2023-03-01 09:25:18.909123: I tensorflow/stream_executor/platform/default/dso_loader.cc:49] Successfully opened dynamic library libcusparse.so.11\n",
      "2023-03-01 09:25:18.909130: I tensorflow/stream_executor/platform/default/dso_loader.cc:49] Successfully opened dynamic library libcudnn.so.8\n",
      "2023-03-01 09:25:18.912529: I tensorflow/core/common_runtime/gpu/gpu_device.cc:1862] Adding visible gpu devices: 0\n",
      "2023-03-01 09:25:18.912546: I tensorflow/stream_executor/platform/default/dso_loader.cc:49] Successfully opened dynamic library libcudart.so.11.0\n",
      "2023-03-01 09:25:19.393905: I tensorflow/core/common_runtime/gpu/gpu_device.cc:1261] Device interconnect StreamExecutor with strength 1 edge matrix:\n",
      "2023-03-01 09:25:19.393932: I tensorflow/core/common_runtime/gpu/gpu_device.cc:1267]      0 \n",
      "2023-03-01 09:25:19.393936: I tensorflow/core/common_runtime/gpu/gpu_device.cc:1280] 0:   N \n",
      "2023-03-01 09:25:19.397428: I tensorflow/core/common_runtime/gpu/gpu_device.cc:1406] Created TensorFlow device (/job:localhost/replica:0/task:0/device:GPU:0 with 37428 MB memory) -> physical GPU (device: 0, name: NVIDIA A100-SXM4-40GB, pci bus id: 0000:31:00.0, compute capability: 8.0)\n"
     ]
    }
   ],
   "source": [
    "_, test_ir = pp.load_data(val_size=0)\n",
    "\n",
    "csvp = Path(\"/scratch/users/k21190024/KCL_7CCSMPNN/ext-data/digit-recognizer/submissions\")"
   ]
  },
  {
   "cell_type": "markdown",
   "id": "da47bc10-470a-4df1-99a0-eff01f396bf5",
   "metadata": {},
   "source": [
    "# Base"
   ]
  },
  {
   "cell_type": "code",
   "execution_count": 4,
   "id": "d0ac49d5-ca3c-42b9-a260-fd67114ac0db",
   "metadata": {
    "tags": []
   },
   "outputs": [
    {
     "name": "stderr",
     "output_type": "stream",
     "text": [
      "2023-03-01 09:25:24.257922: I tensorflow/compiler/mlir/mlir_graph_optimization_pass.cc:116] None of the MLIR optimization passes are enabled (registered 2)\n",
      "2023-03-01 09:25:24.258372: I tensorflow/core/platform/profile_utils/cpu_utils.cc:112] CPU Frequency: 3000000000 Hz\n",
      "2023-03-01 09:25:24.391959: I tensorflow/stream_executor/platform/default/dso_loader.cc:49] Successfully opened dynamic library libcublas.so.11\n",
      "2023-03-01 09:25:25.004149: I tensorflow/stream_executor/platform/default/dso_loader.cc:49] Successfully opened dynamic library libcublasLt.so.11\n",
      "2023-03-01 09:25:25.005952: I tensorflow/stream_executor/platform/default/dso_loader.cc:49] Successfully opened dynamic library libcudnn.so.8\n"
     ]
    },
    {
     "name": "stdout",
     "output_type": "stream",
     "text": [
      " 19/118 [===>..........................] - ETA: 0s - loss: 3.2930 - accuracy: 0.5616"
     ]
    },
    {
     "name": "stderr",
     "output_type": "stream",
     "text": [
      "2023-03-01 09:25:26.947707: I tensorflow/stream_executor/cuda/cuda_blas.cc:1838] TensorFloat-32 will be used for the matrix multiplication. This will only be logged once.\n"
     ]
    },
    {
     "name": "stdout",
     "output_type": "stream",
     "text": [
      "118/118 [==============================] - 4s 9ms/step - loss: 3.2950 - accuracy: 0.5695\n",
      "118/118 [==============================] - 1s 8ms/step - loss: 2.6207 - accuracy: 0.6668\n",
      "118/118 [==============================] - 1s 8ms/step - loss: 0.0138 - accuracy: 0.9953\n",
      "118/118 [==============================] - 1s 8ms/step - loss: 0.0150 - accuracy: 0.9949\n",
      "118/118 [==============================] - 1s 9ms/step - loss: 0.0096 - accuracy: 0.9969\n",
      "118/118 [==============================] - 2s 15ms/step - loss: 18.9081 - accuracy: 0.1576\n",
      "118/118 [==============================] - 1s 9ms/step - loss: 6.8445 - accuracy: 0.3313\n",
      "118/118 [==============================] - 1s 9ms/step - loss: 4.8359 - accuracy: 0.4931\n",
      "118/118 [==============================] - 2s 15ms/step - loss: 30.5977 - accuracy: 0.1316\n",
      "118/118 [==============================] - 1s 9ms/step - loss: 0.1118 - accuracy: 0.9723\n",
      "118/118 [==============================] - 2s 13ms/step - loss: 6.3726 - accuracy: 0.3081\n",
      "118/118 [==============================] - 1s 9ms/step - loss: 0.0151 - accuracy: 0.9949\n",
      "118/118 [==============================] - 1s 8ms/step - loss: 0.0097 - accuracy: 0.9969\n",
      "165/165 [==============================] - 1s 3ms/step - loss: 0.0107 - accuracy: 0.9967\n",
      "{'digit': {'accuracy': 0.9966904520988464, 'loss': 0.010691368021070957},\n",
      " 'v1': {'ds_height': {'accuracy': 0.9948999881744385,\n",
      "                      'loss': 0.015033592469990253},\n",
      "        'ds_rot': {'accuracy': 0.6668000221252441, 'loss': 2.6206910610198975},\n",
      "        'ds_translation': {'accuracy': 0.5695499777793884,\n",
      "                           'loss': 3.2949676513671875},\n",
      "        'ds_width': {'accuracy': 0.9968500137329102,\n",
      "                     'loss': 0.00959276407957077},\n",
      "        'ds_zoom': {'accuracy': 0.995283305644989,\n",
      "                    'loss': 0.01383846253156662}},\n",
      " 'v2': {'ds_gauss1std': {'accuracy': 0.30808332562446594,\n",
      "                         'loss': 6.37260627746582},\n",
      "        'ds_gauss2std': {'accuracy': 0.15755000710487366,\n",
      "                         'loss': 18.90808868408203},\n",
      "        'ds_gauss3std': {'accuracy': 0.13163332641124725,\n",
      "                         'loss': 30.597749710083008},\n",
      "        'ds_height': {'accuracy': 0.994866669178009,\n",
      "                      'loss': 0.015098914504051208},\n",
      "        'ds_rot': {'accuracy': 0.493149995803833, 'loss': 4.835851192474365},\n",
      "        'ds_translation': {'accuracy': 0.33131667971611023,\n",
      "                           'loss': 6.8444623947143555},\n",
      "        'ds_width': {'accuracy': 0.9969333410263062,\n",
      "                     'loss': 0.009737677872180939},\n",
      "        'ds_zoom': {'accuracy': 0.9723333120346069,\n",
      "                    'loss': 0.11176660656929016}}}\n"
     ]
    }
   ],
   "source": [
    "net = load_model(\"/users/k21190024/study/KCL_7CCSMPNN/scratch/models/base.h5\")\n",
    "res, test_dig_base = pp.test_on_augs(net, test_ir.element_spec, return_digit_test=True)\n",
    "pprint(res)"
   ]
  },
  {
   "cell_type": "code",
   "execution_count": 5,
   "id": "091eae86-c056-480b-a649-8bac98678dcd",
   "metadata": {
    "tags": []
   },
   "outputs": [],
   "source": [
    "with csvp.joinpath(\"base.csv\").open(\"w\") as fn:\n",
    "    csvf = csv.writer(fn)\n",
    "    csvf.writerows(test_dig_base)"
   ]
  },
  {
   "cell_type": "markdown",
   "id": "1ab2b94c-31dc-4ace-bbad-06aa8778d1b1",
   "metadata": {},
   "source": [
    "# Base Augmented v2"
   ]
  },
  {
   "cell_type": "code",
   "execution_count": 5,
   "id": "cb1cd5d6-f72d-48f4-a289-507411f99949",
   "metadata": {
    "tags": []
   },
   "outputs": [
    {
     "name": "stdout",
     "output_type": "stream",
     "text": [
      "118/118 [==============================] - 1s 9ms/step - loss: 0.1107 - accuracy: 0.9732\n",
      "118/118 [==============================] - 1s 9ms/step - loss: 0.1065 - accuracy: 0.9736\n",
      "118/118 [==============================] - 1s 9ms/step - loss: 0.1055 - accuracy: 0.9736\n",
      "118/118 [==============================] - 1s 9ms/step - loss: 0.1106 - accuracy: 0.9728\n",
      "118/118 [==============================] - 1s 9ms/step - loss: 0.1022 - accuracy: 0.9741\n",
      "118/118 [==============================] - 2s 14ms/step - loss: 26.3318 - accuracy: 0.1109\n",
      "118/118 [==============================] - 1s 9ms/step - loss: 0.6962 - accuracy: 0.8824\n",
      "118/118 [==============================] - 1s 9ms/step - loss: 0.5288 - accuracy: 0.9048\n",
      "118/118 [==============================] - 2s 13ms/step - loss: 38.4647 - accuracy: 0.1054\n",
      "118/118 [==============================] - 1s 9ms/step - loss: 0.1229 - accuracy: 0.9688\n",
      "118/118 [==============================] - 2s 13ms/step - loss: 14.4706 - accuracy: 0.1458\n",
      "118/118 [==============================] - 1s 9ms/step - loss: 0.1053 - accuracy: 0.9745\n",
      "118/118 [==============================] - 1s 9ms/step - loss: 0.0994 - accuracy: 0.9750\n",
      "165/165 [==============================] - 1s 3ms/step - loss: 0.1592 - accuracy: 0.9613\n",
      "{'digit': {'accuracy': 0.9612619280815125, 'loss': 0.15924403071403503},\n",
      " 'v1': {'ds_height': {'accuracy': 0.9728166460990906,\n",
      "                      'loss': 0.11064455658197403},\n",
      "        'ds_rot': {'accuracy': 0.9736499786376953, 'loss': 0.10646674782037735},\n",
      "        'ds_translation': {'accuracy': 0.9732166528701782,\n",
      "                           'loss': 0.1106635183095932},\n",
      "        'ds_width': {'accuracy': 0.9740666747093201,\n",
      "                     'loss': 0.10221686959266663},\n",
      "        'ds_zoom': {'accuracy': 0.9736499786376953,\n",
      "                    'loss': 0.10550186038017273}},\n",
      " 'v2': {'ds_gauss1std': {'accuracy': 0.14578333497047424,\n",
      "                         'loss': 14.47059440612793},\n",
      "        'ds_gauss2std': {'accuracy': 0.11086666584014893,\n",
      "                         'loss': 26.331762313842773},\n",
      "        'ds_gauss3std': {'accuracy': 0.10538333654403687,\n",
      "                         'loss': 38.46474075317383},\n",
      "        'ds_height': {'accuracy': 0.9745166897773743,\n",
      "                      'loss': 0.10525209456682205},\n",
      "        'ds_rot': {'accuracy': 0.9047666788101196, 'loss': 0.5288035273551941},\n",
      "        'ds_translation': {'accuracy': 0.8824499845504761,\n",
      "                           'loss': 0.6962343454360962},\n",
      "        'ds_width': {'accuracy': 0.9750333428382874,\n",
      "                     'loss': 0.0994216799736023},\n",
      "        'ds_zoom': {'accuracy': 0.9688166379928589,\n",
      "                    'loss': 0.12289047986268997}}}\n"
     ]
    }
   ],
   "source": [
    "net = load_model(\"/users/k21190024/study/KCL_7CCSMPNN/scratch/models/baseaug.v2.h5\")\n",
    "pprint(pp.test_on_augs(net, test_ir.element_spec))"
   ]
  },
  {
   "cell_type": "markdown",
   "id": "5929349f-7d43-4534-951b-b5972536d97b",
   "metadata": {},
   "source": [
    "# VGG 3.1 Mod2"
   ]
  },
  {
   "cell_type": "code",
   "execution_count": 6,
   "id": "5efa6188-7f59-45bd-a2eb-1a99f9ed54f2",
   "metadata": {},
   "outputs": [
    {
     "name": "stdout",
     "output_type": "stream",
     "text": [
      "118/118 [==============================] - 1s 11ms/step - loss: 0.1939 - accuracy: 0.9574\n",
      "118/118 [==============================] - 1s 10ms/step - loss: 0.3505 - accuracy: 0.9301\n",
      "118/118 [==============================] - 1s 10ms/step - loss: 0.0191 - accuracy: 0.9942\n",
      "118/118 [==============================] - 1s 10ms/step - loss: 0.0193 - accuracy: 0.9940\n",
      "118/118 [==============================] - 1s 10ms/step - loss: 0.0195 - accuracy: 0.9940\n",
      "118/118 [==============================] - 2s 14ms/step - loss: 81.2251 - accuracy: 0.0976\n",
      "118/118 [==============================] - 1s 10ms/step - loss: 2.2656 - accuracy: 0.7306\n",
      "118/118 [==============================] - 1s 10ms/step - loss: 1.9171 - accuracy: 0.7560\n",
      "118/118 [==============================] - 2s 14ms/step - loss: 116.0171 - accuracy: 0.0976\n",
      "118/118 [==============================] - 1s 10ms/step - loss: 0.0332 - accuracy: 0.9902\n",
      "118/118 [==============================] - 2s 14ms/step - loss: 44.9321 - accuracy: 0.0986\n",
      "118/118 [==============================] - 1s 10ms/step - loss: 0.0187 - accuracy: 0.9945\n",
      "118/118 [==============================] - 1s 10ms/step - loss: 0.0201 - accuracy: 0.9941\n",
      "165/165 [==============================] - 1s 3ms/step - loss: 0.0246 - accuracy: 0.9926\n",
      "{'digit': {'accuracy': 0.9925714135169983, 'loss': 0.02458074688911438},\n",
      " 'v1': {'ds_height': {'accuracy': 0.9940166473388672,\n",
      "                      'loss': 0.019277580082416534},\n",
      "        'ds_rot': {'accuracy': 0.9301166534423828, 'loss': 0.3504859507083893},\n",
      "        'ds_translation': {'accuracy': 0.9574166536331177,\n",
      "                           'loss': 0.19387716054916382},\n",
      "        'ds_width': {'accuracy': 0.9940166473388672,\n",
      "                     'loss': 0.019457556307315826},\n",
      "        'ds_zoom': {'accuracy': 0.9942166805267334,\n",
      "                    'loss': 0.019085539504885674}},\n",
      " 'v2': {'ds_gauss1std': {'accuracy': 0.09858333319425583,\n",
      "                         'loss': 44.93208312988281},\n",
      "        'ds_gauss2std': {'accuracy': 0.09756666421890259,\n",
      "                         'loss': 81.22506713867188},\n",
      "        'ds_gauss3std': {'accuracy': 0.0975833311676979,\n",
      "                         'loss': 116.01707458496094},\n",
      "        'ds_height': {'accuracy': 0.9944833517074585,\n",
      "                      'loss': 0.01868295483291149},\n",
      "        'ds_rot': {'accuracy': 0.7560333609580994, 'loss': 1.9170992374420166},\n",
      "        'ds_translation': {'accuracy': 0.7305833101272583,\n",
      "                           'loss': 2.2655768394470215},\n",
      "        'ds_width': {'accuracy': 0.9940500259399414,\n",
      "                     'loss': 0.020057082176208496},\n",
      "        'ds_zoom': {'accuracy': 0.9901999831199646,\n",
      "                    'loss': 0.03324655815958977}}}\n"
     ]
    }
   ],
   "source": [
    "net = load_model(\"/users/k21190024/study/KCL_7CCSMPNN/scratch/models/vgg_3.1mod2.v1.h5\")\n",
    "pprint(pp.test_on_augs(net, test_ir.element_spec))"
   ]
  },
  {
   "cell_type": "code",
   "execution_count": 7,
   "id": "5206c370-cc63-4245-8012-f131d886fd9d",
   "metadata": {},
   "outputs": [
    {
     "name": "stdout",
     "output_type": "stream",
     "text": [
      "118/118 [==============================] - 1s 10ms/step - loss: 0.1831 - accuracy: 0.9668\n",
      "118/118 [==============================] - 1s 10ms/step - loss: 0.4334 - accuracy: 0.9346\n",
      "118/118 [==============================] - 1s 9ms/step - loss: 0.0138 - accuracy: 0.9960\n",
      "118/118 [==============================] - 1s 9ms/step - loss: 0.0127 - accuracy: 0.9965\n",
      "118/118 [==============================] - 1s 10ms/step - loss: 0.0131 - accuracy: 0.9962\n",
      "118/118 [==============================] - 2s 14ms/step - loss: 61.2208 - accuracy: 0.0987\n",
      "118/118 [==============================] - 1s 10ms/step - loss: 2.7936 - accuracy: 0.7443\n",
      "118/118 [==============================] - 1s 10ms/step - loss: 2.4972 - accuracy: 0.7567\n",
      "118/118 [==============================] - 2s 14ms/step - loss: 87.5933 - accuracy: 0.0977\n",
      "118/118 [==============================] - 1s 10ms/step - loss: 0.0308 - accuracy: 0.9922\n",
      "118/118 [==============================] - 2s 14ms/step - loss: 34.6714 - accuracy: 0.1049\n",
      "118/118 [==============================] - 1s 9ms/step - loss: 0.0135 - accuracy: 0.9962\n",
      "118/118 [==============================] - 1s 10ms/step - loss: 0.0136 - accuracy: 0.9961\n",
      "165/165 [==============================] - 1s 3ms/step - loss: 0.0176 - accuracy: 0.9953\n",
      "{'digit': {'accuracy': 0.9952619075775146, 'loss': 0.017601557075977325},\n",
      " 'v1': {'ds_height': {'accuracy': 0.9964666962623596,\n",
      "                      'loss': 0.012709326110780239},\n",
      "        'ds_rot': {'accuracy': 0.9346166849136353, 'loss': 0.4333634674549103},\n",
      "        'ds_translation': {'accuracy': 0.9667666554450989,\n",
      "                           'loss': 0.1831253618001938},\n",
      "        'ds_width': {'accuracy': 0.996150016784668,\n",
      "                     'loss': 0.013079402036964893},\n",
      "        'ds_zoom': {'accuracy': 0.9960333108901978,\n",
      "                    'loss': 0.01380324549973011}},\n",
      " 'v2': {'ds_gauss1std': {'accuracy': 0.1048833355307579,\n",
      "                         'loss': 34.67144775390625},\n",
      "        'ds_gauss2std': {'accuracy': 0.09870000183582306,\n",
      "                         'loss': 61.22084045410156},\n",
      "        'ds_gauss3std': {'accuracy': 0.09769999980926514,\n",
      "                         'loss': 87.59327697753906},\n",
      "        'ds_height': {'accuracy': 0.9961666464805603,\n",
      "                      'loss': 0.013495976105332375},\n",
      "        'ds_rot': {'accuracy': 0.756683349609375, 'loss': 2.497157573699951},\n",
      "        'ds_translation': {'accuracy': 0.7442833185195923,\n",
      "                           'loss': 2.793612003326416},\n",
      "        'ds_width': {'accuracy': 0.9961166381835938,\n",
      "                     'loss': 0.013570388779044151},\n",
      "        'ds_zoom': {'accuracy': 0.9922000169754028,\n",
      "                    'loss': 0.030781712383031845}}}\n"
     ]
    }
   ],
   "source": [
    "net = load_model(\"/users/k21190024/study/KCL_7CCSMPNN/scratch/models/vgg_3.1mod2.v2.h5\")\n",
    "pprint(pp.test_on_augs(net, test_ir.element_spec))"
   ]
  },
  {
   "cell_type": "markdown",
   "id": "9b58d78b-34f1-4b15-bd2c-66729828fd5d",
   "metadata": {},
   "source": [
    "# Simple"
   ]
  },
  {
   "cell_type": "code",
   "execution_count": 8,
   "id": "c5613248-13f4-4497-97ea-f099224c2f76",
   "metadata": {},
   "outputs": [
    {
     "name": "stdout",
     "output_type": "stream",
     "text": [
      "118/118 [==============================] - 2s 13ms/step - loss: 0.0266 - accuracy: 0.9925\n",
      "118/118 [==============================] - 1s 11ms/step - loss: 0.0500 - accuracy: 0.9856\n",
      "118/118 [==============================] - 1s 11ms/step - loss: 0.0076 - accuracy: 0.9979\n",
      "118/118 [==============================] - 1s 11ms/step - loss: 0.0077 - accuracy: 0.9976\n",
      "118/118 [==============================] - 2s 14ms/step - loss: 0.0074 - accuracy: 0.9979\n",
      "118/118 [==============================] - 2s 15ms/step - loss: 24.1091 - accuracy: 0.1058\n",
      "118/118 [==============================] - 1s 11ms/step - loss: 0.2055 - accuracy: 0.9550\n",
      "118/118 [==============================] - 1s 11ms/step - loss: 0.4421 - accuracy: 0.9093\n",
      "118/118 [==============================] - 2s 15ms/step - loss: 34.5274 - accuracy: 0.1016\n",
      "118/118 [==============================] - 1s 11ms/step - loss: 0.0169 - accuracy: 0.9950\n",
      "118/118 [==============================] - 2s 16ms/step - loss: 15.6838 - accuracy: 0.1190\n",
      "118/118 [==============================] - 1s 11ms/step - loss: 0.0080 - accuracy: 0.9975\n",
      "118/118 [==============================] - 1s 11ms/step - loss: 0.0075 - accuracy: 0.9980\n",
      "165/165 [==============================] - 1s 4ms/step - loss: 0.0085 - accuracy: 0.9974\n",
      "{'digit': {'accuracy': 0.9974285960197449, 'loss': 0.008526640944182873},\n",
      " 'v1': {'ds_height': {'accuracy': 0.9975500106811523,\n",
      "                      'loss': 0.0076727778650820255},\n",
      "        'ds_rot': {'accuracy': 0.9856166839599609, 'loss': 0.05001393333077431},\n",
      "        'ds_translation': {'accuracy': 0.9925333261489868,\n",
      "                           'loss': 0.02657831460237503},\n",
      "        'ds_width': {'accuracy': 0.9979333281517029,\n",
      "                     'loss': 0.007430773228406906},\n",
      "        'ds_zoom': {'accuracy': 0.9978833198547363,\n",
      "                    'loss': 0.00758143188431859}},\n",
      " 'v2': {'ds_gauss1std': {'accuracy': 0.11901666969060898,\n",
      "                         'loss': 15.68383502960205},\n",
      "        'ds_gauss2std': {'accuracy': 0.10578333586454391,\n",
      "                         'loss': 24.109113693237305},\n",
      "        'ds_gauss3std': {'accuracy': 0.101583331823349,\n",
      "                         'loss': 34.527374267578125},\n",
      "        'ds_height': {'accuracy': 0.9975000023841858,\n",
      "                      'loss': 0.007966629229485989},\n",
      "        'ds_rot': {'accuracy': 0.9092833399772644, 'loss': 0.4420981705188751},\n",
      "        'ds_translation': {'accuracy': 0.9550333619117737,\n",
      "                           'loss': 0.20549283921718597},\n",
      "        'ds_width': {'accuracy': 0.9979833364486694,\n",
      "                     'loss': 0.007502022199332714},\n",
      "        'ds_zoom': {'accuracy': 0.9950166940689087,\n",
      "                    'loss': 0.016934840008616447}}}\n"
     ]
    }
   ],
   "source": [
    "net = load_model(\"/users/k21190024/study/KCL_7CCSMPNN/scratch/models/simple.v2.h5\")\n",
    "res, test_dig_csv_s1 = pp.test_on_augs(net, test_ir.element_spec, return_digit_test=True)\n",
    "pprint(res)"
   ]
  },
  {
   "cell_type": "code",
   "execution_count": 9,
   "id": "9fc1902f-fff3-4f78-ba93-b8357b1e7bf2",
   "metadata": {
    "tags": []
   },
   "outputs": [],
   "source": [
    "with csvp.joinpath(\"simple.csv\").open(\"w\") as fn:\n",
    "    csvf = csv.writer(fn)\n",
    "    csvf.writerows(test_dig_csv_s1)"
   ]
  },
  {
   "cell_type": "code",
   "execution_count": 10,
   "id": "8a692b21-ec8e-44c2-a79b-0b8bd6b2facb",
   "metadata": {},
   "outputs": [
    {
     "name": "stdout",
     "output_type": "stream",
     "text": [
      "118/118 [==============================] - 2s 12ms/step - loss: 0.0130 - accuracy: 0.9961\n",
      "118/118 [==============================] - 1s 12ms/step - loss: 0.0391 - accuracy: 0.9893\n",
      "118/118 [==============================] - 1s 12ms/step - loss: 0.0061 - accuracy: 0.9982\n",
      "118/118 [==============================] - 1s 12ms/step - loss: 0.0058 - accuracy: 0.9983\n",
      "118/118 [==============================] - 1s 12ms/step - loss: 0.0056 - accuracy: 0.9984\n",
      "118/118 [==============================] - 2s 16ms/step - loss: 16.5723 - accuracy: 0.0989\n",
      "118/118 [==============================] - 1s 13ms/step - loss: 0.0953 - accuracy: 0.9751\n",
      "118/118 [==============================] - 1s 13ms/step - loss: 0.4428 - accuracy: 0.9153\n",
      "118/118 [==============================] - 2s 17ms/step - loss: 20.7935 - accuracy: 0.0975\n",
      "118/118 [==============================] - 2s 13ms/step - loss: 0.0158 - accuracy: 0.9953\n",
      "118/118 [==============================] - 2s 17ms/step - loss: 12.4212 - accuracy: 0.0995\n",
      "118/118 [==============================] - 1s 13ms/step - loss: 0.0057 - accuracy: 0.9983\n",
      "118/118 [==============================] - 1s 12ms/step - loss: 0.0063 - accuracy: 0.9981\n",
      "165/165 [==============================] - 1s 5ms/step - loss: 0.0066 - accuracy: 0.9980\n",
      "{'digit': {'accuracy': 0.9980475902557373, 'loss': 0.006589839234948158},\n",
      " 'v1': {'ds_height': {'accuracy': 0.998283326625824,\n",
      "                      'loss': 0.005849402863532305},\n",
      "        'ds_rot': {'accuracy': 0.9892833232879639, 'loss': 0.03911459073424339},\n",
      "        'ds_translation': {'accuracy': 0.996066689491272,\n",
      "                           'loss': 0.013016070239245892},\n",
      "        'ds_width': {'accuracy': 0.99836665391922,\n",
      "                     'loss': 0.005587405990809202},\n",
      "        'ds_zoom': {'accuracy': 0.9981666803359985,\n",
      "                    'loss': 0.006140201818197966}},\n",
      " 'v2': {'ds_gauss1std': {'accuracy': 0.09946666657924652,\n",
      "                         'loss': 12.421197891235352},\n",
      "        'ds_gauss2std': {'accuracy': 0.09894999861717224,\n",
      "                         'loss': 16.572338104248047},\n",
      "        'ds_gauss3std': {'accuracy': 0.09746666997671127,\n",
      "                         'loss': 20.793493270874023},\n",
      "        'ds_height': {'accuracy': 0.9983166456222534,\n",
      "                      'loss': 0.005723599344491959},\n",
      "        'ds_rot': {'accuracy': 0.915316641330719, 'loss': 0.4428393840789795},\n",
      "        'ds_translation': {'accuracy': 0.9750999808311462,\n",
      "                           'loss': 0.09533299505710602},\n",
      "        'ds_width': {'accuracy': 0.9981499910354614,\n",
      "                     'loss': 0.006262912880629301},\n",
      "        'ds_zoom': {'accuracy': 0.9952666759490967,\n",
      "                    'loss': 0.015824008733034134}}}\n"
     ]
    }
   ],
   "source": [
    "net = load_model(\"/users/k21190024/study/KCL_7CCSMPNN/scratch/models/simple.v2.v2.h5\")\n",
    "res, test_dig_csv_s3 = pp.test_on_augs(net, test_ir.element_spec, return_digit_test=True)\n",
    "pprint(res)"
   ]
  },
  {
   "cell_type": "code",
   "execution_count": 11,
   "id": "a694d472-cf03-4791-b7be-c099d474a61e",
   "metadata": {
    "tags": []
   },
   "outputs": [],
   "source": [
    "with csvp.joinpath(\"simple.v2.csv\").open(\"w\") as fn:\n",
    "    csvf = csv.writer(fn)\n",
    "    csvf.writerows(test_dig_csv_s3)"
   ]
  },
  {
   "cell_type": "code",
   "execution_count": null,
   "id": "54241479-ec8c-4bce-9e18-7c801702f570",
   "metadata": {},
   "outputs": [],
   "source": []
  }
 ],
 "metadata": {
  "kernelspec": {
   "display_name": "Python 3 (ipykernel)",
   "language": "python",
   "name": "python3"
  },
  "language_info": {
   "codemirror_mode": {
    "name": "ipython",
    "version": 3
   },
   "file_extension": ".py",
   "mimetype": "text/x-python",
   "name": "python",
   "nbconvert_exporter": "python",
   "pygments_lexer": "ipython3",
   "version": "3.8.12"
  }
 },
 "nbformat": 4,
 "nbformat_minor": 5
}
