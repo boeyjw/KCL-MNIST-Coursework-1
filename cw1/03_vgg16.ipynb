{
 "cells": [
  {
   "cell_type": "code",
   "execution_count": 1,
   "id": "712bf31a-6d1a-4df7-80ad-20a6377f88c8",
   "metadata": {},
   "outputs": [],
   "source": [
    "%load_ext autoreload\n",
    "%autoreload 2"
   ]
  },
  {
   "cell_type": "code",
   "execution_count": 24,
   "id": "1f29e9ef-155f-4363-b1cf-c4f378c9e0fa",
   "metadata": {
    "tags": []
   },
   "outputs": [],
   "source": [
    "from pathlib import Path\n",
    "import preproc as pp\n",
    "\n",
    "import numpy as np\n",
    "import tensorflow as tf\n",
    "\n",
    "version = \"v2\"\n",
    "augp = Path(\"../scratch\").joinpath(\"train_augmented_\" + version)\n",
    "modelp = Path(\"../scratch\").joinpath(\"models\")\n",
    "\n",
    "train_ir, test_ir = pp.load_data(val_size=0)\n",
    "train_aug, test_aug = pp.load_aug_data(augp, train_ir.element_spec, test_ind=[5])"
   ]
  },
  {
   "cell_type": "code",
   "execution_count": 2,
   "id": "16ac84db-91ac-4006-a399-2260dce981af",
   "metadata": {
    "collapsed": true,
    "jupyter": {
     "outputs_hidden": true
    },
    "tags": []
   },
   "outputs": [
    {
     "name": "stdout",
     "output_type": "stream",
     "text": [
      "Model: \"vgg16\"\n",
      "_________________________________________________________________\n",
      "Layer (type)                 Output Shape              Param #   \n",
      "=================================================================\n",
      "input_1 (InputLayer)         [(None, 224, 224, 3)]     0         \n",
      "_________________________________________________________________\n",
      "block1_conv1 (Conv2D)        (None, 224, 224, 64)      1792      \n",
      "_________________________________________________________________\n",
      "block1_conv2 (Conv2D)        (None, 224, 224, 64)      36928     \n",
      "_________________________________________________________________\n",
      "block1_pool (MaxPooling2D)   (None, 112, 112, 64)      0         \n",
      "_________________________________________________________________\n",
      "block2_conv1 (Conv2D)        (None, 112, 112, 128)     73856     \n",
      "_________________________________________________________________\n",
      "block2_conv2 (Conv2D)        (None, 112, 112, 128)     147584    \n",
      "_________________________________________________________________\n",
      "block2_pool (MaxPooling2D)   (None, 56, 56, 128)       0         \n",
      "_________________________________________________________________\n",
      "block3_conv1 (Conv2D)        (None, 56, 56, 256)       295168    \n",
      "_________________________________________________________________\n",
      "block3_conv2 (Conv2D)        (None, 56, 56, 256)       590080    \n",
      "_________________________________________________________________\n",
      "block3_conv3 (Conv2D)        (None, 56, 56, 256)       590080    \n",
      "_________________________________________________________________\n",
      "block3_pool (MaxPooling2D)   (None, 28, 28, 256)       0         \n",
      "_________________________________________________________________\n",
      "block4_conv1 (Conv2D)        (None, 28, 28, 512)       1180160   \n",
      "_________________________________________________________________\n",
      "block4_conv2 (Conv2D)        (None, 28, 28, 512)       2359808   \n",
      "_________________________________________________________________\n",
      "block4_conv3 (Conv2D)        (None, 28, 28, 512)       2359808   \n",
      "_________________________________________________________________\n",
      "block4_pool (MaxPooling2D)   (None, 14, 14, 512)       0         \n",
      "_________________________________________________________________\n",
      "block5_conv1 (Conv2D)        (None, 14, 14, 512)       2359808   \n",
      "_________________________________________________________________\n",
      "block5_conv2 (Conv2D)        (None, 14, 14, 512)       2359808   \n",
      "_________________________________________________________________\n",
      "block5_conv3 (Conv2D)        (None, 14, 14, 512)       2359808   \n",
      "_________________________________________________________________\n",
      "block5_pool (MaxPooling2D)   (None, 7, 7, 512)         0         \n",
      "_________________________________________________________________\n",
      "flatten (Flatten)            (None, 25088)             0         \n",
      "_________________________________________________________________\n",
      "fc1 (Dense)                  (None, 4096)              102764544 \n",
      "_________________________________________________________________\n",
      "fc2 (Dense)                  (None, 4096)              16781312  \n",
      "_________________________________________________________________\n",
      "predictions (Dense)          (None, 1000)              4097000   \n",
      "=================================================================\n",
      "Total params: 138,357,544\n",
      "Trainable params: 138,357,544\n",
      "Non-trainable params: 0\n",
      "_________________________________________________________________\n"
     ]
    }
   ],
   "source": [
    "a = tf.keras.applications.vgg16.VGG16()\n",
    "a.summary()"
   ]
  },
  {
   "cell_type": "markdown",
   "id": "f083be0e-c900-4aa2-bd11-374e4c531123",
   "metadata": {},
   "source": [
    "# 3.0 VGG Base"
   ]
  },
  {
   "cell_type": "code",
   "execution_count": 3,
   "id": "731db23d-9dda-49af-9b41-ed4890e5ae87",
   "metadata": {
    "tags": []
   },
   "outputs": [
    {
     "name": "stdout",
     "output_type": "stream",
     "text": [
      "Model: \"sequential\"\n",
      "_________________________________________________________________\n",
      "Layer (type)                 Output Shape              Param #   \n",
      "=================================================================\n",
      "conv2d (Conv2D)              (None, 28, 28, 64)        640       \n",
      "_________________________________________________________________\n",
      "conv2d_1 (Conv2D)            (None, 28, 28, 64)        36928     \n",
      "_________________________________________________________________\n",
      "max_pooling2d (MaxPooling2D) (None, 14, 14, 64)        0         \n",
      "_________________________________________________________________\n",
      "conv2d_2 (Conv2D)            (None, 14, 14, 128)       73856     \n",
      "_________________________________________________________________\n",
      "conv2d_3 (Conv2D)            (None, 14, 14, 128)       147584    \n",
      "_________________________________________________________________\n",
      "max_pooling2d_1 (MaxPooling2 (None, 7, 7, 128)         0         \n",
      "_________________________________________________________________\n",
      "flatten (Flatten)            (None, 6272)              0         \n",
      "_________________________________________________________________\n",
      "dense (Dense)                (None, 1024)              6423552   \n",
      "_________________________________________________________________\n",
      "dense_1 (Dense)              (None, 1024)              1049600   \n",
      "_________________________________________________________________\n",
      "dense_2 (Dense)              (None, 10)                10250     \n",
      "=================================================================\n",
      "Total params: 7,742,410\n",
      "Trainable params: 7,742,410\n",
      "Non-trainable params: 0\n",
      "_________________________________________________________________\n"
     ]
    }
   ],
   "source": [
    "def conv_block(filters, kernel_size):\n",
    "    return [\n",
    "        tf.keras.layers.Conv2D(\n",
    "            filters=filters\n",
    "            , kernel_size=kernel_size\n",
    "            , strides=1\n",
    "            , padding=\"same\"\n",
    "            , activation=\"relu\"\n",
    "            , use_bias=True\n",
    "            , kernel_initializer=\"glorot_uniform\"\n",
    "            , bias_initializer=\"zeros\"\n",
    "        ),\n",
    "        tf.keras.layers.Conv2D(\n",
    "            filters=filters\n",
    "            , kernel_size=kernel_size\n",
    "            , strides=1\n",
    "            , padding=\"same\"\n",
    "            , activation=\"relu\"\n",
    "            , use_bias=True\n",
    "            , kernel_initializer=\"glorot_uniform\"\n",
    "            , bias_initializer=\"zeros\"\n",
    "        ),\n",
    "        tf.keras.layers.MaxPool2D(\n",
    "            pool_size=2,\n",
    "            strides=2,\n",
    "            padding=\"valid\"\n",
    "        )\n",
    "    ]\n",
    "\n",
    "vggbase = tf.keras.Sequential([tf.keras.Input(shape=(28, 28, 1))]\n",
    "    + conv_block(64, 3)\n",
    "    + conv_block(128, 3)\n",
    "    + [\n",
    "        tf.keras.layers.Flatten()\n",
    "        , tf.keras.layers.Dense(\n",
    "            1024\n",
    "            , activation=\"relu\"\n",
    "            , use_bias=True\n",
    "            , kernel_initializer=\"glorot_uniform\"\n",
    "            , bias_initializer=\"zeros\"\n",
    "        )\n",
    "        , tf.keras.layers.Dense(\n",
    "            1024\n",
    "            , activation=\"relu\"\n",
    "            , use_bias=True\n",
    "            , kernel_initializer=\"glorot_uniform\"\n",
    "            , bias_initializer=\"zeros\"\n",
    "        )\n",
    "        , tf.keras.layers.Dense(\n",
    "            10\n",
    "            , activation=\"softmax\"\n",
    "        )\n",
    "    ]\n",
    ")\n",
    "vggbase.summary()"
   ]
  },
  {
   "cell_type": "code",
   "execution_count": 4,
   "id": "6995874a-3ae6-4d78-a8de-3af196dc89b3",
   "metadata": {
    "tags": []
   },
   "outputs": [],
   "source": [
    "train_shape = tf.data.experimental.cardinality(train_aug).numpy()\n",
    "val_size = 0.2\n",
    "\n",
    "splitter = train_aug.shuffle(10000, reshuffle_each_iteration=False)\n",
    "val_ds = splitter.take(train_shape * val_size).batch(512)\n",
    "train_ds = splitter.skip(train_shape * val_size).batch(512)"
   ]
  },
  {
   "cell_type": "code",
   "execution_count": 6,
   "id": "642f5bdd-c970-43a8-a65c-0c2772f5a6fc",
   "metadata": {
    "tags": []
   },
   "outputs": [
    {
     "name": "stdout",
     "output_type": "stream",
     "text": [
      "Epoch 1/100\n",
      "844/844 [==============================] - 22s 24ms/step - loss: 0.5830 - accuracy: 0.8104 - val_loss: 0.0405 - val_accuracy: 0.9878\n",
      "Epoch 2/100\n",
      "844/844 [==============================] - 21s 22ms/step - loss: 0.0368 - accuracy: 0.9890 - val_loss: 0.0316 - val_accuracy: 0.9912\n",
      "Epoch 3/100\n",
      "844/844 [==============================] - 21s 23ms/step - loss: 0.0219 - accuracy: 0.9937 - val_loss: 0.0313 - val_accuracy: 0.9920\n",
      "Epoch 4/100\n",
      "844/844 [==============================] - 20s 22ms/step - loss: 0.0160 - accuracy: 0.9954 - val_loss: 0.0373 - val_accuracy: 0.9919\n",
      "Epoch 5/100\n",
      "844/844 [==============================] - 20s 22ms/step - loss: 0.0146 - accuracy: 0.9959 - val_loss: 0.0335 - val_accuracy: 0.9924\n",
      "Epoch 6/100\n",
      "844/844 [==============================] - 20s 22ms/step - loss: 0.0134 - accuracy: 0.9964 - val_loss: 0.0456 - val_accuracy: 0.9919\n"
     ]
    },
    {
     "data": {
      "text/plain": [
       "<matplotlib.legend.Legend at 0x7fd644283190>"
      ]
     },
     "execution_count": 6,
     "metadata": {},
     "output_type": "execute_result"
    },
    {
     "data": {
      "image/png": "[encoded data removed]",
      "text/plain": [
       "<Figure size 640x480 with 1 Axes>"
      ]
     },
     "metadata": {},
     "output_type": "display_data"
    }
   ],
   "source": [
    "import datetime\n",
    "\n",
    "vggbase.compile(\n",
    "    loss='categorical_crossentropy'\n",
    "    , optimizer=\"rmsprop\"\n",
    "    , metrics=[\"accuracy\"]\n",
    ")\n",
    "\n",
    "history = vggbase.fit(\n",
    "    train_ds\n",
    "    , validation_data=val_ds\n",
    "    , epochs=100\n",
    "    , callbacks=[\n",
    "        tf.keras.callbacks.EarlyStopping(min_delta=0.01, patience=5)\n",
    "    ]\n",
    ")\n",
    "\n",
    "import matplotlib.pyplot as plt\n",
    "plt.figure()\n",
    "plt.plot(history.history['loss'], label='training loss')\n",
    "plt.plot(history.history['val_loss'], label='validation loss')\n",
    "plt.xlabel('epochs')\n",
    "plt.ylabel('loss')\n",
    "plt.legend()"
   ]
  },
  {
   "cell_type": "code",
   "execution_count": 10,
   "id": "8f7365b8-3063-4d3d-95ff-7ce5a0a8b7ba",
   "metadata": {},
   "outputs": [
    {
     "name": "stdout",
     "output_type": "stream",
     "text": [
      "118/118 [==============================] - 1s 11ms/step - loss: 0.0198 - accuracy: 0.9956\n"
     ]
    }
   ],
   "source": [
    "_ = vggbase.fit(x_train, y_train, epochs=1, batch_size=512)"
   ]
  },
  {
   "cell_type": "code",
   "execution_count": 11,
   "id": "96b37217-46bb-438f-a8cd-d9c0ff248e36",
   "metadata": {
    "tags": []
   },
   "outputs": [
    {
     "name": "stdout",
     "output_type": "stream",
     "text": [
      "1875/1875 [==============================] - 3s 1ms/step - loss: 0.0303 - accuracy: 0.9944\n",
      "313/313 [==============================] - 0s 1ms/step - loss: 0.0429 - accuracy: 0.9902\n"
     ]
    },
    {
     "data": {
      "text/plain": [
       "([0.030315332114696503, 0.9943666458129883],\n",
       " [0.042939815670251846, 0.9901999831199646])"
      ]
     },
     "execution_count": 11,
     "metadata": {},
     "output_type": "execute_result"
    }
   ],
   "source": [
    "(x_train, y_train), (x_test, y_test) = pp.load_data(return_eval=True)\n",
    "\n",
    "vggbase.evaluate(x_train, y_train), vggbase.evaluate(x_test, y_test)"
   ]
  },
  {
   "cell_type": "code",
   "execution_count": 12,
   "id": "22f84c72-c89c-480d-976f-d6da9184f647",
   "metadata": {
    "tags": []
   },
   "outputs": [
    {
     "data": {
      "text/plain": [
       "<tf.Tensor: shape=(10, 10), dtype=int32, numpy=\n",
       "array([[ 976,    0,    0,    0,    0,    0,    2,    1,    1,    0],\n",
       "       [   0, 1131,    0,    1,    0,    0,    0,    2,    0,    1],\n",
       "       [   0,    1, 1025,    0,    0,    0,    0,    6,    0,    0],\n",
       "       [   0,    1,    0, 1008,    0,    0,    0,    0,    1,    0],\n",
       "       [   0,    0,    0,    0,  974,    0,    0,    0,    0,    8],\n",
       "       [   0,    1,    1,   21,    0,  864,    1,    1,    3,    0],\n",
       "       [   1,    5,    0,    0,    2,    0,  947,    0,    3,    0],\n",
       "       [   0,    3,    0,    2,    0,    0,    0, 1018,    1,    4],\n",
       "       [   0,    0,    2,    5,    0,    1,    0,    0,  966,    0],\n",
       "       [   0,    0,    0,    7,    9,    0,    0,    0,    0,  993]],\n",
       "      dtype=int32)>"
      ]
     },
     "execution_count": 12,
     "metadata": {},
     "output_type": "execute_result"
    }
   ],
   "source": [
    "pp.plot_confusion_matrix(x_test, y_test, vggbase)"
   ]
  },
  {
   "cell_type": "code",
   "execution_count": 13,
   "id": "6fb85a74-6ac8-4151-95d9-ac9aea60088c",
   "metadata": {
    "tags": []
   },
   "outputs": [
    {
     "name": "stdout",
     "output_type": "stream",
     "text": [
      "844/844 [==============================] - 13s 13ms/step - loss: 0.3761 - accuracy: 0.9616\n",
      "211/211 [==============================] - 3s 13ms/step - loss: 0.3833 - accuracy: 0.9593\n",
      "118/118 [==============================] - 1s 12ms/step - loss: 0.3835 - accuracy: 0.9579\n"
     ]
    },
    {
     "data": {
      "text/plain": [
       "([0.37606409192085266, 0.961597204208374],\n",
       " [0.3832643926143646, 0.959324061870575],\n",
       " [0.3834851384162903, 0.9579333066940308])"
      ]
     },
     "execution_count": 13,
     "metadata": {},
     "output_type": "execute_result"
    }
   ],
   "source": [
    "vggbase.evaluate(train_ds), vggbase.evaluate(val_ds), vggbase.evaluate(test_aug.batch(512))"
   ]
  },
  {
   "cell_type": "code",
   "execution_count": 14,
   "id": "b00295d8-5e43-4999-9fe0-7427ef815531",
   "metadata": {
    "tags": []
   },
   "outputs": [],
   "source": [
    "vggbase.save(modelp.joinpath(\"vggbase.\" + version + \".h5\").resolve().as_posix(), save_format=\"h5\")"
   ]
  },
  {
   "cell_type": "markdown",
   "id": "bddd9f85-a558-4471-9ffd-f9dfebd7a199",
   "metadata": {},
   "source": [
    "# 3.1 VGG Dropout"
   ]
  },
  {
   "cell_type": "code",
   "execution_count": 15,
   "id": "d560692e-a6fc-443a-8272-c1afa331ee82",
   "metadata": {
    "tags": []
   },
   "outputs": [
    {
     "name": "stdout",
     "output_type": "stream",
     "text": [
      "Model: \"sequential_1\"\n",
      "_________________________________________________________________\n",
      "Layer (type)                 Output Shape              Param #   \n",
      "=================================================================\n",
      "conv2d_4 (Conv2D)            (None, 28, 28, 64)        640       \n",
      "_________________________________________________________________\n",
      "conv2d_5 (Conv2D)            (None, 28, 28, 64)        36928     \n",
      "_________________________________________________________________\n",
      "max_pooling2d_2 (MaxPooling2 (None, 14, 14, 64)        0         \n",
      "_________________________________________________________________\n",
      "conv2d_6 (Conv2D)            (None, 14, 14, 128)       73856     \n",
      "_________________________________________________________________\n",
      "conv2d_7 (Conv2D)            (None, 14, 14, 128)       147584    \n",
      "_________________________________________________________________\n",
      "max_pooling2d_3 (MaxPooling2 (None, 7, 7, 128)         0         \n",
      "_________________________________________________________________\n",
      "flatten_1 (Flatten)          (None, 6272)              0         \n",
      "_________________________________________________________________\n",
      "dense_3 (Dense)              (None, 1024)              6423552   \n",
      "_________________________________________________________________\n",
      "dropout (Dropout)            (None, 1024)              0         \n",
      "_________________________________________________________________\n",
      "dense_4 (Dense)              (None, 1024)              1049600   \n",
      "_________________________________________________________________\n",
      "dense_5 (Dense)              (None, 10)                10250     \n",
      "=================================================================\n",
      "Total params: 7,742,410\n",
      "Trainable params: 7,742,410\n",
      "Non-trainable params: 0\n",
      "_________________________________________________________________\n"
     ]
    }
   ],
   "source": [
    "def conv_block(filters, kernel_size):\n",
    "    return [\n",
    "        tf.keras.layers.Conv2D(\n",
    "            filters=filters\n",
    "            , kernel_size=kernel_size\n",
    "            , strides=1\n",
    "            , padding=\"same\"\n",
    "            , activation=\"relu\"\n",
    "            , use_bias=True\n",
    "            , kernel_initializer=\"glorot_uniform\"\n",
    "            , bias_initializer=\"zeros\"\n",
    "        ),\n",
    "        tf.keras.layers.Conv2D(\n",
    "            filters=filters\n",
    "            , kernel_size=kernel_size\n",
    "            , strides=1\n",
    "            , padding=\"same\"\n",
    "            , activation=\"relu\"\n",
    "            , use_bias=True\n",
    "            , kernel_initializer=\"glorot_uniform\"\n",
    "            , bias_initializer=\"zeros\"\n",
    "        ),\n",
    "        tf.keras.layers.MaxPool2D(\n",
    "            pool_size=2,\n",
    "            strides=2,\n",
    "            padding=\"valid\"\n",
    "        )\n",
    "    ]\n",
    "\n",
    "vggreg = tf.keras.Sequential([tf.keras.Input(shape=(28, 28, 1))]\n",
    "    + conv_block(64, 3)\n",
    "    + conv_block(128, 3)\n",
    "    + [\n",
    "        tf.keras.layers.Flatten()\n",
    "        , tf.keras.layers.Dense(\n",
    "            1024\n",
    "            , activation=\"relu\"\n",
    "            , use_bias=True\n",
    "            , kernel_initializer=\"glorot_uniform\"\n",
    "            , bias_initializer=\"zeros\"\n",
    "        )\n",
    "        , tf.keras.layers.Dropout(0.5)\n",
    "        , tf.keras.layers.Dense(\n",
    "            1024\n",
    "            , activation=\"relu\"\n",
    "            , use_bias=True\n",
    "            , kernel_initializer=\"glorot_uniform\"\n",
    "            , bias_initializer=\"zeros\"\n",
    "        )\n",
    "        , tf.keras.layers.Dense(\n",
    "            10\n",
    "            , activation=\"softmax\"\n",
    "        )\n",
    "    ]\n",
    ")\n",
    "net = vggreg\n",
    "net.summary()"
   ]
  },
  {
   "cell_type": "code",
   "execution_count": 16,
   "id": "feae290c-23ad-4171-991e-4ff2d7ad426b",
   "metadata": {
    "tags": []
   },
   "outputs": [],
   "source": [
    "train_shape = tf.data.experimental.cardinality(train_aug).numpy()\n",
    "val_size = 0.2\n",
    "\n",
    "splitter = train_aug.shuffle(10000, reshuffle_each_iteration=False)\n",
    "val_ds = splitter.take(train_shape * val_size).batch(512)\n",
    "train_ds = splitter.skip(train_shape * val_size).batch(512)"
   ]
  },
  {
   "cell_type": "code",
   "execution_count": 17,
   "id": "3f43d2ba-6f02-479b-8202-39c10c43a6ec",
   "metadata": {
    "tags": []
   },
   "outputs": [
    {
     "name": "stdout",
     "output_type": "stream",
     "text": [
      "Epoch 1/100\n",
      "844/844 [==============================] - 21s 22ms/step - loss: 0.5732 - accuracy: 0.8097 - val_loss: 0.0482 - val_accuracy: 0.9859\n",
      "Epoch 2/100\n",
      "844/844 [==============================] - 21s 22ms/step - loss: 0.0470 - accuracy: 0.9863 - val_loss: 0.0352 - val_accuracy: 0.9893\n",
      "Epoch 3/100\n",
      "844/844 [==============================] - 21s 22ms/step - loss: 0.0333 - accuracy: 0.9902 - val_loss: 0.0262 - val_accuracy: 0.9922\n",
      "Epoch 4/100\n",
      "844/844 [==============================] - 21s 22ms/step - loss: 0.0285 - accuracy: 0.9918 - val_loss: 0.0274 - val_accuracy: 0.9925\n",
      "Epoch 5/100\n",
      "844/844 [==============================] - 20s 22ms/step - loss: 0.0261 - accuracy: 0.9927 - val_loss: 0.0224 - val_accuracy: 0.9933\n",
      "Epoch 6/100\n",
      "844/844 [==============================] - 20s 22ms/step - loss: 0.0266 - accuracy: 0.9928 - val_loss: 0.0245 - val_accuracy: 0.9926\n",
      "Epoch 7/100\n",
      "844/844 [==============================] - 20s 22ms/step - loss: 0.0253 - accuracy: 0.9930 - val_loss: 0.0264 - val_accuracy: 0.9931\n",
      "Epoch 8/100\n",
      "844/844 [==============================] - 20s 22ms/step - loss: 0.0247 - accuracy: 0.9933 - val_loss: 0.0263 - val_accuracy: 0.9930\n",
      "Epoch 9/100\n",
      "844/844 [==============================] - 20s 22ms/step - loss: 0.0244 - accuracy: 0.9934 - val_loss: 0.0449 - val_accuracy: 0.9910\n",
      "Epoch 10/100\n",
      "844/844 [==============================] - 20s 22ms/step - loss: 0.0252 - accuracy: 0.9933 - val_loss: 0.0459 - val_accuracy: 0.9913\n"
     ]
    },
    {
     "data": {
      "text/plain": [
       "<matplotlib.legend.Legend at 0x7fd648b4e6d0>"
      ]
     },
     "execution_count": 17,
     "metadata": {},
     "output_type": "execute_result"
    },
    {
     "data": {
      "image/png": "[encoded data removed]",
      "text/plain": [
       "<Figure size 640x480 with 1 Axes>"
      ]
     },
     "metadata": {},
     "output_type": "display_data"
    }
   ],
   "source": [
    "import datetime\n",
    "\n",
    "net.compile(\n",
    "    loss='categorical_crossentropy'\n",
    "    , optimizer=\"rmsprop\"\n",
    "    , metrics=[\"accuracy\"]\n",
    ")\n",
    "\n",
    "history = net.fit(\n",
    "    train_ds\n",
    "    , validation_data=val_ds\n",
    "    , epochs=100\n",
    "    , callbacks=[\n",
    "        tf.keras.callbacks.EarlyStopping(min_delta=0.01, patience=5)\n",
    "    ]\n",
    ")\n",
    "\n",
    "import matplotlib.pyplot as plt\n",
    "plt.figure()\n",
    "plt.plot(history.history['loss'], label='training loss')\n",
    "plt.plot(history.history['val_loss'], label='validation loss')\n",
    "plt.xlabel('epochs')\n",
    "plt.ylabel('loss')\n",
    "plt.legend()"
   ]
  },
  {
   "cell_type": "code",
   "execution_count": 21,
   "id": "a4500e1a-78f0-40d8-9e4d-d0d44d17a5cd",
   "metadata": {
    "tags": []
   },
   "outputs": [
    {
     "name": "stdout",
     "output_type": "stream",
     "text": [
      "118/118 [==============================] - 1s 11ms/step - loss: 0.0280 - accuracy: 0.9936\n"
     ]
    }
   ],
   "source": [
    "_ = net.fit(x_train, y_train, epochs=1, batch_size=512)"
   ]
  },
  {
   "cell_type": "code",
   "execution_count": 22,
   "id": "9aa9bb39-d997-4b6a-83c1-4f5eee24e32c",
   "metadata": {
    "tags": []
   },
   "outputs": [
    {
     "name": "stdout",
     "output_type": "stream",
     "text": [
      "1875/1875 [==============================] - 2s 1ms/step - loss: 0.0316 - accuracy: 0.9944\n",
      "313/313 [==============================] - 0s 1ms/step - loss: 0.0691 - accuracy: 0.9902\n"
     ]
    },
    {
     "data": {
      "text/plain": [
       "([0.03156949207186699, 0.994350016117096],\n",
       " [0.06912887841463089, 0.9901999831199646])"
      ]
     },
     "execution_count": 22,
     "metadata": {},
     "output_type": "execute_result"
    }
   ],
   "source": [
    "(x_train, y_train), (x_test, y_test) = pp.load_data(return_eval=True)\n",
    "\n",
    "net.evaluate(x_train, y_train), net.evaluate(x_test, y_test)"
   ]
  },
  {
   "cell_type": "code",
   "execution_count": 23,
   "id": "233edc0b-2ac7-4727-a67a-f2d8fa1486ed",
   "metadata": {
    "tags": []
   },
   "outputs": [
    {
     "data": {
      "text/plain": [
       "<tf.Tensor: shape=(10, 10), dtype=int32, numpy=\n",
       "array([[ 979,    0,    0,    0,    0,    1,    0,    0,    0,    0],\n",
       "       [   0, 1131,    2,    1,    0,    0,    1,    0,    0,    0],\n",
       "       [   1,    0, 1028,    3,    0,    0,    0,    0,    0,    0],\n",
       "       [   0,    0,    0, 1010,    0,    0,    0,    0,    0,    0],\n",
       "       [   0,    0,    1,    0,  975,    0,    1,    1,    0,    4],\n",
       "       [   0,    0,    0,   13,    0,  876,    2,    1,    0,    0],\n",
       "       [   6,    2,    0,    0,    1,    0,  949,    0,    0,    0],\n",
       "       [   0,    4,   22,    8,    0,    0,    0,  990,    0,    4],\n",
       "       [   0,    0,    1,    7,    1,    1,    0,    0,  964,    0],\n",
       "       [   0,    0,    0,    2,    7,    0,    0,    0,    0, 1000]],\n",
       "      dtype=int32)>"
      ]
     },
     "execution_count": 23,
     "metadata": {},
     "output_type": "execute_result"
    }
   ],
   "source": [
    "pp.plot_confusion_matrix(x_test, y_test, net)"
   ]
  },
  {
   "cell_type": "code",
   "execution_count": 24,
   "id": "50ff6818-464a-4f36-b780-e638db14aa0a",
   "metadata": {
    "tags": []
   },
   "outputs": [
    {
     "name": "stdout",
     "output_type": "stream",
     "text": [
      "844/844 [==============================] - 13s 13ms/step - loss: 0.0619 - accuracy: 0.9850\n",
      "211/211 [==============================] - 3s 13ms/step - loss: 0.0783 - accuracy: 0.9831\n",
      "118/118 [==============================] - 1s 12ms/step - loss: 0.0773 - accuracy: 0.9831\n"
     ]
    },
    {
     "data": {
      "text/plain": [
       "([0.06191731244325638, 0.9849722385406494],\n",
       " [0.07827036082744598, 0.9830740690231323],\n",
       " [0.07733505964279175, 0.9831166863441467])"
      ]
     },
     "execution_count": 24,
     "metadata": {},
     "output_type": "execute_result"
    }
   ],
   "source": [
    "net.evaluate(train_ds), net.evaluate(val_ds), net.evaluate(test_aug.batch(512))"
   ]
  },
  {
   "cell_type": "code",
   "execution_count": 25,
   "id": "fad1a48e-9e47-4292-a2c1-cf6ced936637",
   "metadata": {
    "tags": []
   },
   "outputs": [],
   "source": [
    "net.save(modelp.joinpath(\"vgg_3.1.\"+version+\".h5\").resolve().as_posix(), save_format=\"h5\")"
   ]
  },
  {
   "cell_type": "markdown",
   "id": "1b169c2b-4006-4eee-a204-38efcaa4ec03",
   "metadata": {},
   "source": [
    "# 3.2 VGG 3.1 Mod1"
   ]
  },
  {
   "cell_type": "code",
   "execution_count": 26,
   "id": "b8511c47-6f08-4131-95b4-16f88d8224a3",
   "metadata": {
    "tags": []
   },
   "outputs": [
    {
     "name": "stdout",
     "output_type": "stream",
     "text": [
      "Model: \"sequential_2\"\n",
      "_________________________________________________________________\n",
      "Layer (type)                 Output Shape              Param #   \n",
      "=================================================================\n",
      "conv2d_8 (Conv2D)            (None, 28, 28, 64)        640       \n",
      "_________________________________________________________________\n",
      "conv2d_9 (Conv2D)            (None, 28, 28, 64)        36928     \n",
      "_________________________________________________________________\n",
      "max_pooling2d_4 (MaxPooling2 (None, 14, 14, 64)        0         \n",
      "_________________________________________________________________\n",
      "conv2d_10 (Conv2D)           (None, 14, 14, 128)       73856     \n",
      "_________________________________________________________________\n",
      "conv2d_11 (Conv2D)           (None, 14, 14, 128)       147584    \n",
      "_________________________________________________________________\n",
      "max_pooling2d_5 (MaxPooling2 (None, 7, 7, 128)         0         \n",
      "_________________________________________________________________\n",
      "flatten_2 (Flatten)          (None, 6272)              0         \n",
      "_________________________________________________________________\n",
      "dense_6 (Dense)              (None, 1024)              6423552   \n",
      "_________________________________________________________________\n",
      "dropout_1 (Dropout)          (None, 1024)              0         \n",
      "_________________________________________________________________\n",
      "dense_7 (Dense)              (None, 512)               524800    \n",
      "_________________________________________________________________\n",
      "dropout_2 (Dropout)          (None, 512)               0         \n",
      "_________________________________________________________________\n",
      "dense_8 (Dense)              (None, 10)                5130      \n",
      "=================================================================\n",
      "Total params: 7,212,490\n",
      "Trainable params: 7,212,490\n",
      "Non-trainable params: 0\n",
      "_________________________________________________________________\n"
     ]
    }
   ],
   "source": [
    "def conv_block(filters, kernel_size):\n",
    "    return [\n",
    "        tf.keras.layers.Conv2D(\n",
    "            filters=filters\n",
    "            , kernel_size=kernel_size\n",
    "            , strides=1\n",
    "            , padding=\"same\"\n",
    "            , activation=\"relu\"\n",
    "            , use_bias=True\n",
    "            , kernel_initializer=\"glorot_uniform\"\n",
    "            , bias_initializer=\"zeros\"\n",
    "        ),\n",
    "        tf.keras.layers.Conv2D(\n",
    "            filters=filters\n",
    "            , kernel_size=kernel_size\n",
    "            , strides=1\n",
    "            , padding=\"same\"\n",
    "            , activation=\"relu\"\n",
    "            , use_bias=True\n",
    "            , kernel_initializer=\"glorot_uniform\"\n",
    "            , bias_initializer=\"zeros\"\n",
    "        ),\n",
    "        tf.keras.layers.MaxPool2D(\n",
    "            pool_size=2,\n",
    "            strides=2,\n",
    "            padding=\"valid\"\n",
    "        )\n",
    "    ]\n",
    "\n",
    "vggbase = tf.keras.Sequential([tf.keras.Input(shape=(28, 28, 1))]\n",
    "    + conv_block(64, 3)\n",
    "    + conv_block(128, 3)\n",
    "    + [\n",
    "        tf.keras.layers.Flatten()\n",
    "        , tf.keras.layers.Dense(\n",
    "            1024\n",
    "            , activation=\"relu\"\n",
    "            , use_bias=True\n",
    "            , kernel_initializer=\"glorot_uniform\"\n",
    "            , bias_initializer=\"zeros\"\n",
    "        )\n",
    "        , tf.keras.layers.Dropout(0.5)\n",
    "        , tf.keras.layers.Dense(\n",
    "            512\n",
    "            , activation=\"relu\"\n",
    "            , use_bias=True\n",
    "            , kernel_initializer=\"glorot_uniform\"\n",
    "            , bias_initializer=\"zeros\"\n",
    "        )\n",
    "        , tf.keras.layers.Dropout(0.5)\n",
    "        , tf.keras.layers.Dense(\n",
    "            10\n",
    "            , activation=\"softmax\"\n",
    "        )\n",
    "    ]\n",
    ")\n",
    "net = vggbase\n",
    "net.summary()"
   ]
  },
  {
   "cell_type": "code",
   "execution_count": 27,
   "id": "8d087384-463c-451c-b282-43cbcef9443e",
   "metadata": {
    "tags": []
   },
   "outputs": [],
   "source": [
    "train_shape = tf.data.experimental.cardinality(train_aug).numpy()\n",
    "val_size = 0.2\n",
    "\n",
    "splitter = train_aug.shuffle(10000, reshuffle_each_iteration=False)\n",
    "val_ds = splitter.take(train_shape * val_size).batch(512)\n",
    "train_ds = splitter.skip(train_shape * val_size).batch(512)"
   ]
  },
  {
   "cell_type": "code",
   "execution_count": 28,
   "id": "b5b139d5-d81c-4f8a-a914-9557ee9689d6",
   "metadata": {
    "tags": []
   },
   "outputs": [
    {
     "name": "stdout",
     "output_type": "stream",
     "text": [
      "Epoch 1/100\n",
      "844/844 [==============================] - 21s 22ms/step - loss: 0.5632 - accuracy: 0.8134 - val_loss: 0.0582 - val_accuracy: 0.9825\n",
      "Epoch 2/100\n",
      "844/844 [==============================] - 20s 22ms/step - loss: 0.0507 - accuracy: 0.9851 - val_loss: 0.0358 - val_accuracy: 0.9898\n",
      "Epoch 3/100\n",
      "844/844 [==============================] - 20s 22ms/step - loss: 0.0366 - accuracy: 0.9898 - val_loss: 0.0338 - val_accuracy: 0.9906\n",
      "Epoch 4/100\n",
      "844/844 [==============================] - 20s 22ms/step - loss: 0.0328 - accuracy: 0.9910 - val_loss: 0.0393 - val_accuracy: 0.9895\n",
      "Epoch 5/100\n",
      "844/844 [==============================] - 20s 22ms/step - loss: 0.0326 - accuracy: 0.9912 - val_loss: 0.0302 - val_accuracy: 0.9924\n",
      "Epoch 6/100\n",
      "844/844 [==============================] - 20s 22ms/step - loss: 0.0324 - accuracy: 0.9915 - val_loss: 0.0482 - val_accuracy: 0.9909\n",
      "Epoch 7/100\n",
      "844/844 [==============================] - 20s 22ms/step - loss: 0.0327 - accuracy: 0.9917 - val_loss: 0.0334 - val_accuracy: 0.9919\n",
      "Epoch 8/100\n",
      "844/844 [==============================] - 20s 22ms/step - loss: 0.0333 - accuracy: 0.9916 - val_loss: 0.0315 - val_accuracy: 0.9926\n"
     ]
    },
    {
     "data": {
      "text/plain": [
       "<matplotlib.legend.Legend at 0x7fd641624880>"
      ]
     },
     "execution_count": 28,
     "metadata": {},
     "output_type": "execute_result"
    },
    {
     "data": {
      "image/png": "[encoded data removed]",
      "text/plain": [
       "<Figure size 640x480 with 1 Axes>"
      ]
     },
     "metadata": {},
     "output_type": "display_data"
    }
   ],
   "source": [
    "import datetime\n",
    "\n",
    "net.compile(\n",
    "    loss='categorical_crossentropy'\n",
    "    , optimizer=\"rmsprop\"\n",
    "    , metrics=[\"accuracy\"]\n",
    ")\n",
    "\n",
    "history = net.fit(\n",
    "    train_ds\n",
    "    , validation_data=val_ds\n",
    "    , epochs=100\n",
    "    , callbacks=[\n",
    "        tf.keras.callbacks.EarlyStopping(min_delta=0.001, patience=3)\n",
    "    ]\n",
    ")\n",
    "\n",
    "import matplotlib.pyplot as plt\n",
    "plt.figure()\n",
    "plt.plot(history.history['loss'], label='training loss')\n",
    "plt.plot(history.history['val_loss'], label='validation loss')\n",
    "plt.xlabel('epochs')\n",
    "plt.ylabel('loss')\n",
    "plt.legend()"
   ]
  },
  {
   "cell_type": "code",
   "execution_count": 32,
   "id": "188c783a-6b2e-468f-bb29-5bf24e82e613",
   "metadata": {
    "tags": []
   },
   "outputs": [
    {
     "name": "stdout",
     "output_type": "stream",
     "text": [
      "118/118 [==============================] - 1s 11ms/step - loss: 0.0351 - accuracy: 0.9919\n"
     ]
    }
   ],
   "source": [
    "_ = net.fit(x_train, y_train, epochs=1, batch_size=512)"
   ]
  },
  {
   "cell_type": "code",
   "execution_count": 33,
   "id": "0ebb1b98-9ad9-4ce0-8c7f-23586e66f940",
   "metadata": {
    "tags": []
   },
   "outputs": [
    {
     "name": "stdout",
     "output_type": "stream",
     "text": [
      "1875/1875 [==============================] - 2s 1ms/step - loss: 0.0142 - accuracy: 0.9958\n",
      "313/313 [==============================] - 0s 1ms/step - loss: 0.0266 - accuracy: 0.9934\n"
     ]
    },
    {
     "data": {
      "text/plain": [
       "([0.01415741816163063, 0.9958166480064392],\n",
       " [0.02656857669353485, 0.993399977684021])"
      ]
     },
     "execution_count": 33,
     "metadata": {},
     "output_type": "execute_result"
    }
   ],
   "source": [
    "(x_train, y_train), (x_test, y_test) = pp.load_data(return_eval=True)\n",
    "\n",
    "net.evaluate(x_train, y_train), net.evaluate(x_test, y_test)"
   ]
  },
  {
   "cell_type": "code",
   "execution_count": 34,
   "id": "0d7e776e-90ee-4482-a728-f4135cfde183",
   "metadata": {},
   "outputs": [
    {
     "data": {
      "text/plain": [
       "<tf.Tensor: shape=(10, 10), dtype=int32, numpy=\n",
       "array([[ 979,    0,    0,    0,    0,    0,    1,    0,    0,    0],\n",
       "       [   4, 1120,    0,    1,    1,    0,    7,    0,    2,    0],\n",
       "       [   0,    0, 1031,    0,    0,    0,    0,    1,    0,    0],\n",
       "       [   0,    0,    3, 1004,    0,    2,    0,    0,    1,    0],\n",
       "       [   0,    0,    0,    0,  976,    0,    0,    0,    2,    4],\n",
       "       [   0,    0,    0,    1,    0,  888,    2,    1,    0,    0],\n",
       "       [   3,    0,    0,    0,    1,    1,  952,    0,    1,    0],\n",
       "       [   0,    2,    8,    0,    0,    0,    0, 1017,    0,    1],\n",
       "       [   1,    0,    3,    0,    0,    1,    0,    0,  969,    0],\n",
       "       [   0,    0,    0,    1,    4,    1,    0,    1,    4,  998]],\n",
       "      dtype=int32)>"
      ]
     },
     "execution_count": 34,
     "metadata": {},
     "output_type": "execute_result"
    }
   ],
   "source": [
    "pp.plot_confusion_matrix(x_test, y_test, net)"
   ]
  },
  {
   "cell_type": "code",
   "execution_count": 35,
   "id": "2188b141-a023-4eb7-8352-e874e289838e",
   "metadata": {
    "tags": []
   },
   "outputs": [
    {
     "name": "stdout",
     "output_type": "stream",
     "text": [
      "844/844 [==============================] - 13s 13ms/step - loss: 0.0649 - accuracy: 0.9819\n",
      "211/211 [==============================] - 3s 13ms/step - loss: 0.0759 - accuracy: 0.9792\n",
      "118/118 [==============================] - 2s 13ms/step - loss: 0.0752 - accuracy: 0.9793\n"
     ]
    },
    {
     "data": {
      "text/plain": [
       "([0.06492283195257187, 0.9818541407585144],\n",
       " [0.07586977630853653, 0.9792037010192871],\n",
       " [0.07519837468862534, 0.9793499708175659])"
      ]
     },
     "execution_count": 35,
     "metadata": {},
     "output_type": "execute_result"
    }
   ],
   "source": [
    "net.evaluate(train_ds), net.evaluate(val_ds), net.evaluate(test_aug.batch(512))"
   ]
  },
  {
   "cell_type": "code",
   "execution_count": 77,
   "id": "77190903-24a5-4470-a61a-64ae7cb66f11",
   "metadata": {},
   "outputs": [],
   "source": [
    "net.save(modelp.joinpath(\"vgg_3.1mod1.\"+version+\".h5\").resolve().as_posix(), save_format=\"h5\")"
   ]
  },
  {
   "cell_type": "markdown",
   "id": "186e00ac-1662-454d-be61-110d7a1270f6",
   "metadata": {},
   "source": [
    "# 3.3 VGG 3.1 Mod2"
   ]
  },
  {
   "cell_type": "code",
   "execution_count": 45,
   "id": "59b274f6-fc3a-4765-adbd-8d6c3367beff",
   "metadata": {
    "tags": []
   },
   "outputs": [
    {
     "name": "stdout",
     "output_type": "stream",
     "text": [
      "Model: \"sequential_1\"\n",
      "_________________________________________________________________\n",
      "Layer (type)                 Output Shape              Param #   \n",
      "=================================================================\n",
      "conv2d_4 (Conv2D)            (None, 28, 28, 32)        320       \n",
      "_________________________________________________________________\n",
      "conv2d_5 (Conv2D)            (None, 28, 28, 32)        9248      \n",
      "_________________________________________________________________\n",
      "batch_normalization_2 (Batch (None, 28, 28, 32)        128       \n",
      "_________________________________________________________________\n",
      "max_pooling2d_2 (MaxPooling2 (None, 14, 14, 32)        0         \n",
      "_________________________________________________________________\n",
      "conv2d_6 (Conv2D)            (None, 14, 14, 64)        18496     \n",
      "_________________________________________________________________\n",
      "conv2d_7 (Conv2D)            (None, 14, 14, 64)        36928     \n",
      "_________________________________________________________________\n",
      "batch_normalization_3 (Batch (None, 14, 14, 64)        256       \n",
      "_________________________________________________________________\n",
      "max_pooling2d_3 (MaxPooling2 (None, 7, 7, 64)          0         \n",
      "_________________________________________________________________\n",
      "flatten_1 (Flatten)          (None, 3136)              0         \n",
      "_________________________________________________________________\n",
      "dense_3 (Dense)              (None, 512)               1606144   \n",
      "_________________________________________________________________\n",
      "dropout_1 (Dropout)          (None, 512)               0         \n",
      "_________________________________________________________________\n",
      "dense_4 (Dense)              (None, 512)               262656    \n",
      "_________________________________________________________________\n",
      "dense_5 (Dense)              (None, 10)                5130      \n",
      "=================================================================\n",
      "Total params: 1,939,306\n",
      "Trainable params: 1,939,114\n",
      "Non-trainable params: 192\n",
      "_________________________________________________________________\n"
     ]
    }
   ],
   "source": [
    "def conv_block(filters, kernel_size):\n",
    "    return [\n",
    "        tf.keras.layers.Conv2D(\n",
    "            filters=filters\n",
    "            , kernel_size=kernel_size\n",
    "            , strides=1\n",
    "            , padding=\"same\"\n",
    "            , activation=\"relu\"\n",
    "            , use_bias=True\n",
    "            , kernel_initializer=\"glorot_uniform\"\n",
    "            , bias_initializer=\"zeros\"\n",
    "        ),\n",
    "        tf.keras.layers.Conv2D(\n",
    "            filters=filters\n",
    "            , kernel_size=kernel_size\n",
    "            , strides=1\n",
    "            , padding=\"same\"\n",
    "            , activation=\"relu\"\n",
    "            , use_bias=True\n",
    "            , kernel_initializer=\"glorot_uniform\"\n",
    "            , bias_initializer=\"zeros\"\n",
    "        ),\n",
    "        tf.keras.layers.BatchNormalization(),\n",
    "        tf.keras.layers.MaxPool2D(\n",
    "            pool_size=2,\n",
    "            strides=2,\n",
    "            padding=\"valid\"\n",
    "        )\n",
    "    ]\n",
    "\n",
    "vggreg = tf.keras.Sequential([tf.keras.Input(shape=(28, 28, 1))]\n",
    "    + conv_block(32, 3)\n",
    "    + conv_block(64, 3)\n",
    "    + [\n",
    "        tf.keras.layers.Flatten()\n",
    "        , tf.keras.layers.Dense(\n",
    "            512\n",
    "            , activation=\"relu\"\n",
    "            , use_bias=True\n",
    "            , kernel_initializer=\"glorot_uniform\"\n",
    "            , bias_initializer=\"zeros\"\n",
    "        )\n",
    "        , tf.keras.layers.Dropout(0.3)\n",
    "        , tf.keras.layers.Dense(\n",
    "            512\n",
    "            , activation=\"relu\"\n",
    "            , use_bias=True\n",
    "            , kernel_initializer=\"glorot_uniform\"\n",
    "            , bias_initializer=\"zeros\"\n",
    "        )\n",
    "        , tf.keras.layers.Dense(\n",
    "            10\n",
    "            , activation=\"softmax\"\n",
    "        )\n",
    "    ]\n",
    ")\n",
    "net = vggreg\n",
    "net.summary()"
   ]
  },
  {
   "cell_type": "code",
   "execution_count": 27,
   "id": "cf362593-7045-4b32-9885-87ada76097b1",
   "metadata": {
    "tags": []
   },
   "outputs": [],
   "source": [
    "train_shape = tf.data.experimental.cardinality(train_aug).numpy()\n",
    "val_size = 0.2\n",
    "\n",
    "splitter = train_aug.shuffle(10000, reshuffle_each_iteration=False)\n",
    "val_ds = splitter.take(train_shape * val_size).batch(512)\n",
    "train_ds = splitter.skip(train_shape * val_size).batch(512)"
   ]
  },
  {
   "cell_type": "code",
   "execution_count": 47,
   "id": "f77f8ed4-a235-493c-a954-919b4ba18cb8",
   "metadata": {
    "tags": []
   },
   "outputs": [
    {
     "name": "stdout",
     "output_type": "stream",
     "text": [
      "Epoch 1/300\n",
      "844/844 [==============================] - 20s 20ms/step - loss: 0.3595 - accuracy: 0.8872 - val_loss: 0.0680 - val_accuracy: 0.9786\n",
      "Epoch 2/300\n",
      "844/844 [==============================] - 17s 18ms/step - loss: 0.0571 - accuracy: 0.9824 - val_loss: 0.0412 - val_accuracy: 0.9869\n",
      "Epoch 3/300\n",
      "844/844 [==============================] - 17s 18ms/step - loss: 0.0400 - accuracy: 0.9874 - val_loss: 0.0545 - val_accuracy: 0.9827\n",
      "Epoch 4/300\n",
      "844/844 [==============================] - 17s 18ms/step - loss: 0.0308 - accuracy: 0.9903 - val_loss: 0.0423 - val_accuracy: 0.9869\n",
      "Epoch 5/300\n",
      "844/844 [==============================] - 17s 18ms/step - loss: 0.0249 - accuracy: 0.9920 - val_loss: 0.0495 - val_accuracy: 0.9849\n",
      "Epoch 6/300\n",
      "844/844 [==============================] - 17s 18ms/step - loss: 0.0210 - accuracy: 0.9932 - val_loss: 0.0249 - val_accuracy: 0.9923\n",
      "Epoch 7/300\n",
      "844/844 [==============================] - 17s 18ms/step - loss: 0.0177 - accuracy: 0.9944 - val_loss: 0.0247 - val_accuracy: 0.9923\n",
      "Epoch 8/300\n",
      "844/844 [==============================] - 17s 18ms/step - loss: 0.0152 - accuracy: 0.9948 - val_loss: 0.0300 - val_accuracy: 0.9906\n",
      "Epoch 9/300\n",
      "844/844 [==============================] - 17s 18ms/step - loss: 0.0134 - accuracy: 0.9958 - val_loss: 0.0324 - val_accuracy: 0.9900\n",
      "Epoch 10/300\n",
      "844/844 [==============================] - 17s 19ms/step - loss: 0.0119 - accuracy: 0.9961 - val_loss: 0.0248 - val_accuracy: 0.9921\n",
      "Epoch 11/300\n",
      "844/844 [==============================] - 18s 19ms/step - loss: 0.0099 - accuracy: 0.9968 - val_loss: 0.0284 - val_accuracy: 0.9915\n"
     ]
    },
    {
     "data": {
      "text/plain": [
       "<matplotlib.legend.Legend at 0x7f571dfcf340>"
      ]
     },
     "execution_count": 47,
     "metadata": {},
     "output_type": "execute_result"
    },
    {
     "data": {
      "image/png": "[encoded data removed]",
      "text/plain": [
       "<Figure size 640x480 with 1 Axes>"
      ]
     },
     "metadata": {},
     "output_type": "display_data"
    }
   ],
   "source": [
    "import datetime\n",
    "\n",
    "net.compile(\n",
    "    loss='categorical_crossentropy'\n",
    "    , optimizer=tf.keras.optimizers.SGD(nesterov=True, momentum=0.9)\n",
    "    , metrics=[\"accuracy\"]\n",
    ")\n",
    "\n",
    "history = net.fit(\n",
    "    train_ds\n",
    "    , validation_data=val_ds\n",
    "    , epochs=300\n",
    "    , callbacks=[\n",
    "        tf.keras.callbacks.EarlyStopping(min_delta=0.001, patience=5)\n",
    "        , tf.keras.callbacks.ReduceLROnPlateau(factor=0.2, patience=5, min_lr=1e-5)\n",
    "    ]\n",
    ")\n",
    "\n",
    "import matplotlib.pyplot as plt\n",
    "plt.figure()\n",
    "plt.plot(history.history['loss'], label='training loss')\n",
    "plt.plot(history.history['val_loss'], label='validation loss')\n",
    "plt.xlabel('epochs')\n",
    "plt.ylabel('loss')\n",
    "plt.legend()"
   ]
  },
  {
   "cell_type": "code",
   "execution_count": 38,
   "id": "1e9e4305-0dfa-4df5-b4e6-4d320ca3e51b",
   "metadata": {
    "tags": []
   },
   "outputs": [
    {
     "name": "stdout",
     "output_type": "stream",
     "text": [
      "118/118 [==============================] - 1s 7ms/step - loss: 0.0132 - accuracy: 0.9958\n"
     ]
    }
   ],
   "source": [
    "# epochs=1\n",
    "_ = net.fit(x_train, y_train, epochs=1, batch_size=512)"
   ]
  },
  {
   "cell_type": "code",
   "execution_count": 39,
   "id": "c3d9eb32-0589-4f40-9a82-48789d61df55",
   "metadata": {
    "tags": []
   },
   "outputs": [
    {
     "name": "stdout",
     "output_type": "stream",
     "text": [
      "1172/1172 [==============================] - 18s 15ms/step - loss: 0.0049 - accuracy: 0.9985\n"
     ]
    }
   ],
   "source": [
    "augp = Path(\"../scratch\").joinpath(\"train_augmented_v1\")\n",
    "# epochs=1\n",
    "train_aug, _ = pp.load_aug_data(augp.resolve(), train_ir.element_spec, test_ind=[])\n",
    "_ = net.fit(train_aug.batch(512), epochs=1)"
   ]
  },
  {
   "cell_type": "code",
   "execution_count": 16,
   "id": "eecb7b25-e114-4a97-a2d2-74964558df86",
   "metadata": {
    "tags": []
   },
   "outputs": [
    {
     "name": "stdout",
     "output_type": "stream",
     "text": [
      "1875/1875 [==============================] - 2s 1ms/step - loss: 0.0155 - accuracy: 0.9957\n",
      "313/313 [==============================] - 1s 2ms/step - loss: 0.0315 - accuracy: 0.9921\n"
     ]
    },
    {
     "data": {
      "text/plain": [
       "([0.01553743053227663, 0.9956833124160767],\n",
       " [0.03149672970175743, 0.9921000003814697])"
      ]
     },
     "execution_count": 16,
     "metadata": {},
     "output_type": "execute_result"
    }
   ],
   "source": [
    "(x_train, y_train), (x_test, y_test) = pp.load_data(return_eval=True)\n",
    "\n",
    "net.evaluate(x_train, y_train), net.evaluate(x_test, y_test)"
   ]
  },
  {
   "cell_type": "code",
   "execution_count": 17,
   "id": "943f1118-05a5-414a-bccc-66ff30131628",
   "metadata": {
    "tags": []
   },
   "outputs": [
    {
     "data": {
      "text/plain": [
       "<tf.Tensor: shape=(10, 10), dtype=int32, numpy=\n",
       "array([[ 978,    0,    0,    0,    0,    1,    0,    1,    0,    0],\n",
       "       [   0, 1131,    1,    1,    0,    0,    0,    2,    0,    0],\n",
       "       [   2,    0, 1021,    3,    0,    0,    0,    5,    1,    0],\n",
       "       [   0,    0,    0, 1008,    0,    1,    0,    1,    0,    0],\n",
       "       [   0,    0,    0,    0,  970,    0,    0,    2,    2,    8],\n",
       "       [   0,    0,    0,    3,    0,  885,    3,    1,    0,    0],\n",
       "       [   6,    2,    0,    1,    1,    1,  946,    0,    1,    0],\n",
       "       [   0,    1,    6,    1,    0,    0,    0, 1019,    0,    1],\n",
       "       [   0,    0,    1,    1,    1,    2,    0,    1,  967,    1],\n",
       "       [   0,    0,    0,    0,    7,    2,    0,    3,    1,  996]],\n",
       "      dtype=int32)>"
      ]
     },
     "execution_count": 17,
     "metadata": {},
     "output_type": "execute_result"
    }
   ],
   "source": [
    "pp.plot_confusion_matrix(x_test, y_test, net)"
   ]
  },
  {
   "cell_type": "code",
   "execution_count": 28,
   "id": "53f383fd-f8ec-4820-bf44-75727e15ba70",
   "metadata": {
    "tags": []
   },
   "outputs": [
    {
     "data": {
      "text/plain": [
       "<tf.Tensor: shape=(10, 10), dtype=int32, numpy=\n",
       "array([[5443,   15,   73,   30,   18,   45,   93,   60,   30,  116],\n",
       "       [   6, 6037,  231,    5,   17,   93,   26,  319,    3,    5],\n",
       "       [  75,   32, 4809,   88,  161,   38,   50,  383,  236,   86],\n",
       "       [  77,   10,  140, 5169,  159,  131,   74,  275,   49,   47],\n",
       "       [  14,  106,  157,   62, 4687,  238,   34,  211,  233,  100],\n",
       "       [  81,   24,   31,   55,  136, 4544,  213,  106,   40,  191],\n",
       "       [ 104,   54,   94,   42,   74,  379, 4912,    4,  106,  149],\n",
       "       [  38,  204,  471,  116,   94,   95,    3, 5175,   15,   54],\n",
       "       [ 108,   21,  242,   38,  142,   87,  173,   30, 4748,  262],\n",
       "       [ 110,   27,  147,   53,  126,  277,   53,  104,  180, 4872]],\n",
       "      dtype=int32)>"
      ]
     },
     "execution_count": 28,
     "metadata": {},
     "output_type": "execute_result"
    }
   ],
   "source": [
    "test_aug_lab = np.array(list(test_aug.map(lambda _, y: y).as_numpy_iterator()))\n",
    "test_aug_preds = np.array(list(net.predict(test_aug.batch(512))))\n",
    "tf.math.confusion_matrix(np.argmax(test_aug_lab, axis=1), np.argmax(test_aug_preds, axis=1))"
   ]
  },
  {
   "cell_type": "code",
   "execution_count": null,
   "id": "d8c9771a-c3a5-4064-8d4f-080b3cbd209d",
   "metadata": {
    "tags": []
   },
   "outputs": [
    {
     "name": "stdout",
     "output_type": "stream",
     "text": [
      "844/844 [==============================] - 12s 12ms/step - loss: 1.1747 - accuracy: 0.8410\n",
      "211/211 [==============================] - 3s 11ms/step - loss: 1.1838 - accuracy: 0.8408\n",
      " 16/118 [===>..........................] - ETA: 1s - loss: 1.1526 - accuracy: 0.8469"
     ]
    }
   ],
   "source": [
    "net.evaluate(train_ds), net.evaluate(val_ds), net.evaluate(test_aug.batch(512))"
   ]
  },
  {
   "cell_type": "code",
   "execution_count": 49,
   "id": "3dc5a42d-4dd0-4b34-ad07-2a9882b0a580",
   "metadata": {
    "tags": []
   },
   "outputs": [],
   "source": [
    "net.save(modelp.joinpath(\"vgg_3.1mod2.\"+version+\".h5\").resolve().as_posix(), save_format=\"h5\")"
   ]
  },
  {
   "cell_type": "code",
   "execution_count": null,
   "id": "def3a105-3787-4eef-b64b-01df0bf4391d",
   "metadata": {},
   "outputs": [],
   "source": []
  }
 ],
 "metadata": {
  "kernelspec": {
   "display_name": "Python 3 (ipykernel)",
   "language": "python",
   "name": "python3"
  },
  "language_info": {
   "codemirror_mode": {
    "name": "ipython",
    "version": 3
   },
   "file_extension": ".py",
   "mimetype": "text/x-python",
   "name": "python",
   "nbconvert_exporter": "python",
   "pygments_lexer": "ipython3",
   "version": "3.8.12"
  }
 },
 "nbformat": 4,
 "nbformat_minor": 5
}
