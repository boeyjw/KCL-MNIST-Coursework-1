{
 "cells": [
  {
   "cell_type": "code",
   "execution_count": 1,
   "metadata": {
    "tags": []
   },
   "outputs": [],
   "source": [
    "%load_ext autoreload\n",
    "%autoreload 2"
   ]
  },
  {
   "cell_type": "code",
   "execution_count": 2,
   "metadata": {
    "tags": []
   },
   "outputs": [
    {
     "name": "stderr",
     "output_type": "stream",
     "text": [
      "2023-02-22 15:35:29.002566: I tensorflow/stream_executor/platform/default/dso_loader.cc:49] Successfully opened dynamic library libcudart.so.11.0\n",
      "2023-02-22 15:35:57.691808: I tensorflow/stream_executor/platform/default/dso_loader.cc:49] Successfully opened dynamic library libcuda.so.1\n",
      "2023-02-22 15:35:58.028980: I tensorflow/core/common_runtime/gpu/gpu_device.cc:1720] Found device 0 with properties: \n",
      "pciBusID: 0000:b1:00.0 name: NVIDIA A100-SXM4-40GB computeCapability: 8.0\n",
      "coreClock: 1.41GHz coreCount: 108 deviceMemorySize: 39.41GiB deviceMemoryBandwidth: 1.41TiB/s\n",
      "2023-02-22 15:35:58.029004: I tensorflow/stream_executor/platform/default/dso_loader.cc:49] Successfully opened dynamic library libcudart.so.11.0\n",
      "2023-02-22 15:35:58.035454: I tensorflow/stream_executor/platform/default/dso_loader.cc:49] Successfully opened dynamic library libcublas.so.11\n",
      "2023-02-22 15:35:58.035505: I tensorflow/stream_executor/platform/default/dso_loader.cc:49] Successfully opened dynamic library libcublasLt.so.11\n",
      "2023-02-22 15:35:58.036904: I tensorflow/stream_executor/platform/default/dso_loader.cc:49] Successfully opened dynamic library libcufft.so.10\n",
      "2023-02-22 15:35:58.037559: I tensorflow/stream_executor/platform/default/dso_loader.cc:49] Successfully opened dynamic library libcurand.so.10\n",
      "2023-02-22 15:35:58.040561: I tensorflow/stream_executor/platform/default/dso_loader.cc:49] Successfully opened dynamic library libcusolver.so.11\n",
      "2023-02-22 15:35:58.041645: I tensorflow/stream_executor/platform/default/dso_loader.cc:49] Successfully opened dynamic library libcusparse.so.11\n",
      "2023-02-22 15:35:58.042221: I tensorflow/stream_executor/platform/default/dso_loader.cc:49] Successfully opened dynamic library libcudnn.so.8\n",
      "2023-02-22 15:35:58.044865: I tensorflow/core/common_runtime/gpu/gpu_device.cc:1862] Adding visible gpu devices: 0\n",
      "2023-02-22 15:35:58.047537: I tensorflow/core/common_runtime/gpu/gpu_device.cc:1720] Found device 0 with properties: \n",
      "pciBusID: 0000:b1:00.0 name: NVIDIA A100-SXM4-40GB computeCapability: 8.0\n",
      "coreClock: 1.41GHz coreCount: 108 deviceMemorySize: 39.41GiB deviceMemoryBandwidth: 1.41TiB/s\n",
      "2023-02-22 15:35:58.047554: I tensorflow/stream_executor/platform/default/dso_loader.cc:49] Successfully opened dynamic library libcudart.so.11.0\n",
      "2023-02-22 15:35:58.047569: I tensorflow/stream_executor/platform/default/dso_loader.cc:49] Successfully opened dynamic library libcublas.so.11\n",
      "2023-02-22 15:35:58.047576: I tensorflow/stream_executor/platform/default/dso_loader.cc:49] Successfully opened dynamic library libcublasLt.so.11\n",
      "2023-02-22 15:35:58.047582: I tensorflow/stream_executor/platform/default/dso_loader.cc:49] Successfully opened dynamic library libcufft.so.10\n",
      "2023-02-22 15:35:58.047589: I tensorflow/stream_executor/platform/default/dso_loader.cc:49] Successfully opened dynamic library libcurand.so.10\n",
      "2023-02-22 15:35:58.047595: I tensorflow/stream_executor/platform/default/dso_loader.cc:49] Successfully opened dynamic library libcusolver.so.11\n",
      "2023-02-22 15:35:58.047602: I tensorflow/stream_executor/platform/default/dso_loader.cc:49] Successfully opened dynamic library libcusparse.so.11\n",
      "2023-02-22 15:35:58.047608: I tensorflow/stream_executor/platform/default/dso_loader.cc:49] Successfully opened dynamic library libcudnn.so.8\n",
      "2023-02-22 15:35:58.050178: I tensorflow/core/common_runtime/gpu/gpu_device.cc:1862] Adding visible gpu devices: 0\n",
      "2023-02-22 15:35:58.050198: I tensorflow/stream_executor/platform/default/dso_loader.cc:49] Successfully opened dynamic library libcudart.so.11.0\n",
      "2023-02-22 15:35:58.537583: I tensorflow/core/common_runtime/gpu/gpu_device.cc:1261] Device interconnect StreamExecutor with strength 1 edge matrix:\n",
      "2023-02-22 15:35:58.537612: I tensorflow/core/common_runtime/gpu/gpu_device.cc:1267]      0 \n",
      "2023-02-22 15:35:58.537618: I tensorflow/core/common_runtime/gpu/gpu_device.cc:1280] 0:   N \n",
      "2023-02-22 15:35:58.541138: I tensorflow/core/common_runtime/gpu/gpu_device.cc:1406] Created TensorFlow device (/job:localhost/replica:0/task:0/device:GPU:0 with 37428 MB memory) -> physical GPU (device: 0, name: NVIDIA A100-SXM4-40GB, pci bus id: 0000:b1:00.0, compute capability: 8.0)\n"
     ]
    }
   ],
   "source": [
    "from pathlib import Path\n",
    "import preproc as pp\n",
    "\n",
    "import tensorflow as tf\n",
    "\n",
    "augp = Path(\"../scratch\").joinpath(\"train_augmented\")\n",
    "modelp = Path(\"../scratch\").joinpath(\"models\")\n",
    "\n",
    "train_ir, test_ir = pp.load_data(val_size=0)\n",
    "train_aug, test_aug = pp.load_aug_data(augp, train_ir.element_spec, test_ind=[5])"
   ]
  },
  {
   "cell_type": "code",
   "execution_count": 3,
   "metadata": {
    "tags": []
   },
   "outputs": [
    {
     "name": "stdout",
     "output_type": "stream",
     "text": [
      "Model: \"model\"\n",
      "_________________________________________________________________\n",
      "Layer (type)                 Output Shape              Param #   \n",
      "=================================================================\n",
      "input_1 (InputLayer)         [(None, 28, 28, 1)]       0         \n",
      "_________________________________________________________________\n",
      "conv2d (Conv2D)              (None, 24, 24, 32)        832       \n",
      "_________________________________________________________________\n",
      "max_pooling2d (MaxPooling2D) (None, 12, 12, 32)        0         \n",
      "_________________________________________________________________\n",
      "conv2d_1 (Conv2D)            (None, 10, 10, 32)        9248      \n",
      "_________________________________________________________________\n",
      "max_pooling2d_1 (MaxPooling2 (None, 5, 5, 32)          0         \n",
      "_________________________________________________________________\n",
      "flatten (Flatten)            (None, 800)               0         \n",
      "_________________________________________________________________\n",
      "dense (Dense)                (None, 256)               205056    \n",
      "_________________________________________________________________\n",
      "dropout (Dropout)            (None, 256)               0         \n",
      "_________________________________________________________________\n",
      "dense_1 (Dense)              (None, 10)                2570      \n",
      "=================================================================\n",
      "Total params: 217,706\n",
      "Trainable params: 217,706\n",
      "Non-trainable params: 0\n",
      "_________________________________________________________________\n"
     ]
    }
   ],
   "source": [
    "from tensorflow.keras.models import Model\n",
    "from tensorflow.keras.layers import Conv2D, MaxPool2D, Dense, Flatten, Dropout, Input\n",
    "inputs = Input(shape=(28, 28, 1))\n",
    "x = Conv2D(filters=32, kernel_size=(5,5), activation='relu')(inputs)\n",
    "x = MaxPool2D(pool_size=(2, 2))(x)\n",
    "x = Conv2D(filters=32, kernel_size=(3,3), activation='relu')(x) \n",
    "x = MaxPool2D(pool_size=(2, 2))(x)\n",
    "x = Flatten()(x)\n",
    "x = Dense(256, activation='relu')(x)\n",
    "x = Dropout(rate=0.5)(x)\n",
    "outputs = Dense(10, activation='softmax')(x)\n",
    "net = Model(inputs=inputs, outputs=outputs)\n",
    "\n",
    "net.summary()"
   ]
  },
  {
   "cell_type": "code",
   "execution_count": 4,
   "metadata": {
    "tags": []
   },
   "outputs": [],
   "source": [
    "train_shape = tf.data.experimental.cardinality(train_aug).numpy()\n",
    "val_size = 0.2\n",
    "\n",
    "splitter = train_aug.shuffle(10000, reshuffle_each_iteration=False)\n",
    "val_ds = splitter.take(train_shape * val_size).batch(512)\n",
    "train_ds = splitter.skip(train_shape * val_size).batch(512)"
   ]
  },
  {
   "cell_type": "code",
   "execution_count": 5,
   "metadata": {
    "tags": []
   },
   "outputs": [
    {
     "name": "stdout",
     "output_type": "stream",
     "text": [
      "Epoch 1/20\n"
     ]
    },
    {
     "name": "stderr",
     "output_type": "stream",
     "text": [
      "2023-02-22 15:35:59.756249: I tensorflow/compiler/mlir/mlir_graph_optimization_pass.cc:116] None of the MLIR optimization passes are enabled (registered 2)\n",
      "2023-02-22 15:35:59.759305: I tensorflow/core/platform/profile_utils/cpu_utils.cc:112] CPU Frequency: 3000000000 Hz\n",
      "2023-02-22 15:35:59.806018: I tensorflow/stream_executor/platform/default/dso_loader.cc:49] Successfully opened dynamic library libcublas.so.11\n",
      "2023-02-22 15:36:00.498488: I tensorflow/stream_executor/platform/default/dso_loader.cc:49] Successfully opened dynamic library libcublasLt.so.11\n",
      "2023-02-22 15:36:01.745318: I tensorflow/stream_executor/platform/default/dso_loader.cc:49] Successfully opened dynamic library libcudnn.so.8\n"
     ]
    },
    {
     "name": "stdout",
     "output_type": "stream",
     "text": [
      " 13/844 [..............................] - ETA: 11s - loss: 2.2427 - accuracy: 0.1889  "
     ]
    },
    {
     "name": "stderr",
     "output_type": "stream",
     "text": [
      "2023-02-22 15:36:03.693930: I tensorflow/stream_executor/cuda/cuda_blas.cc:1838] TensorFloat-32 will be used for the matrix multiplication. This will only be logged once.\n"
     ]
    },
    {
     "name": "stdout",
     "output_type": "stream",
     "text": [
      "844/844 [==============================] - 17s 14ms/step - loss: 0.6793 - accuracy: 0.7795 - val_loss: 0.1116 - val_accuracy: 0.9653\n",
      "Epoch 2/20\n",
      "844/844 [==============================] - 13s 14ms/step - loss: 0.1498 - accuracy: 0.9546 - val_loss: 0.0774 - val_accuracy: 0.9756\n",
      "Epoch 3/20\n",
      "844/844 [==============================] - 13s 14ms/step - loss: 0.1098 - accuracy: 0.9671 - val_loss: 0.0635 - val_accuracy: 0.9803\n",
      "Epoch 4/20\n",
      "844/844 [==============================] - 13s 13ms/step - loss: 0.0917 - accuracy: 0.9725 - val_loss: 0.0529 - val_accuracy: 0.9836\n",
      "Epoch 5/20\n",
      "844/844 [==============================] - 13s 14ms/step - loss: 0.0771 - accuracy: 0.9768 - val_loss: 0.0474 - val_accuracy: 0.9852\n",
      "Epoch 6/20\n",
      "844/844 [==============================] - 14s 14ms/step - loss: 0.0683 - accuracy: 0.9793 - val_loss: 0.0436 - val_accuracy: 0.9865\n",
      "Epoch 7/20\n",
      "844/844 [==============================] - 13s 13ms/step - loss: 0.0610 - accuracy: 0.9816 - val_loss: 0.0406 - val_accuracy: 0.9875\n",
      "Epoch 8/20\n",
      "844/844 [==============================] - 13s 14ms/step - loss: 0.0546 - accuracy: 0.9836 - val_loss: 0.0357 - val_accuracy: 0.9887\n",
      "Epoch 9/20\n",
      "844/844 [==============================] - 13s 14ms/step - loss: 0.0510 - accuracy: 0.9844 - val_loss: 0.0357 - val_accuracy: 0.9890\n",
      "Epoch 10/20\n",
      "844/844 [==============================] - 13s 14ms/step - loss: 0.0464 - accuracy: 0.9858 - val_loss: 0.0344 - val_accuracy: 0.9895\n",
      "Epoch 11/20\n",
      "844/844 [==============================] - 13s 14ms/step - loss: 0.0425 - accuracy: 0.9869 - val_loss: 0.0310 - val_accuracy: 0.9904\n",
      "Epoch 12/20\n",
      "844/844 [==============================] - 13s 14ms/step - loss: 0.0400 - accuracy: 0.9875 - val_loss: 0.0304 - val_accuracy: 0.9908\n",
      "Epoch 13/20\n",
      "844/844 [==============================] - 13s 14ms/step - loss: 0.0389 - accuracy: 0.9875 - val_loss: 0.0307 - val_accuracy: 0.9908\n",
      "Epoch 14/20\n",
      "844/844 [==============================] - 14s 14ms/step - loss: 0.0367 - accuracy: 0.9884 - val_loss: 0.0323 - val_accuracy: 0.9903\n",
      "Epoch 15/20\n",
      "844/844 [==============================] - 14s 14ms/step - loss: 0.0344 - accuracy: 0.9890 - val_loss: 0.0291 - val_accuracy: 0.9911\n",
      "Epoch 16/20\n",
      "844/844 [==============================] - 13s 13ms/step - loss: 0.0328 - accuracy: 0.9893 - val_loss: 0.0295 - val_accuracy: 0.9911\n",
      "Epoch 17/20\n",
      "844/844 [==============================] - 13s 13ms/step - loss: 0.0308 - accuracy: 0.9899 - val_loss: 0.0292 - val_accuracy: 0.9913\n",
      "Epoch 18/20\n",
      "844/844 [==============================] - 13s 14ms/step - loss: 0.0296 - accuracy: 0.9905 - val_loss: 0.0289 - val_accuracy: 0.9917\n",
      "Epoch 19/20\n",
      "844/844 [==============================] - 13s 14ms/step - loss: 0.0288 - accuracy: 0.9907 - val_loss: 0.0263 - val_accuracy: 0.9921\n",
      "Epoch 20/20\n",
      "844/844 [==============================] - 13s 13ms/step - loss: 0.0280 - accuracy: 0.9908 - val_loss: 0.0278 - val_accuracy: 0.9917\n"
     ]
    },
    {
     "data": {
      "text/plain": [
       "<matplotlib.legend.Legend at 0x7f669cddfd60>"
      ]
     },
     "execution_count": 5,
     "metadata": {},
     "output_type": "execute_result"
    },
    {
     "data": {
      "image/png": "[encoded data removed]",
      "text/plain": [
       "<Figure size 640x480 with 1 Axes>"
      ]
     },
     "metadata": {},
     "output_type": "display_data"
    }
   ],
   "source": [
    "import datetime\n",
    "\n",
    "net.compile(loss='categorical_crossentropy', optimizer='adam', metrics=[\"accuracy\"])\n",
    "\n",
    "history = net.fit(train_ds, validation_data=val_ds, epochs=20)\n",
    "\n",
    "import matplotlib.pyplot as plt\n",
    "plt.figure()\n",
    "plt.plot(history.history['loss'], label='training loss')\n",
    "plt.plot(history.history['val_loss'], label='validation loss')\n",
    "plt.xlabel('epochs')\n",
    "plt.ylabel('loss')\n",
    "plt.legend()"
   ]
  },
  {
   "cell_type": "code",
   "execution_count": 7,
   "metadata": {
    "tags": []
   },
   "outputs": [
    {
     "name": "stdout",
     "output_type": "stream",
     "text": [
      "1875/1875 [==============================] - 3s 2ms/step - loss: 0.0575 - accuracy: 0.9857\n"
     ]
    }
   ],
   "source": [
    "(x_train, y_train), (x_test, y_test) = pp.load_data(return_eval=True)\n",
    "\n",
    "_ = net.fit(x_train, y_train, epochs=1)"
   ]
  },
  {
   "cell_type": "code",
   "execution_count": 8,
   "metadata": {
    "tags": []
   },
   "outputs": [
    {
     "name": "stdout",
     "output_type": "stream",
     "text": [
      "1875/1875 [==============================] - 2s 1ms/step - loss: 0.0141 - accuracy: 0.9956\n",
      "313/313 [==============================] - 0s 1ms/step - loss: 0.0220 - accuracy: 0.9934\n"
     ]
    },
    {
     "data": {
      "text/plain": [
       "([0.014097415842115879, 0.9956499934196472],\n",
       " [0.022037848830223083, 0.993399977684021])"
      ]
     },
     "execution_count": 8,
     "metadata": {},
     "output_type": "execute_result"
    }
   ],
   "source": [
    "net.evaluate(x_train, y_train), net.evaluate(x_test, y_test)"
   ]
  },
  {
   "cell_type": "code",
   "execution_count": 9,
   "metadata": {
    "tags": []
   },
   "outputs": [
    {
     "data": {
      "text/plain": [
       "<tf.Tensor: shape=(10, 10), dtype=int32, numpy=\n",
       "array([[ 975,    0,    0,    0,    2,    0,    2,    1,    0,    0],\n",
       "       [   0, 1135,    0,    0,    0,    0,    0,    0,    0,    0],\n",
       "       [   1,    1, 1025,    1,    1,    0,    1,    2,    0,    0],\n",
       "       [   0,    0,    1, 1008,    0,    1,    0,    0,    0,    0],\n",
       "       [   0,    0,    0,    0,  977,    0,    1,    0,    0,    4],\n",
       "       [   0,    0,    0,    8,    0,  882,    2,    0,    0,    0],\n",
       "       [   1,    1,    0,    0,    1,    3,  952,    0,    0,    0],\n",
       "       [   0,    2,    3,    0,    0,    0,    0, 1020,    0,    3],\n",
       "       [   0,    0,    1,    0,    0,    1,    0,    0,  972,    0],\n",
       "       [   0,    1,    0,    4,   12,    3,    0,    1,    0,  988]],\n",
       "      dtype=int32)>"
      ]
     },
     "execution_count": 9,
     "metadata": {},
     "output_type": "execute_result"
    }
   ],
   "source": [
    "pp.plot_confusion_matrix(x_test, y_test, net)"
   ]
  },
  {
   "cell_type": "code",
   "execution_count": 10,
   "metadata": {
    "tags": []
   },
   "outputs": [
    {
     "name": "stdout",
     "output_type": "stream",
     "text": [
      "844/844 [==============================] - 10s 10ms/step - loss: 0.1063 - accuracy: 0.9659\n",
      "211/211 [==============================] - 2s 10ms/step - loss: 0.1144 - accuracy: 0.9643\n",
      "118/118 [==============================] - 1s 10ms/step - loss: 0.1166 - accuracy: 0.9639\n"
     ]
    },
    {
     "data": {
      "text/plain": [
       "([0.10625182837247849, 0.9658518433570862],\n",
       " [0.11443411558866501, 0.9643148183822632],\n",
       " [0.11656025052070618, 0.9639000296592712])"
      ]
     },
     "execution_count": 10,
     "metadata": {},
     "output_type": "execute_result"
    }
   ],
   "source": [
    "net.evaluate(train_ds), net.evaluate(val_ds), net.evaluate(test_aug.batch(512))"
   ]
  },
  {
   "cell_type": "code",
   "execution_count": 11,
   "metadata": {},
   "outputs": [],
   "source": [
    "net.save(modelp.joinpath(\"baseaug.h5\").resolve().as_posix(), save_format=\"h5\")"
   ]
  },
  {
   "cell_type": "code",
   "execution_count": null,
   "metadata": {},
   "outputs": [],
   "source": []
  }
 ],
 "metadata": {
  "interpreter": {
   "hash": "f47f96f47389329735e2db76df0edde31df912e336a24f9d24acff74976df6f2"
  },
  "kernelspec": {
   "display_name": "Python 3 (ipykernel)",
   "language": "python",
   "name": "python3"
  },
  "language_info": {
   "codemirror_mode": {
    "name": "ipython",
    "version": 3
   },
   "file_extension": ".py",
   "mimetype": "text/x-python",
   "name": "python",
   "nbconvert_exporter": "python",
   "pygments_lexer": "ipython3",
   "version": "3.8.16"
  }
 },
 "nbformat": 4,
 "nbformat_minor": 4
}
