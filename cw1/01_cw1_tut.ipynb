{
 "cells": [
  {
   "cell_type": "code",
   "execution_count": 1,
   "metadata": {
    "tags": []
   },
   "outputs": [],
   "source": [
    "%load_ext autoreload\n",
    "%autoreload 2"
   ]
  },
  {
   "cell_type": "code",
   "execution_count": 2,
   "metadata": {
    "tags": []
   },
   "outputs": [
    {
     "name": "stderr",
     "output_type": "stream",
     "text": [
      "2023-02-24 21:16:02.771370: I tensorflow/stream_executor/platform/default/dso_loader.cc:49] Successfully opened dynamic library libcudart.so.11.0\n",
      "2023-02-24 21:16:04.870384: I tensorflow/stream_executor/platform/default/dso_loader.cc:49] Successfully opened dynamic library libcuda.so.1\n",
      "2023-02-24 21:16:05.211568: I tensorflow/core/common_runtime/gpu/gpu_device.cc:1720] Found device 0 with properties: \n",
      "pciBusID: 0000:ca:00.0 name: NVIDIA A100-SXM4-40GB computeCapability: 8.0\n",
      "coreClock: 1.41GHz coreCount: 108 deviceMemorySize: 39.41GiB deviceMemoryBandwidth: 1.41TiB/s\n",
      "2023-02-24 21:16:05.211600: I tensorflow/stream_executor/platform/default/dso_loader.cc:49] Successfully opened dynamic library libcudart.so.11.0\n",
      "2023-02-24 21:16:05.214691: I tensorflow/stream_executor/platform/default/dso_loader.cc:49] Successfully opened dynamic library libcublas.so.11\n",
      "2023-02-24 21:16:05.214763: I tensorflow/stream_executor/platform/default/dso_loader.cc:49] Successfully opened dynamic library libcublasLt.so.11\n",
      "2023-02-24 21:16:05.215719: I tensorflow/stream_executor/platform/default/dso_loader.cc:49] Successfully opened dynamic library libcufft.so.10\n",
      "2023-02-24 21:16:05.215960: I tensorflow/stream_executor/platform/default/dso_loader.cc:49] Successfully opened dynamic library libcurand.so.10\n",
      "2023-02-24 21:16:05.218665: I tensorflow/stream_executor/platform/default/dso_loader.cc:49] Successfully opened dynamic library libcusolver.so.11\n",
      "2023-02-24 21:16:05.219286: I tensorflow/stream_executor/platform/default/dso_loader.cc:49] Successfully opened dynamic library libcusparse.so.11\n",
      "2023-02-24 21:16:05.219405: I tensorflow/stream_executor/platform/default/dso_loader.cc:49] Successfully opened dynamic library libcudnn.so.8\n",
      "2023-02-24 21:16:05.222844: I tensorflow/core/common_runtime/gpu/gpu_device.cc:1862] Adding visible gpu devices: 0\n",
      "2023-02-24 21:16:05.225774: I tensorflow/core/common_runtime/gpu/gpu_device.cc:1720] Found device 0 with properties: \n",
      "pciBusID: 0000:ca:00.0 name: NVIDIA A100-SXM4-40GB computeCapability: 8.0\n",
      "coreClock: 1.41GHz coreCount: 108 deviceMemorySize: 39.41GiB deviceMemoryBandwidth: 1.41TiB/s\n",
      "2023-02-24 21:16:05.225793: I tensorflow/stream_executor/platform/default/dso_loader.cc:49] Successfully opened dynamic library libcudart.so.11.0\n",
      "2023-02-24 21:16:05.225807: I tensorflow/stream_executor/platform/default/dso_loader.cc:49] Successfully opened dynamic library libcublas.so.11\n",
      "2023-02-24 21:16:05.225814: I tensorflow/stream_executor/platform/default/dso_loader.cc:49] Successfully opened dynamic library libcublasLt.so.11\n",
      "2023-02-24 21:16:05.225821: I tensorflow/stream_executor/platform/default/dso_loader.cc:49] Successfully opened dynamic library libcufft.so.10\n",
      "2023-02-24 21:16:05.225827: I tensorflow/stream_executor/platform/default/dso_loader.cc:49] Successfully opened dynamic library libcurand.so.10\n",
      "2023-02-24 21:16:05.225834: I tensorflow/stream_executor/platform/default/dso_loader.cc:49] Successfully opened dynamic library libcusolver.so.11\n",
      "2023-02-24 21:16:05.225840: I tensorflow/stream_executor/platform/default/dso_loader.cc:49] Successfully opened dynamic library libcusparse.so.11\n",
      "2023-02-24 21:16:05.225847: I tensorflow/stream_executor/platform/default/dso_loader.cc:49] Successfully opened dynamic library libcudnn.so.8\n",
      "2023-02-24 21:16:05.229236: I tensorflow/core/common_runtime/gpu/gpu_device.cc:1862] Adding visible gpu devices: 0\n",
      "2023-02-24 21:16:05.229256: I tensorflow/stream_executor/platform/default/dso_loader.cc:49] Successfully opened dynamic library libcudart.so.11.0\n",
      "2023-02-24 21:16:05.722313: I tensorflow/core/common_runtime/gpu/gpu_device.cc:1261] Device interconnect StreamExecutor with strength 1 edge matrix:\n",
      "2023-02-24 21:16:05.722338: I tensorflow/core/common_runtime/gpu/gpu_device.cc:1267]      0 \n",
      "2023-02-24 21:16:05.722342: I tensorflow/core/common_runtime/gpu/gpu_device.cc:1280] 0:   N \n",
      "2023-02-24 21:16:05.725965: I tensorflow/core/common_runtime/gpu/gpu_device.cc:1406] Created TensorFlow device (/job:localhost/replica:0/task:0/device:GPU:0 with 37428 MB memory) -> physical GPU (device: 0, name: NVIDIA A100-SXM4-40GB, pci bus id: 0000:ca:00.0, compute capability: 8.0)\n"
     ]
    }
   ],
   "source": [
    "from pathlib import Path\n",
    "import preproc as pp\n",
    "\n",
    "import tensorflow as tf\n",
    "\n",
    "version = \"v2\"\n",
    "augp = Path(\"../scratch\").joinpath(\"train_augmented_\" + version)\n",
    "modelp = Path(\"../scratch\").joinpath(\"models\")\n",
    "\n",
    "train_ir, test_ir = pp.load_data(val_size=0)\n",
    "train_aug, test_aug = pp.load_aug_data(augp, train_ir.element_spec, test_ind=[5])"
   ]
  },
  {
   "cell_type": "code",
   "execution_count": 3,
   "metadata": {
    "tags": []
   },
   "outputs": [],
   "source": [
    "from tensorflow.keras.models import Model\n",
    "from tensorflow.keras.layers import Conv2D, MaxPool2D, Dense, Flatten, Dropout, Input\n",
    "inputs = Input(shape=(28, 28, 1))\n",
    "x = Conv2D(filters=32, kernel_size=(5,5), activation='relu')(inputs)\n",
    "x = MaxPool2D(pool_size=(2, 2))(x)\n",
    "x = Conv2D(filters=32, kernel_size=(3,3), activation='relu')(x) \n",
    "x = MaxPool2D(pool_size=(2, 2))(x)\n",
    "x = Flatten()(x)\n",
    "x = Dense(256, activation='relu')(x)\n",
    "x = Dropout(rate=0.5)(x)\n",
    "outputs = Dense(10, activation='softmax')(x)\n",
    "net = Model(inputs=inputs, outputs=outputs)"
   ]
  },
  {
   "cell_type": "code",
   "execution_count": 4,
   "metadata": {},
   "outputs": [
    {
     "name": "stdout",
     "output_type": "stream",
     "text": [
      "Model: \"model\"\n",
      "_________________________________________________________________\n",
      "Layer (type)                 Output Shape              Param #   \n",
      "=================================================================\n",
      "input_1 (InputLayer)         [(None, 28, 28, 1)]       0         \n",
      "_________________________________________________________________\n",
      "conv2d (Conv2D)              (None, 24, 24, 32)        832       \n",
      "_________________________________________________________________\n",
      "max_pooling2d (MaxPooling2D) (None, 12, 12, 32)        0         \n",
      "_________________________________________________________________\n",
      "conv2d_1 (Conv2D)            (None, 10, 10, 32)        9248      \n",
      "_________________________________________________________________\n",
      "max_pooling2d_1 (MaxPooling2 (None, 5, 5, 32)          0         \n",
      "_________________________________________________________________\n",
      "flatten (Flatten)            (None, 800)               0         \n",
      "_________________________________________________________________\n",
      "dense (Dense)                (None, 256)               205056    \n",
      "_________________________________________________________________\n",
      "dropout (Dropout)            (None, 256)               0         \n",
      "_________________________________________________________________\n",
      "dense_1 (Dense)              (None, 10)                2570      \n",
      "=================================================================\n",
      "Total params: 217,706\n",
      "Trainable params: 217,706\n",
      "Non-trainable params: 0\n",
      "_________________________________________________________________\n"
     ]
    }
   ],
   "source": [
    "net.summary()"
   ]
  },
  {
   "cell_type": "code",
   "execution_count": 12,
   "metadata": {
    "tags": []
   },
   "outputs": [],
   "source": [
    "train_shape = tf.data.experimental.cardinality(train_aug).numpy()\n",
    "val_size = 0.2\n",
    "\n",
    "splitter = train_aug.shuffle(10000, reshuffle_each_iteration=False)\n",
    "val_ds = splitter.take(train_shape * val_size)\n",
    "train_ds = splitter.skip(train_shape * val_size)"
   ]
  },
  {
   "cell_type": "code",
   "execution_count": 13,
   "metadata": {
    "tags": []
   },
   "outputs": [
    {
     "name": "stderr",
     "output_type": "stream",
     "text": [
      "2023-02-24 21:21:03.237314: I tensorflow/core/profiler/lib/profiler_session.cc:136] Profiler session initializing.\n",
      "2023-02-24 21:21:03.237336: I tensorflow/core/profiler/lib/profiler_session.cc:155] Profiler session started.\n",
      "2023-02-24 21:21:03.875964: I tensorflow/core/profiler/lib/profiler_session.cc:172] Profiler session tear down.\n",
      "2023-02-24 21:21:03.876152: I tensorflow/core/profiler/internal/gpu/cupti_tracer.cc:1487] CUPTI activity buffer flushed\n"
     ]
    },
    {
     "name": "stdout",
     "output_type": "stream",
     "text": [
      "Epoch 1/20\n",
      "   2/1688 [..............................] - ETA: 16:27 - loss: 5.2568 - accuracy: 0.2842  "
     ]
    },
    {
     "name": "stderr",
     "output_type": "stream",
     "text": [
      "2023-02-24 21:21:06.329728: I tensorflow/core/profiler/lib/profiler_session.cc:136] Profiler session initializing.\n",
      "2023-02-24 21:21:06.329756: I tensorflow/core/profiler/lib/profiler_session.cc:155] Profiler session started.\n"
     ]
    },
    {
     "name": "stdout",
     "output_type": "stream",
     "text": [
      "  26/1688 [..............................] - ETA: 1:28 - loss: 3.4786 - accuracy: 0.3184"
     ]
    },
    {
     "name": "stderr",
     "output_type": "stream",
     "text": [
      "2023-02-24 21:21:07.124312: I tensorflow/core/profiler/lib/profiler_session.cc:71] Profiler session collecting data.\n",
      "2023-02-24 21:21:07.124652: I tensorflow/core/profiler/internal/gpu/cupti_tracer.cc:1487] CUPTI activity buffer flushed\n",
      "2023-02-24 21:21:07.187977: I tensorflow/core/profiler/internal/gpu/cupti_collector.cc:228]  GpuTracer has collected 112 callback api events and 100 activity events. \n",
      "2023-02-24 21:21:07.195609: I tensorflow/core/profiler/lib/profiler_session.cc:172] Profiler session tear down.\n",
      "2023-02-24 21:21:07.217684: I tensorflow/core/profiler/rpc/client/save_profile.cc:137] Creating directory: base_logs/train/plugins/profile/2023_02_24_21_21_07\n",
      "2023-02-24 21:21:07.230171: I tensorflow/core/profiler/rpc/client/save_profile.cc:143] Dumped gzipped tool data for trace.json.gz to base_logs/train/plugins/profile/2023_02_24_21_21_07/erc-hpc-comp036.trace.json.gz\n",
      "2023-02-24 21:21:07.242838: I tensorflow/core/profiler/rpc/client/save_profile.cc:137] Creating directory: base_logs/train/plugins/profile/2023_02_24_21_21_07\n",
      "2023-02-24 21:21:07.244093: I tensorflow/core/profiler/rpc/client/save_profile.cc:143] Dumped gzipped tool data for memory_profile.json.gz to base_logs/train/plugins/profile/2023_02_24_21_21_07/erc-hpc-comp036.memory_profile.json.gz\n",
      "2023-02-24 21:21:07.244570: I tensorflow/core/profiler/rpc/client/capture_profile.cc:251] Creating directory: base_logs/train/plugins/profile/2023_02_24_21_21_07Dumped tool data for xplane.pb to base_logs/train/plugins/profile/2023_02_24_21_21_07/erc-hpc-comp036.xplane.pb\n",
      "Dumped tool data for overview_page.pb to base_logs/train/plugins/profile/2023_02_24_21_21_07/erc-hpc-comp036.overview_page.pb\n",
      "Dumped tool data for input_pipeline.pb to base_logs/train/plugins/profile/2023_02_24_21_21_07/erc-hpc-comp036.input_pipeline.pb\n",
      "Dumped tool data for tensorflow_stats.pb to base_logs/train/plugins/profile/2023_02_24_21_21_07/erc-hpc-comp036.tensorflow_stats.pb\n",
      "Dumped tool data for kernel_stats.pb to base_logs/train/plugins/profile/2023_02_24_21_21_07/erc-hpc-comp036.kernel_stats.pb\n",
      "\n"
     ]
    },
    {
     "name": "stdout",
     "output_type": "stream",
     "text": [
      "1688/1688 [==============================] - 17s 9ms/step - loss: 1.0011 - accuracy: 0.6952 - val_loss: 0.2250 - val_accuracy: 0.9327\n",
      "Epoch 2/20\n",
      "1688/1688 [==============================] - 15s 8ms/step - loss: 0.2904 - accuracy: 0.9126 - val_loss: 0.1675 - val_accuracy: 0.9496\n",
      "Epoch 3/20\n",
      "1688/1688 [==============================] - 16s 8ms/step - loss: 0.2214 - accuracy: 0.9333 - val_loss: 0.1394 - val_accuracy: 0.9571\n",
      "Epoch 4/20\n",
      "1688/1688 [==============================] - 15s 8ms/step - loss: 0.1896 - accuracy: 0.9432 - val_loss: 0.1265 - val_accuracy: 0.9618\n",
      "Epoch 5/20\n",
      "1688/1688 [==============================] - 15s 8ms/step - loss: 0.1692 - accuracy: 0.9487 - val_loss: 0.1199 - val_accuracy: 0.9635\n",
      "Epoch 6/20\n",
      "1688/1688 [==============================] - 15s 8ms/step - loss: 0.1535 - accuracy: 0.9535 - val_loss: 0.1123 - val_accuracy: 0.9659\n",
      "Epoch 7/20\n",
      "1688/1688 [==============================] - 15s 8ms/step - loss: 0.1433 - accuracy: 0.9560 - val_loss: 0.1091 - val_accuracy: 0.9671\n",
      "Epoch 8/20\n",
      "1688/1688 [==============================] - 15s 8ms/step - loss: 0.1350 - accuracy: 0.9587 - val_loss: 0.1064 - val_accuracy: 0.9675\n",
      "Epoch 9/20\n",
      "1688/1688 [==============================] - 15s 8ms/step - loss: 0.1270 - accuracy: 0.9608 - val_loss: 0.1054 - val_accuracy: 0.9689\n",
      "Epoch 10/20\n",
      "1688/1688 [==============================] - 15s 8ms/step - loss: 0.1210 - accuracy: 0.9628 - val_loss: 0.1018 - val_accuracy: 0.9692\n",
      "Epoch 11/20\n",
      "1688/1688 [==============================] - 15s 8ms/step - loss: 0.1169 - accuracy: 0.9634 - val_loss: 0.0960 - val_accuracy: 0.9713\n",
      "Epoch 12/20\n",
      "1688/1688 [==============================] - 15s 8ms/step - loss: 0.1114 - accuracy: 0.9651 - val_loss: 0.0993 - val_accuracy: 0.9704\n",
      "Epoch 13/20\n",
      "1688/1688 [==============================] - 15s 8ms/step - loss: 0.1081 - accuracy: 0.9662 - val_loss: 0.1004 - val_accuracy: 0.9703\n",
      "Epoch 14/20\n",
      "1688/1688 [==============================] - 15s 8ms/step - loss: 0.1054 - accuracy: 0.9671 - val_loss: 0.0990 - val_accuracy: 0.9714\n",
      "Epoch 15/20\n",
      "1688/1688 [==============================] - 15s 8ms/step - loss: 0.1004 - accuracy: 0.9683 - val_loss: 0.0960 - val_accuracy: 0.9720\n",
      "Epoch 16/20\n",
      "1688/1688 [==============================] - 15s 8ms/step - loss: 0.0992 - accuracy: 0.9689 - val_loss: 0.0957 - val_accuracy: 0.9723\n",
      "Epoch 17/20\n",
      "1688/1688 [==============================] - 15s 8ms/step - loss: 0.0966 - accuracy: 0.9696 - val_loss: 0.0963 - val_accuracy: 0.9720\n",
      "Epoch 18/20\n",
      "1688/1688 [==============================] - 15s 8ms/step - loss: 0.0945 - accuracy: 0.9699 - val_loss: 0.1023 - val_accuracy: 0.9711\n",
      "Epoch 19/20\n",
      "1688/1688 [==============================] - 15s 8ms/step - loss: 0.0916 - accuracy: 0.9705 - val_loss: 0.0997 - val_accuracy: 0.9718\n",
      "Epoch 20/20\n",
      "1688/1688 [==============================] - 15s 8ms/step - loss: 0.0899 - accuracy: 0.9711 - val_loss: 0.0974 - val_accuracy: 0.9724\n"
     ]
    },
    {
     "data": {
      "text/plain": [
       "<matplotlib.legend.Legend at 0x7fecc665f160>"
      ]
     },
     "execution_count": 13,
     "metadata": {},
     "output_type": "execute_result"
    },
    {
     "data": {
      "image/png": "[encoded data removed]",
      "text/plain": [
       "<Figure size 640x480 with 1 Axes>"
      ]
     },
     "metadata": {},
     "output_type": "display_data"
    }
   ],
   "source": [
    "import datetime\n",
    "\n",
    "net.compile(loss='categorical_crossentropy', optimizer='adam', metrics=[\"accuracy\"])\n",
    "\n",
    "history = net.fit(\n",
    "    train_ds.batch(256)\n",
    "    , validation_data=val_ds.batch(256)\n",
    "    , epochs=20\n",
    "    , callbacks=[tf.keras.callbacks.TensorBoard(log_dir=\"base_logs\", histogram_freq=1, write_graph=True, write_images=True)]\n",
    ")\n",
    "\n",
    "import matplotlib.pyplot as plt\n",
    "plt.figure()\n",
    "plt.plot(history.history['loss'], label='training loss')\n",
    "plt.plot(history.history['val_loss'], label='validation loss')\n",
    "plt.xlabel('epochs')\n",
    "plt.ylabel('loss')\n",
    "plt.legend()"
   ]
  },
  {
   "cell_type": "code",
   "execution_count": 14,
   "metadata": {
    "tags": []
   },
   "outputs": [
    {
     "name": "stdout",
     "output_type": "stream",
     "text": [
      "1875/1875 [==============================] - 2s 1ms/step - loss: 0.1609 - accuracy: 0.9613\n",
      "313/313 [==============================] - 0s 1ms/step - loss: 0.1592 - accuracy: 0.9622\n"
     ]
    },
    {
     "data": {
      "text/plain": [
       "([0.16088786721229553, 0.9612500071525574],\n",
       " [0.15921086072921753, 0.9621999859809875])"
      ]
     },
     "execution_count": 14,
     "metadata": {},
     "output_type": "execute_result"
    }
   ],
   "source": [
    "(x_train, y_train), (x_test, y_test) = pp.load_data(return_eval=True)\n",
    "\n",
    "net.evaluate(x_train, y_train), net.evaluate(x_test, y_test)"
   ]
  },
  {
   "cell_type": "code",
   "execution_count": 16,
   "metadata": {
    "tags": []
   },
   "outputs": [
    {
     "name": "stdout",
     "output_type": "stream",
     "text": [
      "413/413 [==============================] - 10s 20ms/step - loss: 0.0405 - accuracy: 0.9871\n",
      "104/104 [==============================] - 2s 20ms/step - loss: 0.0974 - accuracy: 0.9724\n",
      "118/118 [==============================] - 1s 10ms/step - loss: 0.1000 - accuracy: 0.9726\n"
     ]
    },
    {
     "data": {
      "text/plain": [
       "([0.04047610983252525, 0.9870671033859253],\n",
       " [0.0974043533205986, 0.9723888635635376],\n",
       " [0.10003398358821869, 0.9726166725158691])"
      ]
     },
     "execution_count": 16,
     "metadata": {},
     "output_type": "execute_result"
    }
   ],
   "source": [
    "net.evaluate(train_ds.batch(1048)), net.evaluate(val_ds.batch(1048)), net.evaluate(test_aug.batch(512))"
   ]
  },
  {
   "cell_type": "code",
   "execution_count": 17,
   "metadata": {
    "tags": []
   },
   "outputs": [],
   "source": [
    "net.save(modelp.joinpath(\"baseaug.\"+version+\".h5\").resolve().as_posix(), save_format=\"h5\")"
   ]
  },
  {
   "cell_type": "code",
   "execution_count": null,
   "metadata": {},
   "outputs": [],
   "source": []
  }
 ],
 "metadata": {
  "interpreter": {
   "hash": "f47f96f47389329735e2db76df0edde31df912e336a24f9d24acff74976df6f2"
  },
  "kernelspec": {
   "display_name": "Python 3 (ipykernel)",
   "language": "python",
   "name": "python3"
  },
  "language_info": {
   "codemirror_mode": {
    "name": "ipython",
    "version": 3
   },
   "file_extension": ".py",
   "mimetype": "text/x-python",
   "name": "python",
   "nbconvert_exporter": "python",
   "pygments_lexer": "ipython3",
   "version": "3.8.12"
  }
 },
 "nbformat": 4,
 "nbformat_minor": 4
}
