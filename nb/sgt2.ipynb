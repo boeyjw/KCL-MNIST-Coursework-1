{
 "cells": [
  {
   "cell_type": "code",
   "execution_count": 2,
   "source": [
    "import numpy as np\n",
    "from tqdm import tqdm"
   ],
   "outputs": [],
   "metadata": {}
  },
  {
   "cell_type": "code",
   "execution_count": 3,
   "source": [
    "a = np.array([\n",
    "    [0.0, 2.0, 1],\n",
    "    [1.0, 2.0, 1],\n",
    "    [2.0, 1.0, 1],\n",
    "    [-3.0, 1.0, -1],\n",
    "    [-2.0, -1.0, -1],\n",
    "    [-3.0, -2.0, -1],\n",
    "])"
   ],
   "outputs": [],
   "metadata": {}
  },
  {
   "cell_type": "code",
   "execution_count": 37,
   "source": [
    "def sgt_seq_widrow_hoff(X, y, w, bias, b, eta, max_iter=100, theta=0):\n",
    "    \"\"\"Sequential Widrow-Hoff Learning\n",
    "\n",
    "    Args:\n",
    "        X (np.array): X variables\n",
    "        y (np,array): label\n",
    "        w (np.array): weight\n",
    "        bias (float): bias value\n",
    "        b (np.array): margin vector\n",
    "        eta (float): learning rate\n",
    "        max_iter (int): maximum number of iterations\n",
    "    \"\"\"\n",
    "    i = 0\n",
    "    converged = theta + 1\n",
    "    res = []\n",
    "    wb = np.concatenate((np.array([bias]), w))\n",
    "    b = np.array(b)\n",
    "    while i < max_iter: # and converged < theta:\n",
    "        for j in range(len(y)):\n",
    "            augX = np.concatenate(([1], X[j, :]))\n",
    "            if y[j] == -1:\n",
    "                augX = -augX\n",
    "            yhat = wb.T @ augX\n",
    "            byhat = (b[j] - yhat) * augX.T\n",
    "            wb = wb + eta * byhat\n",
    "            res.append((yhat, wb, byhat))\n",
    "            i = i + 1\n",
    "            converged = converged + np.abs(byhat)\n",
    "    return res"
   ],
   "outputs": [],
   "metadata": {}
  },
  {
   "cell_type": "code",
   "execution_count": 34,
   "source": [
    "res = sgt_seq_widrow_hoff(a[:, 1:3], a[:, 2], [0.0, 0.0], 1.0, [1.0, 0.5, 0.5, 0.5, 0.5, 1.0], 0.1, 20)"
   ],
   "outputs": [],
   "metadata": {}
  },
  {
   "cell_type": "code",
   "execution_count": 38,
   "source": [
    "a = np.array([\n",
    "    [0,0,1],\n",
    "    [1,0,1],\n",
    "    [2,1,1],\n",
    "    [0,1,-1],\n",
    "    [1,2,-1],\n",
    "])\n",
    "\n",
    "res = sgt_seq_widrow_hoff(a[:, 1:3], a[:, 2], [5,-1], -1.5, [2.0]*5, 0.2, 20)\n",
    "res"
   ],
   "outputs": [
    {
     "output_type": "execute_result",
     "data": {
      "text/plain": [
       "[(-2.5, array([-0.6,  5. , -0.1]), array([4.5, 0. , 4.5])),\n",
       " (-0.7, array([-0.06,  5.  ,  0.44]), array([2.7, 0. , 2.7])),\n",
       " (5.380000000000001,\n",
       "  array([-0.736,  4.324, -0.236]),\n",
       "  array([-3.38, -3.38, -3.38])),\n",
       " (-3.824, array([-1.9008,  3.1592,  0.9288]), array([-5.824, -5.824,  5.824])),\n",
       " (-3.4887999999999995,\n",
       "  array([-2.99856,  0.96368,  2.02656]),\n",
       "  array([ -5.4888, -10.9776,   5.4888])),\n",
       " (-0.9720000000000004,\n",
       "  array([-2.40416,  0.96368,  2.62096]),\n",
       "  array([2.972, 0.   , 2.972])),\n",
       " (0.2168000000000001,\n",
       "  array([-2.04752,  0.96368,  2.9776 ]),\n",
       "  array([1.7832, 0.    , 1.7832])),\n",
       " (1.8937600000000003,\n",
       "  array([-2.026272,  0.984928,  2.998848]),\n",
       "  array([0.10624, 0.10624, 0.10624])),\n",
       " (4.040192,\n",
       "  array([-1.6182336,  1.3929664,  2.5908096]),\n",
       "  array([ 2.040192,  2.040192, -2.040192])),\n",
       " (1.4231103999999997,\n",
       "  array([-1.73361152,  1.16221056,  2.70618752]),\n",
       "  array([-0.5768896, -1.1537792,  0.5768896])),\n",
       " (0.9725760000000003,\n",
       "  array([-1.52812672,  1.16221056,  2.91167232]),\n",
       "  array([1.027424, 0.      , 1.027424])),\n",
       " (1.3835456000000002,\n",
       "  array([-1.40483584,  1.16221056,  3.0349632 ]),\n",
       "  array([0.6164544, 0.       , 0.6164544])),\n",
       " (2.79233792,\n",
       "  array([-1.56330342,  1.00374298,  2.87649562]),\n",
       "  array([-0.79233792, -0.79233792, -0.79233792])),\n",
       " (3.436056064,\n",
       "  array([-1.27609221,  1.29095419,  2.5892844 ]),\n",
       "  array([ 1.43605606,  1.43605606, -1.43605606])),\n",
       " (1.2834682367999997,\n",
       "  array([-1.41939856,  1.00434148,  2.73259076]),\n",
       "  array([-0.71653176, -1.43306353,  0.71653176])),\n",
       " (1.3131921920000005,\n",
       "  array([-1.282037  ,  1.00434148,  2.86995232]),\n",
       "  array([0.68680781, 0.        , 0.68680781])),\n",
       " (1.5879153152,\n",
       "  array([-1.19962007,  1.00434148,  2.95236925]),\n",
       "  array([0.41208468, 0.        , 0.41208468])),\n",
       " (2.7570906726400004,\n",
       "  array([-1.3510382 ,  0.85292335,  2.80095112]),\n",
       "  array([-0.75709067, -0.75709067, -0.75709067])),\n",
       " (3.2990659706880003,\n",
       "  array([-1.09122501,  1.11273654,  2.54113793]),\n",
       "  array([ 1.29906597,  1.29906597, -1.29906597])),\n",
       " (1.4068898451456,\n",
       "  array([-1.20984704,  0.87549248,  2.65975996]),\n",
       "  array([-0.59311015, -1.18622031,  0.59311015]))]"
      ]
     },
     "metadata": {},
     "execution_count": 38
    }
   ],
   "metadata": {}
  },
  {
   "cell_type": "code",
   "execution_count": null,
   "source": [],
   "outputs": [],
   "metadata": {}
  }
 ],
 "metadata": {
  "orig_nbformat": 4,
  "language_info": {
   "name": "python",
   "version": "3.8.10",
   "mimetype": "text/x-python",
   "codemirror_mode": {
    "name": "ipython",
    "version": 3
   },
   "pygments_lexer": "ipython3",
   "nbconvert_exporter": "python",
   "file_extension": ".py"
  },
  "kernelspec": {
   "name": "python3",
   "display_name": "Python 3.8.10 64-bit ('env': venv)"
  },
  "interpreter": {
   "hash": "f47f96f47389329735e2db76df0edde31df912e336a24f9d24acff74976df6f2"
  }
 },
 "nbformat": 4,
 "nbformat_minor": 2
}