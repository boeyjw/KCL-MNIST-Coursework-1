{
 "cells": [
  {
   "cell_type": "code",
   "execution_count": 52,
   "metadata": {},
   "outputs": [],
   "source": [
    "import numpy as np\n",
    "import scipy\n",
    "from sklearn.datasets import load_iris\n",
    "from sklearn.decomposition import PCA"
   ]
  },
  {
   "cell_type": "code",
   "execution_count": 2,
   "metadata": {},
   "outputs": [],
   "source": [
    "data, target = load_iris(return_X_y=True)"
   ]
  },
  {
   "cell_type": "code",
   "execution_count": 211,
   "metadata": {},
   "outputs": [],
   "source": [
    "class PCAKLT:\n",
    "    def __init__(self, n_components):\n",
    "        self.mu_ = None\n",
    "        self.cov_ = None\n",
    "        self.eigenvalues_ = None\n",
    "        self.eigenvectors_ = None\n",
    "        self.explained_variance_ratio_ = None\n",
    "        self.components_ = None\n",
    "\n",
    "        self.n_components = n_components\n",
    "\n",
    "\n",
    "    def fit(self, X):\n",
    "        self.mu_ = np.mean(X, axis=0)\n",
    "        X_zero_mean = np.subtract(X, self.mu_)\n",
    "        self.cov_ = (X_zero_mean.T @ X_zero_mean) / (X_zero_mean.shape[0]-1)\n",
    "        # FIXME: eigenvectors have different sign\n",
    "        self.eigenvalues_, self.eigenvectors_ = scipy.linalg.eigh(self.cov_)\n",
    "        self.explained_variance_ratio_ = self.eigenvalues_ / np.sum(self.eigenvalues_)\n",
    "\n",
    "        if isinstance(self.n_components, int):\n",
    "            # number of components\n",
    "            vari = []\n",
    "            for i, j in enumerate(np.argsort(-self.explained_variance_ratio_)):\n",
    "                if i >= self.n_components:\n",
    "                    break\n",
    "                vari.append(j)\n",
    "            self.n_components = i\n",
    "        elif isinstance(self.n_components, float):\n",
    "            # variance explained\n",
    "            varsum = 0\n",
    "            vari = []\n",
    "            for i, j in enumerate(np.argsort(-self.explained_variance_ratio_)):\n",
    "                if varsum >= self.n_components:\n",
    "                    break\n",
    "                varsum += self.explained_variance_ratio_[j]\n",
    "                vari.append(j)\n",
    "            self.n_components = i\n",
    "        self.components_ = self.eigenvectors_[:, vari].T\n",
    "\n",
    "        return self\n",
    "\n",
    "    def transform(self, X):\n",
    "        X_zero_mean = np.subtract(X, self.mu_)\n",
    "        # FIXME: transformed values have different sign compared to sklearn\n",
    "        return (self.components_ @ X_zero_mean.T).T"
   ]
  },
  {
   "cell_type": "code",
   "execution_count": 204,
   "metadata": {},
   "outputs": [],
   "source": [
    "test_data = np.array([[1,2,3,2],[2,3,5,2],[1,1,1,1]]).T"
   ]
  },
  {
   "cell_type": "code",
   "execution_count": 205,
   "metadata": {},
   "outputs": [
    {
     "data": {
      "text/plain": [
       "array([[-1.35353252, -0.40981667],\n",
       "       [ 0.        ,  0.        ],\n",
       "       [ 2.23520712, -0.06204125],\n",
       "       [-0.8816746 ,  0.47185793]])"
      ]
     },
     "execution_count": 205,
     "metadata": {},
     "output_type": "execute_result"
    }
   ],
   "source": [
    "pca = PCAKLT(2).fit(test_data)\n",
    "pca.transform(test_data)"
   ]
  },
  {
   "cell_type": "code",
   "execution_count": 207,
   "metadata": {},
   "outputs": [
    {
     "data": {
      "text/plain": [
       "array([[-1.35353252, -0.40981667],\n",
       "       [ 0.        ,  0.        ],\n",
       "       [ 2.23520712, -0.06204125],\n",
       "       [-0.8816746 ,  0.47185793]])"
      ]
     },
     "execution_count": 207,
     "metadata": {},
     "output_type": "execute_result"
    }
   ],
   "source": [
    "skpca = PCA(2, svd_solver=\"full\").fit(test_data)\n",
    "skpca.transform(test_data)"
   ]
  },
  {
   "attachments": {},
   "cell_type": "markdown",
   "metadata": {},
   "source": [
    "# Q1"
   ]
  },
  {
   "cell_type": "code",
   "execution_count": 216,
   "metadata": {},
   "outputs": [
    {
     "data": {
      "text/plain": [
       "array([[ 2.85324867, -0.64535598,  0.11807362,  0.57689597],\n",
       "       [-0.19183919,  0.7033073 , -1.2296544 , -0.7877199 ],\n",
       "       [-0.66965831,  0.44026152, -1.51737368, -0.4007917 ],\n",
       "       [-0.60994123, -1.18412006,  0.69981949, -0.19616334],\n",
       "       [-1.23895339, -0.76481508,  0.21176112, -0.09454612]])"
      ]
     },
     "execution_count": 216,
     "metadata": {},
     "output_type": "execute_result"
    }
   ],
   "source": [
    "q1 = np.array([\n",
    "    [6.2, 2.6, 6.6, 1.9],\n",
    "    [7.2, 2.6, 3.0, 1.0],\n",
    "    [6.9, 2.4, 2.8, 0.4],\n",
    "    [4.5, 2.6, 3.4, 1.6],\n",
    "    [4.8, 2.7, 2.8, 1.0]\n",
    "])\n",
    "\n",
    "pca_iris = PCA(4).fit(data)\n",
    "pca_iris.transform(q1)"
   ]
  },
  {
   "cell_type": "code",
   "execution_count": 217,
   "metadata": {},
   "outputs": [
    {
     "data": {
      "text/plain": [
       "array([[ 2.85324867,  0.64535598, -0.11807362, -0.57689597],\n",
       "       [-0.19183919, -0.7033073 ,  1.2296544 ,  0.7877199 ],\n",
       "       [-0.66965831, -0.44026152,  1.51737368,  0.4007917 ],\n",
       "       [-0.60994123,  1.18412006, -0.69981949,  0.19616334],\n",
       "       [-1.23895339,  0.76481508, -0.21176112,  0.09454612]])"
      ]
     },
     "execution_count": 217,
     "metadata": {},
     "output_type": "execute_result"
    }
   ],
   "source": [
    "own_iris = PCAKLT(4).fit(data)\n",
    "own_iris.transform(q1)"
   ]
  },
  {
   "attachments": {},
   "cell_type": "markdown",
   "metadata": {},
   "source": [
    "# Q2"
   ]
  },
  {
   "cell_type": "code",
   "execution_count": null,
   "metadata": {},
   "outputs": [],
   "source": [
    "from sklearn.decomposition import sparse_encode"
   ]
  }
 ],
 "metadata": {
  "kernelspec": {
   "display_name": "env",
   "language": "python",
   "name": "python3"
  },
  "language_info": {
   "codemirror_mode": {
    "name": "ipython",
    "version": 3
   },
   "file_extension": ".py",
   "mimetype": "text/x-python",
   "name": "python",
   "nbconvert_exporter": "python",
   "pygments_lexer": "ipython3",
   "version": "3.10.6"
  },
  "orig_nbformat": 4
 },
 "nbformat": 4,
 "nbformat_minor": 2
}
